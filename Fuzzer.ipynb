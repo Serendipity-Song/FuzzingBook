{
  "cells": [
    {
      "cell_type": "markdown",
      "metadata": {
        "id": "view-in-github",
        "colab_type": "text"
      },
      "source": [
        "<a href=\"https://colab.research.google.com/github/Serendipity-Song/FuzzingBook/blob/main/Fuzzer.ipynb\" target=\"_parent\"><img src=\"https://colab.research.google.com/assets/colab-badge.svg\" alt=\"Open In Colab\"/></a>"
      ]
    },
    {
      "cell_type": "markdown",
      "metadata": {
        "button": false,
        "deletable": true,
        "new_sheet": false,
        "run_control": {
          "read_only": false
        },
        "tags": [],
        "id": "f3qCWxiH2C3a"
      },
      "source": [
        "# Fuzzing: Breaking Things with Random Inputs\n",
        "\n",
        "In this chapter, we'll start with one of the simplest test generation techniques.  The key idea of random text generation, also known as *fuzzing*, is to feed a _string of random characters_ into a program in the hope to uncover failures."
      ]
    },
    {
      "cell_type": "code",
      "execution_count": 1,
      "metadata": {
        "execution": {
          "iopub.execute_input": "2023-01-07T14:36:36.225209Z",
          "iopub.status.busy": "2023-01-07T14:36:36.221841Z",
          "iopub.status.idle": "2023-01-07T14:36:36.278828Z",
          "shell.execute_reply": "2023-01-07T14:36:36.279048Z"
        },
        "id": "T3dmwr4d2C3c",
        "outputId": "3cc8977b-d151-4123-f4de-a2095b2f9732",
        "colab": {
          "base_uri": "https://localhost:8080/",
          "height": 330
        }
      },
      "outputs": [
        {
          "output_type": "error",
          "ename": "ModuleNotFoundError",
          "evalue": "ignored",
          "traceback": [
            "\u001b[0;31m---------------------------------------------------------------------------\u001b[0m",
            "\u001b[0;31mModuleNotFoundError\u001b[0m                       Traceback (most recent call last)",
            "\u001b[0;32m<ipython-input-1-a15aa82a4b00>\u001b[0m in \u001b[0;36m<cell line: 1>\u001b[0;34m()\u001b[0m\n\u001b[0;32m----> 1\u001b[0;31m \u001b[0;32mfrom\u001b[0m \u001b[0mbookutils\u001b[0m \u001b[0;32mimport\u001b[0m \u001b[0mYouTubeVideo\u001b[0m\u001b[0;34m\u001b[0m\u001b[0;34m\u001b[0m\u001b[0m\n\u001b[0m\u001b[1;32m      2\u001b[0m \u001b[0mYouTubeVideo\u001b[0m\u001b[0;34m(\u001b[0m\u001b[0;34m'YjO1pIx7wS4'\u001b[0m\u001b[0;34m)\u001b[0m\u001b[0;34m\u001b[0m\u001b[0;34m\u001b[0m\u001b[0m\n",
            "\u001b[0;31mModuleNotFoundError\u001b[0m: No module named 'bookutils'",
            "",
            "\u001b[0;31m---------------------------------------------------------------------------\u001b[0;32m\nNOTE: If your import is failing due to a missing package, you can\nmanually install dependencies using either !pip or !apt.\n\nTo view examples of installing some common dependencies, click the\n\"Open Examples\" button below.\n\u001b[0;31m---------------------------------------------------------------------------\u001b[0m\n"
          ],
          "errorDetails": {
            "actions": [
              {
                "action": "open_url",
                "actionText": "Open Examples",
                "url": "/notebooks/snippets/importing_libraries.ipynb"
              }
            ]
          }
        }
      ],
      "source": [
        "from bookutils import YouTubeVideo\n",
        "YouTubeVideo('YjO1pIx7wS4')"
      ]
    },
    {
      "cell_type": "markdown",
      "metadata": {
        "button": false,
        "deletable": true,
        "new_sheet": false,
        "run_control": {
          "read_only": false
        },
        "id": "4NxIAU1C2C3d"
      },
      "source": [
        "**Prerequisites**\n",
        "\n",
        "* You should know fundamentals of software testing; for instance, from the chapter [\"Introduction to Software Testing\"](Intro_Testing.ipynb).\n",
        "* You should have a decent understanding of Python; for instance, from the [Python tutorial](https://docs.python.org/3/tutorial/).\n"
      ]
    },
    {
      "cell_type": "markdown",
      "metadata": {
        "button": false,
        "new_sheet": false,
        "run_control": {
          "read_only": false
        },
        "id": "zvFE9SqM2C3e"
      },
      "source": [
        "We can make these prerequisites explicit.  First, we'll import a standard package required for working in notebooks."
      ]
    },
    {
      "cell_type": "code",
      "execution_count": null,
      "metadata": {
        "button": false,
        "execution": {
          "iopub.execute_input": "2023-01-07T14:36:36.281308Z",
          "iopub.status.busy": "2023-01-07T14:36:36.280994Z",
          "iopub.status.idle": "2023-01-07T14:36:36.282782Z",
          "shell.execute_reply": "2023-01-07T14:36:36.283042Z"
        },
        "new_sheet": false,
        "run_control": {
          "read_only": false
        },
        "id": "zvszaM_E2C3e"
      },
      "outputs": [],
      "source": [
        "import bookutils"
      ]
    },
    {
      "cell_type": "code",
      "execution_count": null,
      "metadata": {
        "button": false,
        "execution": {
          "iopub.execute_input": "2023-01-07T14:36:36.285737Z",
          "iopub.status.busy": "2023-01-07T14:36:36.285210Z",
          "iopub.status.idle": "2023-01-07T14:36:36.286558Z",
          "shell.execute_reply": "2023-01-07T14:36:36.286771Z"
        },
        "new_sheet": false,
        "run_control": {
          "read_only": false
        },
        "id": "bv7E3QIG2C3e"
      },
      "outputs": [],
      "source": [
        "from typing import Dict, Tuple, Union, List, Any"
      ]
    },
    {
      "cell_type": "markdown",
      "metadata": {
        "id": "oN4a0lH02C3e"
      },
      "source": [
        "Now, we explicitly import (and thus require) the earlier chapter."
      ]
    },
    {
      "cell_type": "code",
      "execution_count": null,
      "metadata": {
        "execution": {
          "iopub.execute_input": "2023-01-07T14:36:36.288960Z",
          "iopub.status.busy": "2023-01-07T14:36:36.288601Z",
          "iopub.status.idle": "2023-01-07T14:36:36.326925Z",
          "shell.execute_reply": "2023-01-07T14:36:36.327122Z"
        },
        "id": "k66GbgmR2C3e"
      },
      "outputs": [],
      "source": [
        "import Intro_Testing"
      ]
    },
    {
      "cell_type": "markdown",
      "metadata": {
        "id": "u4EnA0522C3e"
      },
      "source": [
        "## Synopsis\n",
        "<!-- Automatically generated. Do not edit. -->\n",
        "\n",
        "To [use the code provided in this chapter](Importing.ipynb), write\n",
        "\n",
        "```python\n",
        ">>> from fuzzingbook.Fuzzer import <identifier>\n",
        "```\n",
        "\n",
        "and then make use of the following features.\n",
        "\n",
        "\n",
        "This chapter provides two important classes, introduced in [A Fuzzing Architecture](#A-Fuzzing-Architecture):\n",
        "\n",
        "* `Fuzzer` as a base class for fuzzers; and\n",
        "* `Runner` as a base class for programs under test.\n",
        "\n",
        "### Fuzzers\n",
        "\n",
        "`Fuzzer` is a base class for fuzzers, with `RandomFuzzer` as a simple instantiation.  The `fuzz()` method of `Fuzzer` objects returns a string with a generated input.\n",
        "\n",
        "```python\n",
        ">>> random_fuzzer = RandomFuzzer()\n",
        ">>> random_fuzzer.fuzz()\n",
        "'%$<1&<%+=!\"83?+)9:++9138 42/ \"7;0-,)06 \"1(2;6>?99$%7!!*#96=>2&-/(5*)=$;0$$+;<12\"?30&'\n",
        "```\n",
        "The `RandomFuzzer()` constructor allows to specify a number of keyword arguments:\n",
        "\n",
        "```python\n",
        ">>> print(RandomFuzzer.__init__.__doc__)\n",
        "Produce strings of `min_length` to `max_length` characters\n",
        "           in the range [`char_start`, `char_start` + `char_range`)\n",
        "\n",
        ">>> random_fuzzer = RandomFuzzer(min_length=10, max_length=20, char_start=65, char_range=26)\n",
        ">>> random_fuzzer.fuzz()\n",
        "'XGZVDDPZOOW'\n",
        "```\n",
        "![](PICS/Fuzzer-synopsis-1.svg)\n",
        "\n",
        "### Runners\n",
        "\n",
        "A `Fuzzer` can be paired with a `Runner`, which takes the fuzzed strings as input. Its result is a class-specific _status_ and an _outcome_ (`PASS`, `FAIL`, or `UNRESOLVED`). A `PrintRunner` will simply print out the given input and return a `PASS` outcome:\n",
        "\n",
        "```python\n",
        ">>> print_runner = PrintRunner()\n",
        ">>> random_fuzzer.run(print_runner)\n",
        "EQYGAXPTVPJGTYHXFJ\n",
        "\n",
        "('EQYGAXPTVPJGTYHXFJ', 'UNRESOLVED')\n",
        "```\n",
        "A `ProgramRunner` will feed the generated input into an external program.  Its result is a pair of the program status (a `CompletedProcess` instance) and an _outcome_ (`PASS`, `FAIL`, or `UNRESOLVED`):\n",
        "\n",
        "```python\n",
        ">>> cat = ProgramRunner('cat')\n",
        ">>> random_fuzzer.run(cat)\n",
        "(CompletedProcess(args='cat', returncode=0, stdout='BZOQTXFBTEOVYX', stderr=''),\n",
        " 'PASS')\n",
        "```\n",
        "![](PICS/Fuzzer-synopsis-2.svg)\n",
        "\n"
      ]
    },
    {
      "cell_type": "markdown",
      "metadata": {
        "button": false,
        "deletable": true,
        "new_sheet": false,
        "run_control": {
          "read_only": false
        },
        "id": "6JuMpLu82C3f"
      },
      "source": [
        "## A Testing Assignment\n",
        "\n",
        "Fuzzing was born in a \"dark and stormy night in the Fall of 1988\" \\cite{Takanen2008}.  Sitting in his apartment in Wisconsin, Madison, professor Barton Miller was connected to his university computer via a 1200 baud telephone line.  The thunderstorm caused noise on the line, and this noise in turn caused the UNIX commands on either end to get bad inputs – and crash.  The frequent crashes surprised him – surely, programs should be more robust than that?  As a scientist, he wanted to investigate the extent of the problem and its causes.  So he crafted a _programming exercise_ for his students at the University of Wisconsin-Madison – an exercise that would have his students create the first fuzzers."
      ]
    },
    {
      "cell_type": "markdown",
      "metadata": {
        "button": false,
        "deletable": true,
        "new_sheet": false,
        "run_control": {
          "read_only": false
        },
        "id": "vyE_CRpv2C3f"
      },
      "source": [
        "This is how the [assignment](http://pages.cs.wisc.edu/~bart/fuzz/CS736-Projects-f1988.pdf) read:\n",
        "\n",
        "> The goal of this project is to evaluate the robustness of various UNIX utility programs, given an unpredictable input stream. [...] First, you will build a _fuzz generator_. This is a program that will output a random character stream. Second, you will take the fuzz generator and use it to attack as many UNIX utilities as possible, with the goal of trying to break them.\n",
        "\n",
        "This assignment captures the essence of fuzzing: _Create random inputs, and see if they break things._  Just let it run long enough, and you'll see."
      ]
    },
    {
      "cell_type": "markdown",
      "metadata": {
        "button": false,
        "deletable": true,
        "new_sheet": false,
        "run_control": {
          "read_only": false
        },
        "id": "UFsjlOI-2C3f"
      },
      "source": [
        "## A Simple Fuzzer\n",
        "\n",
        "Let us try to fulfill this assignment and build a fuzz generator.  The idea is to produce random characters, adding them to a buffer string variable (`out`), and finally returning the string."
      ]
    },
    {
      "cell_type": "markdown",
      "metadata": {
        "button": false,
        "deletable": true,
        "new_sheet": false,
        "run_control": {
          "read_only": false
        },
        "id": "-RZ_gsEW2C3g"
      },
      "source": [
        "This implementation uses the following Python features and functions:\n",
        "\n",
        "* `random.randrange(start, end)` – return a random number $[$ `start`, `end` $)$\n",
        "* `range(start, end)` – create an iterator (which can be used as a list) with integers in the range $[$ `start`, `end` $)$.\n",
        "* `for elem in list: body` – execute `body` in a loop with `elem` taking each value from `list`.\n",
        "* `for i in range(start, end): body` – execute `body` in a loop with `i` from `start` to `end` $-$ 1.\n",
        "* `chr(n)` – return a character with ASCII code `n`"
      ]
    },
    {
      "cell_type": "markdown",
      "metadata": {
        "button": false,
        "deletable": true,
        "new_sheet": false,
        "run_control": {
          "read_only": false
        },
        "id": "IIyfQGxL2C3g"
      },
      "source": [
        "To use random numbers, we have to import the respective module."
      ]
    },
    {
      "cell_type": "code",
      "execution_count": null,
      "metadata": {
        "button": false,
        "deletable": true,
        "execution": {
          "iopub.execute_input": "2023-01-07T14:36:36.329290Z",
          "iopub.status.busy": "2023-01-07T14:36:36.328990Z",
          "iopub.status.idle": "2023-01-07T14:36:36.330288Z",
          "shell.execute_reply": "2023-01-07T14:36:36.330488Z"
        },
        "new_sheet": false,
        "run_control": {
          "read_only": false
        },
        "id": "CtlDentY2C3g"
      },
      "outputs": [],
      "source": [
        "import random"
      ]
    },
    {
      "cell_type": "markdown",
      "metadata": {
        "button": false,
        "deletable": true,
        "new_sheet": false,
        "run_control": {
          "read_only": false
        },
        "id": "z5uToSCN2C3g"
      },
      "source": [
        "Here comes the actual `fuzzer()` function."
      ]
    },
    {
      "cell_type": "code",
      "execution_count": null,
      "metadata": {
        "button": false,
        "code_folding": [],
        "deletable": true,
        "execution": {
          "iopub.execute_input": "2023-01-07T14:36:36.332998Z",
          "iopub.status.busy": "2023-01-07T14:36:36.332629Z",
          "iopub.status.idle": "2023-01-07T14:36:36.334053Z",
          "shell.execute_reply": "2023-01-07T14:36:36.334217Z"
        },
        "new_sheet": false,
        "run_control": {
          "read_only": false
        },
        "id": "mEM3d31k2C3g"
      },
      "outputs": [],
      "source": [
        "def fuzzer(max_length: int = 100, char_start: int = 32, char_range: int = 32) -> str:\n",
        "    \"\"\"A string of up to `max_length` characters\n",
        "       in the range [`char_start`, `char_start` + `char_range`)\"\"\"\n",
        "    string_length = random.randrange(0, max_length + 1)\n",
        "    out = \"\"\n",
        "    for i in range(0, string_length):\n",
        "        out += chr(random.randrange(char_start, char_start + char_range))\n",
        "    return out"
      ]
    },
    {
      "cell_type": "markdown",
      "metadata": {
        "button": false,
        "deletable": true,
        "new_sheet": false,
        "run_control": {
          "read_only": false
        },
        "id": "44xn4Fnm2C3g"
      },
      "source": [
        "With its default arguments, the `fuzzer()` function returns a string of random characters:"
      ]
    },
    {
      "cell_type": "code",
      "execution_count": null,
      "metadata": {
        "button": false,
        "deletable": true,
        "execution": {
          "iopub.execute_input": "2023-01-07T14:36:36.336455Z",
          "iopub.status.busy": "2023-01-07T14:36:36.336075Z",
          "iopub.status.idle": "2023-01-07T14:36:36.337943Z",
          "shell.execute_reply": "2023-01-07T14:36:36.338231Z"
        },
        "new_sheet": false,
        "run_control": {
          "read_only": false
        },
        "id": "g-SufXag2C3g",
        "outputId": "e2a81e46-b4c9-4a11-a41e-fc2c0f81d17c"
      },
      "outputs": [
        {
          "data": {
            "text/plain": [
              "'!7#%\"*#0=)$;%6*;>638:*>80\"=</>(/*:-(2<4 !:5*6856&?\"\"11<7+%<%7,4.8,*+&,,$,.\"'"
            ]
          },
          "execution_count": 7,
          "metadata": {},
          "output_type": "execute_result"
        }
      ],
      "source": [
        "fuzzer()"
      ]
    },
    {
      "cell_type": "markdown",
      "metadata": {
        "button": false,
        "deletable": true,
        "new_sheet": false,
        "run_control": {
          "read_only": false
        },
        "id": "3sfM0-Vt2C3g"
      },
      "source": [
        "Bart Miller coined the term \"fuzz\" as the name for such random, unstructured data.  Now imagine that this \"fuzz\" string was the input to a program expecting a specific input format – say, a comma-separated list of values, or an e-mail address.  Would the program be able to process such an input without any problems?"
      ]
    },
    {
      "cell_type": "markdown",
      "metadata": {
        "button": false,
        "deletable": true,
        "new_sheet": false,
        "run_control": {
          "read_only": false
        },
        "id": "2sMl_fac2C3g"
      },
      "source": [
        "If the above fuzzing input already is intriguing, consider that fuzzing can easily be set up to produce other kinds of input.  For instance, we can also have `fuzzer()` produce a series of lowercase letters.  We use `ord(c)` to return the ASCII code of the character `c`."
      ]
    },
    {
      "cell_type": "code",
      "execution_count": null,
      "metadata": {
        "button": false,
        "deletable": true,
        "execution": {
          "iopub.execute_input": "2023-01-07T14:36:36.341607Z",
          "iopub.status.busy": "2023-01-07T14:36:36.341067Z",
          "iopub.status.idle": "2023-01-07T14:36:36.342916Z",
          "shell.execute_reply": "2023-01-07T14:36:36.343178Z"
        },
        "new_sheet": false,
        "run_control": {
          "read_only": false
        },
        "id": "b5O1EFro2C3h",
        "outputId": "5cbdaf15-27bb-44e6-f08b-e6055e66a7f6"
      },
      "outputs": [
        {
          "data": {
            "text/plain": [
              "'zskscocrxllosagkvaszlngpysurezehvcqcghygphnhonehczraznkibltfmocxddoxcmrvatcleysksodzlwmzdndoxrjfqigjhqjxkblyrtoaydlwwisrvxtxsejhfbnforvlfisojqaktcxpmjqsfsycisoexjctydzxzzutukdztxvdpqbjuqmsectwjvylvbixzfmqiabdnihqagsvlyxwxxconminadcaqjdzcnzfjlwccyudmdfceiepwvyggepjxoeqaqbjzvmjdlebxqvehkmlevoofjlilegieeihmetjappbisqgrjhglzgffqrdqcwfmmwqecxlqfpvgtvcddvmwkplmwadgiyckrfjddxnegvmxravaunzwhpfpyzuyyavwwtgykwfszasvlbwojetvcygectelwkputfczgsfsbclnkzzcjfywitooygjwqujseflqyvqgyzpvknddzemkegrjjrshbouqxcmixnqhgsgdwgzwzmgzfajymbcfezqxndbmzwnxjeevgtpjtcwgbzptozflrwvuopohbvpmpaifnyyfvbzzdsdlznusarkmmtazptbjbqdkrsnrpgdffemnpehoapiiudokczwrvpsonybfpaeyorrgjdmgvkvupdtkrequicexqkoikygepawmwsdcrhivoegynnhodfhryeqbebtbqnwhogdfrsrksntqjbocvislhgrgchkhpaiugpbdygwkhrtyniufabdnqhtnwreiascfvmuhettfpbowbjadfxnbtzhobnxsnf'"
            ]
          },
          "execution_count": 8,
          "metadata": {},
          "output_type": "execute_result"
        }
      ],
      "source": [
        "fuzzer(1000, ord('a'), 26)"
      ]
    },
    {
      "cell_type": "markdown",
      "metadata": {
        "button": false,
        "deletable": true,
        "new_sheet": false,
        "run_control": {
          "read_only": false
        },
        "id": "YT1XotRv2C3h"
      },
      "source": [
        "Assume a program expects an identifier as its input.  Would it expect such a long identifier?"
      ]
    },
    {
      "cell_type": "code",
      "execution_count": null,
      "metadata": {
        "execution": {
          "iopub.execute_input": "2023-01-07T14:36:36.345161Z",
          "iopub.status.busy": "2023-01-07T14:36:36.344794Z",
          "iopub.status.idle": "2023-01-07T14:36:36.346111Z",
          "shell.execute_reply": "2023-01-07T14:36:36.346434Z"
        },
        "id": "S1SEtxuT2C3h"
      },
      "outputs": [],
      "source": [
        "from bookutils import quiz"
      ]
    },
    {
      "cell_type": "code",
      "execution_count": null,
      "metadata": {
        "execution": {
          "iopub.execute_input": "2023-01-07T14:36:36.351501Z",
          "iopub.status.busy": "2023-01-07T14:36:36.351094Z",
          "iopub.status.idle": "2023-01-07T14:36:36.352802Z",
          "shell.execute_reply": "2023-01-07T14:36:36.353047Z"
        },
        "id": "3Vfapsd82C3h",
        "outputId": "47db91a1-95ab-4d08-8277-0fb0b51397b9"
      },
      "outputs": [
        {
          "data": {
            "text/html": [
              "\n",
              "    \n",
              "    <script>\n",
              "    var bad_answers = new Map();\n",
              "\n",
              "    function answer(quiz_id) {\n",
              "        ans = 0;\n",
              "        for (i = 1;; i++) {\n",
              "            checkbox = document.getElementById(quiz_id + \"-\" + i.toString());\n",
              "            if (!checkbox)\n",
              "                break;\n",
              "            if (checkbox.checked)\n",
              "                ans |= (1 << i);\n",
              "        }\n",
              "        return ans;\n",
              "    }\n",
              "    function check_selection(quiz_id, correct_answer, multiple_choice, hint) {\n",
              "        given_answer = answer(quiz_id);\n",
              "        if (given_answer == correct_answer)\n",
              "        {\n",
              "            document.getElementById(quiz_id + \"-submit\").value = \"Correct!\";\n",
              "            document.getElementById(quiz_id + \"-hint\").innerHTML = \"\";\n",
              "\n",
              "            for (i = 1;; i++) {\n",
              "                checkbox = document.getElementById(quiz_id + \"-\" + i.toString());\n",
              "                label = document.getElementById(quiz_id + \"-\" + i.toString() + \"-label\")\n",
              "                if (!checkbox)\n",
              "                    break;\n",
              "    \n",
              "                if (checkbox.checked) {\n",
              "                    label.style.fontWeight = \"bold\";\n",
              "                }\n",
              "                else {\n",
              "                    label.style.textDecoration = \"line-through\";\n",
              "                }\n",
              "            }\n",
              "        }\n",
              "        else \n",
              "        {\n",
              "            document.getElementById(quiz_id + \"-submit\").value = \"Try again\";\n",
              "            \n",
              "            if (!bad_answers.has(quiz_id)) {\n",
              "                bad_answers.set(quiz_id, 1);\n",
              "            }\n",
              "            else {\n",
              "                bad_answers.set(quiz_id, bad_answers.get(quiz_id) + 1);\n",
              "            }\n",
              "\n",
              "            if (bad_answers.get(quiz_id) >= 2 && hint.length > 0) {\n",
              "                document.getElementById(quiz_id + \"-hint\").innerHTML = \n",
              "                    \"&nbsp;&nbsp;(Hint: <code>\" + hint + \"</code>)\";\n",
              "            }\n",
              "\n",
              "            if (!multiple_choice) {\n",
              "                for (i = 1;; i++) {\n",
              "                    checkbox = document.getElementById(quiz_id + \"-\" + i.toString());\n",
              "                    label = document.getElementById(quiz_id + \"-\" + i.toString() + \"-label\")\n",
              "\n",
              "                    if (!checkbox)\n",
              "                        break;\n",
              "                    if (checkbox.checked) {\n",
              "                        label.style.textDecoration = \"line-through\";\n",
              "                    }\n",
              "                }\n",
              "            }\n",
              "        }\n",
              "    }\n",
              "    function clear_selection(quiz_id) {\n",
              "        document.getElementById(quiz_id + \"-submit\").value = \"Submit\";\n",
              "        document.getElementById(quiz_id + \"-hint\").innerHTML = \"\";\n",
              "    }\n",
              "    </script>\n",
              "    \n",
              "    <div class=\"quiz\">\n",
              "    <h3 class=\"quiz_title\">Quiz</h3>\n",
              "    <p>\n",
              "    <div class=\"quiz_question\">Which of these produces strings with arbitrary long decimal numbers?</div>\n",
              "    </p>\n",
              "    <p>\n",
              "    <div class=\"quiz_options\" title=\"Pick a choice.\">\n",
              "    \n",
              "        <input type=\"radio\" name=\"b05dff36-8e98-11ed-8577-6298cf1a5790\" id=\"b05dff36-8e98-11ed-8577-6298cf1a5790-1\" onclick=\"clear_selection('b05dff36-8e98-11ed-8577-6298cf1a5790')\">\n",
              "        <label id=\"b05dff36-8e98-11ed-8577-6298cf1a5790-1-label\" for=\"b05dff36-8e98-11ed-8577-6298cf1a5790-1\"><code>fuzzer(100, 1, 100)</code></label><br>\n",
              "    \n",
              "        <input type=\"radio\" name=\"b05dff36-8e98-11ed-8577-6298cf1a5790\" id=\"b05dff36-8e98-11ed-8577-6298cf1a5790-2\" onclick=\"clear_selection('b05dff36-8e98-11ed-8577-6298cf1a5790')\">\n",
              "        <label id=\"b05dff36-8e98-11ed-8577-6298cf1a5790-2-label\" for=\"b05dff36-8e98-11ed-8577-6298cf1a5790-2\"><code>fuzzer(100, 100, 0)</code></label><br>\n",
              "    \n",
              "        <input type=\"radio\" name=\"b05dff36-8e98-11ed-8577-6298cf1a5790\" id=\"b05dff36-8e98-11ed-8577-6298cf1a5790-3\" onclick=\"clear_selection('b05dff36-8e98-11ed-8577-6298cf1a5790')\">\n",
              "        <label id=\"b05dff36-8e98-11ed-8577-6298cf1a5790-3-label\" for=\"b05dff36-8e98-11ed-8577-6298cf1a5790-3\"><code>fuzzer(100, 10, ord('0'))</code></label><br>\n",
              "    \n",
              "        <input type=\"radio\" name=\"b05dff36-8e98-11ed-8577-6298cf1a5790\" id=\"b05dff36-8e98-11ed-8577-6298cf1a5790-4\" onclick=\"clear_selection('b05dff36-8e98-11ed-8577-6298cf1a5790')\">\n",
              "        <label id=\"b05dff36-8e98-11ed-8577-6298cf1a5790-4-label\" for=\"b05dff36-8e98-11ed-8577-6298cf1a5790-4\"><code>fuzzer(100, ord('0'), 10)</code></label><br>\n",
              "    \n",
              "    </div>\n",
              "    </p>\n",
              "    <input id=\"b05dff36-8e98-11ed-8577-6298cf1a5790-submit\" type=\"submit\" value=\"Submit\" onclick=\"check_selection('b05dff36-8e98-11ed-8577-6298cf1a5790', 16, 0, '1 ** (2 % 3) * 4')\">\n",
              "    <span class=\"quiz_hint\" id=\"b05dff36-8e98-11ed-8577-6298cf1a5790-hint\"></span>\n",
              "    </div>\n",
              "    "
            ],
            "text/plain": [
              "<IPython.core.display.HTML object>"
            ]
          },
          "execution_count": 10,
          "metadata": {},
          "output_type": "execute_result"
        }
      ],
      "source": [
        "quiz(\"Which of these produces strings with arbitrary long decimal numbers?\",\n",
        "     [\n",
        "         \"`fuzzer(100, 1, 100)`\",\n",
        "         \"`fuzzer(100, 100, 0)`\",\n",
        "         \"`fuzzer(100, 10, ord('0'))`\",\n",
        "         \"`fuzzer(100, ord('0'), 10)`\",\n",
        "     ], \"1 ** (2 % 3) * 4\")"
      ]
    },
    {
      "cell_type": "markdown",
      "metadata": {
        "id": "8_5i_skK2C3h"
      },
      "source": [
        "Indeed! It is the last one that does the trick:"
      ]
    },
    {
      "cell_type": "code",
      "execution_count": null,
      "metadata": {
        "execution": {
          "iopub.execute_input": "2023-01-07T14:36:36.355315Z",
          "iopub.status.busy": "2023-01-07T14:36:36.355003Z",
          "iopub.status.idle": "2023-01-07T14:36:36.356580Z",
          "shell.execute_reply": "2023-01-07T14:36:36.356915Z"
        },
        "id": "MoirXLAZ2C3h",
        "outputId": "a0f31b9c-4a74-426c-dc22-a86832222434"
      },
      "outputs": [
        {
          "data": {
            "text/plain": [
              "'905902398493166953126081485047020401153418590518545517740565959745145909835837'"
            ]
          },
          "execution_count": 11,
          "metadata": {},
          "output_type": "execute_result"
        }
      ],
      "source": [
        "fuzzer(100, ord('0'), 10)"
      ]
    },
    {
      "cell_type": "markdown",
      "metadata": {
        "button": false,
        "deletable": true,
        "new_sheet": false,
        "run_control": {
          "read_only": false
        },
        "id": "dE1-7MnG2C3h"
      },
      "source": [
        "## Fuzzing External Programs\n",
        "\n",
        "Let us see what happens if we actually invoke an external program with fuzzed inputs.  To this end, let us proceed in two steps.  First, we create an _input file_ with fuzzed test data; then we feed this input file into a program of choice."
      ]
    },
    {
      "cell_type": "markdown",
      "metadata": {
        "button": false,
        "deletable": true,
        "new_sheet": false,
        "run_control": {
          "read_only": false
        },
        "id": "KsyZSY3l2C3h"
      },
      "source": [
        "### Creating Input Files\n",
        "\n",
        "Let us obtain a temporary file name such that we do not clutter the file system."
      ]
    },
    {
      "cell_type": "code",
      "execution_count": null,
      "metadata": {
        "button": false,
        "deletable": true,
        "execution": {
          "iopub.execute_input": "2023-01-07T14:36:36.359030Z",
          "iopub.status.busy": "2023-01-07T14:36:36.358729Z",
          "iopub.status.idle": "2023-01-07T14:36:36.359874Z",
          "shell.execute_reply": "2023-01-07T14:36:36.360203Z"
        },
        "new_sheet": false,
        "run_control": {
          "read_only": false
        },
        "id": "yunJ3WcW2C3h"
      },
      "outputs": [],
      "source": [
        "import os\n",
        "import tempfile"
      ]
    },
    {
      "cell_type": "code",
      "execution_count": null,
      "metadata": {
        "button": false,
        "deletable": true,
        "execution": {
          "iopub.execute_input": "2023-01-07T14:36:36.362838Z",
          "iopub.status.busy": "2023-01-07T14:36:36.362467Z",
          "iopub.status.idle": "2023-01-07T14:36:36.363804Z",
          "shell.execute_reply": "2023-01-07T14:36:36.364177Z"
        },
        "new_sheet": false,
        "run_control": {
          "read_only": false
        },
        "id": "AIjpLf0b2C3k",
        "outputId": "fbb00f67-db88-41d4-fbae-987182b3788a"
      },
      "outputs": [
        {
          "name": "stdout",
          "output_type": "stream",
          "text": [
            "/var/folders/n2/xd9445p97rb3xh7m1dfx8_4h0006ts/T/tmpwlsvpube/input.txt\n"
          ]
        }
      ],
      "source": [
        "basename = \"input.txt\"\n",
        "tempdir = tempfile.mkdtemp()\n",
        "FILE = os.path.join(tempdir, basename)\n",
        "print(FILE)"
      ]
    },
    {
      "cell_type": "markdown",
      "metadata": {
        "button": false,
        "deletable": true,
        "new_sheet": false,
        "run_control": {
          "read_only": false
        },
        "id": "9LuJqzd_2C3k"
      },
      "source": [
        "We can now open this file for writing.  The Python `open()` function opens a file into which we can then write arbitrary contents.  It is commonly used in conjunction with the `with` statement, which ensures that the file is closed as soon as it is no longer needed."
      ]
    },
    {
      "cell_type": "code",
      "execution_count": null,
      "metadata": {
        "button": false,
        "deletable": true,
        "execution": {
          "iopub.execute_input": "2023-01-07T14:36:36.366535Z",
          "iopub.status.busy": "2023-01-07T14:36:36.366223Z",
          "iopub.status.idle": "2023-01-07T14:36:36.367719Z",
          "shell.execute_reply": "2023-01-07T14:36:36.367907Z"
        },
        "new_sheet": false,
        "run_control": {
          "read_only": false
        },
        "id": "5QQwFL1I2C3k"
      },
      "outputs": [],
      "source": [
        "data = fuzzer()\n",
        "with open(FILE, \"w\") as f:\n",
        "    f.write(data)"
      ]
    },
    {
      "cell_type": "markdown",
      "metadata": {
        "button": false,
        "deletable": true,
        "new_sheet": false,
        "run_control": {
          "read_only": false
        },
        "id": "wP3shBXm2C3k"
      },
      "source": [
        "We can verify that the file was actually created by reading its contents:"
      ]
    },
    {
      "cell_type": "code",
      "execution_count": null,
      "metadata": {
        "button": false,
        "deletable": true,
        "execution": {
          "iopub.execute_input": "2023-01-07T14:36:36.370047Z",
          "iopub.status.busy": "2023-01-07T14:36:36.369735Z",
          "iopub.status.idle": "2023-01-07T14:36:36.371091Z",
          "shell.execute_reply": "2023-01-07T14:36:36.371338Z"
        },
        "new_sheet": false,
        "run_control": {
          "read_only": false
        },
        "id": "00J2UNXm2C3k",
        "outputId": "1f285932-5616-4f5b-cf1e-86449f544d4b"
      },
      "outputs": [
        {
          "name": "stdout",
          "output_type": "stream",
          "text": [
            "<?6&\" !3'7-5>18%55*,5\n"
          ]
        }
      ],
      "source": [
        "contents = open(FILE).read()\n",
        "print(contents)\n",
        "assert(contents == data)"
      ]
    },
    {
      "cell_type": "markdown",
      "metadata": {
        "button": false,
        "deletable": true,
        "new_sheet": false,
        "run_control": {
          "read_only": false
        },
        "id": "F4V9Nz4Q2C3k"
      },
      "source": [
        "### Invoking External Programs\n",
        "\n",
        "Now that we have an input file, we can invoke a program on it.  For the fun of it, let us test the `bc` calculator program, which takes an arithmetic expression and evaluates it.\n",
        "\n",
        "To invoke `bc`, let us use the Python `subprocess` module.  This is how this works:\n"
      ]
    },
    {
      "cell_type": "code",
      "execution_count": null,
      "metadata": {
        "button": false,
        "deletable": true,
        "execution": {
          "iopub.execute_input": "2023-01-07T14:36:36.373147Z",
          "iopub.status.busy": "2023-01-07T14:36:36.372808Z",
          "iopub.status.idle": "2023-01-07T14:36:36.374090Z",
          "shell.execute_reply": "2023-01-07T14:36:36.374311Z"
        },
        "new_sheet": false,
        "run_control": {
          "read_only": false
        },
        "id": "iiGJEt6Q2C3l"
      },
      "outputs": [],
      "source": [
        "import os\n",
        "import subprocess"
      ]
    },
    {
      "cell_type": "code",
      "execution_count": null,
      "metadata": {
        "button": false,
        "deletable": true,
        "execution": {
          "iopub.execute_input": "2023-01-07T14:36:36.376923Z",
          "iopub.status.busy": "2023-01-07T14:36:36.376448Z",
          "iopub.status.idle": "2023-01-07T14:36:36.383637Z",
          "shell.execute_reply": "2023-01-07T14:36:36.383864Z"
        },
        "new_sheet": false,
        "run_control": {
          "read_only": false
        },
        "id": "rnix1tnt2C3l"
      },
      "outputs": [],
      "source": [
        "program = \"bc\"\n",
        "with open(FILE, \"w\") as f:\n",
        "    f.write(\"2 + 2\\n\")\n",
        "result = subprocess.run([program, FILE],\n",
        "                        stdin=subprocess.DEVNULL,\n",
        "                        stdout=subprocess.PIPE,\n",
        "                        stderr=subprocess.PIPE,\n",
        "                        universal_newlines=True)  # Will be \"text\" in Python 3.7"
      ]
    },
    {
      "cell_type": "markdown",
      "metadata": {
        "button": false,
        "deletable": true,
        "new_sheet": false,
        "run_control": {
          "read_only": false
        },
        "id": "8vwX8Erz2C3l"
      },
      "source": [
        "From the `result`, we can check the program output.  In the case of `bc`, this is the result of evaluating the arithmetic expression:"
      ]
    },
    {
      "cell_type": "code",
      "execution_count": null,
      "metadata": {
        "button": false,
        "deletable": true,
        "execution": {
          "iopub.execute_input": "2023-01-07T14:36:36.387033Z",
          "iopub.status.busy": "2023-01-07T14:36:36.386555Z",
          "iopub.status.idle": "2023-01-07T14:36:36.388380Z",
          "shell.execute_reply": "2023-01-07T14:36:36.388623Z"
        },
        "new_sheet": false,
        "run_control": {
          "read_only": false
        },
        "id": "dJdV2jh02C3w",
        "outputId": "8319f9e7-b4a1-47b6-f9cd-4c58f84544f4"
      },
      "outputs": [
        {
          "data": {
            "text/plain": [
              "'4\\n'"
            ]
          },
          "execution_count": 18,
          "metadata": {},
          "output_type": "execute_result"
        }
      ],
      "source": [
        "result.stdout"
      ]
    },
    {
      "cell_type": "markdown",
      "metadata": {
        "button": false,
        "deletable": true,
        "new_sheet": false,
        "run_control": {
          "read_only": false
        },
        "id": "_1ISUaxl2C3w"
      },
      "source": [
        "We can also check the status. A value of 0 indicates that the program terminated correctly."
      ]
    },
    {
      "cell_type": "code",
      "execution_count": null,
      "metadata": {
        "button": false,
        "deletable": true,
        "execution": {
          "iopub.execute_input": "2023-01-07T14:36:36.391025Z",
          "iopub.status.busy": "2023-01-07T14:36:36.390621Z",
          "iopub.status.idle": "2023-01-07T14:36:36.392242Z",
          "shell.execute_reply": "2023-01-07T14:36:36.392448Z"
        },
        "new_sheet": false,
        "run_control": {
          "read_only": false
        },
        "id": "dkEud-4M2C3w",
        "outputId": "6c1de560-bef1-4cbb-f6b1-3bb650a54cf2"
      },
      "outputs": [
        {
          "data": {
            "text/plain": [
              "0"
            ]
          },
          "execution_count": 19,
          "metadata": {},
          "output_type": "execute_result"
        }
      ],
      "source": [
        "result.returncode"
      ]
    },
    {
      "cell_type": "markdown",
      "metadata": {
        "button": false,
        "deletable": true,
        "new_sheet": false,
        "run_control": {
          "read_only": false
        },
        "id": "eCvZ7Fxh2C3w"
      },
      "source": [
        "Any error messages would be available in `results.stderr`:"
      ]
    },
    {
      "cell_type": "code",
      "execution_count": null,
      "metadata": {
        "button": false,
        "deletable": true,
        "execution": {
          "iopub.execute_input": "2023-01-07T14:36:36.394645Z",
          "iopub.status.busy": "2023-01-07T14:36:36.394283Z",
          "iopub.status.idle": "2023-01-07T14:36:36.395909Z",
          "shell.execute_reply": "2023-01-07T14:36:36.396128Z"
        },
        "new_sheet": false,
        "run_control": {
          "read_only": false
        },
        "id": "pPC63VNf2C3w",
        "outputId": "29f18644-f099-48b5-ea9d-2b73ed504cfc"
      },
      "outputs": [
        {
          "data": {
            "text/plain": [
              "''"
            ]
          },
          "execution_count": 20,
          "metadata": {},
          "output_type": "execute_result"
        }
      ],
      "source": [
        "result.stderr"
      ]
    },
    {
      "cell_type": "markdown",
      "metadata": {
        "button": false,
        "deletable": true,
        "new_sheet": false,
        "run_control": {
          "read_only": false
        },
        "id": "U1Y0Ig302C3w"
      },
      "source": [
        "Instead of `bc`, you can actually put in any program you like. Be aware, though, that if your program is able to change or even damage your system, there is quite a risk that the fuzzed input contains data or commands that do precisely this."
      ]
    },
    {
      "cell_type": "code",
      "execution_count": null,
      "metadata": {
        "execution": {
          "iopub.execute_input": "2023-01-07T14:36:36.415774Z",
          "iopub.status.busy": "2023-01-07T14:36:36.415217Z",
          "iopub.status.idle": "2023-01-07T14:36:36.417690Z",
          "shell.execute_reply": "2023-01-07T14:36:36.417932Z"
        },
        "id": "RoRifRw02C3w",
        "outputId": "ceba6289-3c04-4ae8-8a2a-ca7eb6e2370e"
      },
      "outputs": [
        {
          "data": {
            "text/html": [
              "\n",
              "    \n",
              "    <script>\n",
              "    var bad_answers = new Map();\n",
              "\n",
              "    function answer(quiz_id) {\n",
              "        ans = 0;\n",
              "        for (i = 1;; i++) {\n",
              "            checkbox = document.getElementById(quiz_id + \"-\" + i.toString());\n",
              "            if (!checkbox)\n",
              "                break;\n",
              "            if (checkbox.checked)\n",
              "                ans |= (1 << i);\n",
              "        }\n",
              "        return ans;\n",
              "    }\n",
              "    function check_selection(quiz_id, correct_answer, multiple_choice, hint) {\n",
              "        given_answer = answer(quiz_id);\n",
              "        if (given_answer == correct_answer)\n",
              "        {\n",
              "            document.getElementById(quiz_id + \"-submit\").value = \"Correct!\";\n",
              "            document.getElementById(quiz_id + \"-hint\").innerHTML = \"\";\n",
              "\n",
              "            for (i = 1;; i++) {\n",
              "                checkbox = document.getElementById(quiz_id + \"-\" + i.toString());\n",
              "                label = document.getElementById(quiz_id + \"-\" + i.toString() + \"-label\")\n",
              "                if (!checkbox)\n",
              "                    break;\n",
              "    \n",
              "                if (checkbox.checked) {\n",
              "                    label.style.fontWeight = \"bold\";\n",
              "                }\n",
              "                else {\n",
              "                    label.style.textDecoration = \"line-through\";\n",
              "                }\n",
              "            }\n",
              "        }\n",
              "        else \n",
              "        {\n",
              "            document.getElementById(quiz_id + \"-submit\").value = \"Try again\";\n",
              "            \n",
              "            if (!bad_answers.has(quiz_id)) {\n",
              "                bad_answers.set(quiz_id, 1);\n",
              "            }\n",
              "            else {\n",
              "                bad_answers.set(quiz_id, bad_answers.get(quiz_id) + 1);\n",
              "            }\n",
              "\n",
              "            if (bad_answers.get(quiz_id) >= 2 && hint.length > 0) {\n",
              "                document.getElementById(quiz_id + \"-hint\").innerHTML = \n",
              "                    \"&nbsp;&nbsp;(Hint: <code>\" + hint + \"</code>)\";\n",
              "            }\n",
              "\n",
              "            if (!multiple_choice) {\n",
              "                for (i = 1;; i++) {\n",
              "                    checkbox = document.getElementById(quiz_id + \"-\" + i.toString());\n",
              "                    label = document.getElementById(quiz_id + \"-\" + i.toString() + \"-label\")\n",
              "\n",
              "                    if (!checkbox)\n",
              "                        break;\n",
              "                    if (checkbox.checked) {\n",
              "                        label.style.textDecoration = \"line-through\";\n",
              "                    }\n",
              "                }\n",
              "            }\n",
              "        }\n",
              "    }\n",
              "    function clear_selection(quiz_id) {\n",
              "        document.getElementById(quiz_id + \"-submit\").value = \"Submit\";\n",
              "        document.getElementById(quiz_id + \"-hint\").innerHTML = \"\";\n",
              "    }\n",
              "    </script>\n",
              "    \n",
              "    <div class=\"quiz\">\n",
              "    <h3 class=\"quiz_title\">Quiz</h3>\n",
              "    <p>\n",
              "    <div class=\"quiz_question\">Just for the fun of it, imagine you would test a file removal program - say <code>rm -fr FILE</code>, where <code>FILE</code> is a string produced by <code>fuzzer()</code>. What is the chance of <code>fuzzer()</code> (with default arguments) producing a <code>FILE</code> argument that results in deleting all your files?</div>\n",
              "    </p>\n",
              "    <p>\n",
              "    <div class=\"quiz_options\" title=\"Pick a choice.\">\n",
              "    \n",
              "        <input type=\"radio\" name=\"b06593fe-8e98-11ed-8577-6298cf1a5790\" id=\"b06593fe-8e98-11ed-8577-6298cf1a5790-1\" onclick=\"clear_selection('b06593fe-8e98-11ed-8577-6298cf1a5790')\">\n",
              "        <label id=\"b06593fe-8e98-11ed-8577-6298cf1a5790-1-label\" for=\"b06593fe-8e98-11ed-8577-6298cf1a5790-1\">About one in a billion</label><br>\n",
              "    \n",
              "        <input type=\"radio\" name=\"b06593fe-8e98-11ed-8577-6298cf1a5790\" id=\"b06593fe-8e98-11ed-8577-6298cf1a5790-2\" onclick=\"clear_selection('b06593fe-8e98-11ed-8577-6298cf1a5790')\">\n",
              "        <label id=\"b06593fe-8e98-11ed-8577-6298cf1a5790-2-label\" for=\"b06593fe-8e98-11ed-8577-6298cf1a5790-2\">About one in a million</label><br>\n",
              "    \n",
              "        <input type=\"radio\" name=\"b06593fe-8e98-11ed-8577-6298cf1a5790\" id=\"b06593fe-8e98-11ed-8577-6298cf1a5790-3\" onclick=\"clear_selection('b06593fe-8e98-11ed-8577-6298cf1a5790')\">\n",
              "        <label id=\"b06593fe-8e98-11ed-8577-6298cf1a5790-3-label\" for=\"b06593fe-8e98-11ed-8577-6298cf1a5790-3\">About one in a thousand</label><br>\n",
              "    \n",
              "        <input type=\"radio\" name=\"b06593fe-8e98-11ed-8577-6298cf1a5790\" id=\"b06593fe-8e98-11ed-8577-6298cf1a5790-4\" onclick=\"clear_selection('b06593fe-8e98-11ed-8577-6298cf1a5790')\">\n",
              "        <label id=\"b06593fe-8e98-11ed-8577-6298cf1a5790-4-label\" for=\"b06593fe-8e98-11ed-8577-6298cf1a5790-4\">About one in ten</label><br>\n",
              "    \n",
              "    </div>\n",
              "    </p>\n",
              "    <input id=\"b06593fe-8e98-11ed-8577-6298cf1a5790-submit\" type=\"submit\" value=\"Submit\" onclick=\"check_selection('b06593fe-8e98-11ed-8577-6298cf1a5790', 8, 0, '9 ** 0.5')\">\n",
              "    <span class=\"quiz_hint\" id=\"b06593fe-8e98-11ed-8577-6298cf1a5790-hint\"></span>\n",
              "    </div>\n",
              "    "
            ],
            "text/plain": [
              "<IPython.core.display.HTML object>"
            ]
          },
          "execution_count": 21,
          "metadata": {},
          "output_type": "execute_result"
        }
      ],
      "source": [
        "quiz(\"Just for the fun of it, imagine you would test a file removal program - \"\n",
        "     \"say `rm -fr FILE`, where `FILE` is a string produced by `fuzzer()`. \"\n",
        "     \"What is the chance of `fuzzer()` (with default arguments) producing a `FILE` \"\n",
        "     \"argument that results in deleting all your files?\",\n",
        "     [\n",
        "         \"About one in a billion\",\n",
        "         \"About one in a million\",\n",
        "         \"About one in a thousand\",\n",
        "         \"About one in ten\"\n",
        "     ], \"9 ** 0.5\")"
      ]
    },
    {
      "cell_type": "markdown",
      "metadata": {
        "id": "-BXipzOS2C3x"
      },
      "source": [
        "The chance is actually higher than you may think. If you remove `/` (the root of all files), for instance, your entire file system will be gone. If you remove `~` (your home directory), all your files will be gone. If you remove `.` (the current folder), all the files in the current directory will be gone. For any of these to be produced, you need a string length of 1 (chance: 1 out of 100) and one of these three characters (chance: 3 out of 32), which indeed is a chance of about one in a thousand."
      ]
    },
    {
      "cell_type": "code",
      "execution_count": null,
      "metadata": {
        "execution": {
          "iopub.execute_input": "2023-01-07T14:36:36.420910Z",
          "iopub.status.busy": "2023-01-07T14:36:36.420445Z",
          "iopub.status.idle": "2023-01-07T14:36:36.422309Z",
          "shell.execute_reply": "2023-01-07T14:36:36.422555Z"
        },
        "id": "LFAi84if2C3x",
        "outputId": "88d39d3e-c811-4827-f2f4-ba9cb57d1f99"
      },
      "outputs": [
        {
          "data": {
            "text/plain": [
              "0.0009375"
            ]
          },
          "execution_count": 22,
          "metadata": {},
          "output_type": "execute_result"
        }
      ],
      "source": [
        "1/100 * 3/32"
      ]
    },
    {
      "cell_type": "markdown",
      "metadata": {
        "id": "fTGMOgeL2C3x"
      },
      "source": [
        "However, we can actually deal with any string as long as the _second_ character is a space – after all, `rm -fr / WHATEVER` will first deal with `/`, and only then with whatever follows. The chances for the first character are 3 out of 32, for the space 1 out of 32, so we're more at 1 out of 300:"
      ]
    },
    {
      "cell_type": "code",
      "execution_count": null,
      "metadata": {
        "execution": {
          "iopub.execute_input": "2023-01-07T14:36:36.425561Z",
          "iopub.status.busy": "2023-01-07T14:36:36.424946Z",
          "iopub.status.idle": "2023-01-07T14:36:36.427129Z",
          "shell.execute_reply": "2023-01-07T14:36:36.427474Z"
        },
        "id": "U1YLpFbm2C3x",
        "outputId": "5c59daab-4eb4-43d4-ad7c-711fd1848efc"
      },
      "outputs": [
        {
          "data": {
            "text/plain": [
              "0.0029296875"
            ]
          },
          "execution_count": 23,
          "metadata": {},
          "output_type": "execute_result"
        }
      ],
      "source": [
        "3/32 * 1/32"
      ]
    },
    {
      "cell_type": "markdown",
      "metadata": {
        "id": "Kce6JmCo2C3x"
      },
      "source": [
        "Given that fuzz tests are typically run millions of times, you really don't want to take this risk. Run your fuzzers in a safe environment that you can reset at will, such as a Docker container."
      ]
    },
    {
      "cell_type": "markdown",
      "metadata": {
        "button": false,
        "deletable": true,
        "new_sheet": false,
        "run_control": {
          "read_only": false
        },
        "id": "HICOvWWq2C3x"
      },
      "source": [
        "### Long-Running Fuzzing\n",
        "\n",
        "Let us now feed a large number of inputs into our tested program, to see whether it might crash on some.  We store all results in the `runs` variable as pairs of input data and the actual result. (Note: running this may take a while.)"
      ]
    },
    {
      "cell_type": "code",
      "execution_count": null,
      "metadata": {
        "button": false,
        "deletable": true,
        "execution": {
          "iopub.execute_input": "2023-01-07T14:36:36.431108Z",
          "iopub.status.busy": "2023-01-07T14:36:36.430712Z",
          "iopub.status.idle": "2023-01-07T14:36:36.852624Z",
          "shell.execute_reply": "2023-01-07T14:36:36.852862Z"
        },
        "new_sheet": false,
        "run_control": {
          "read_only": false
        },
        "id": "49JSkbQO2C3x"
      },
      "outputs": [],
      "source": [
        "trials = 100\n",
        "program = \"bc\"\n",
        "\n",
        "runs = []\n",
        "\n",
        "for i in range(trials):\n",
        "    data = fuzzer()\n",
        "    with open(FILE, \"w\") as f:\n",
        "        f.write(data)\n",
        "    result = subprocess.run([program, FILE],\n",
        "                            stdin=subprocess.DEVNULL,\n",
        "                            stdout=subprocess.PIPE,\n",
        "                            stderr=subprocess.PIPE,\n",
        "                            universal_newlines=True)\n",
        "    runs.append((data, result))"
      ]
    },
    {
      "cell_type": "markdown",
      "metadata": {
        "button": false,
        "deletable": true,
        "new_sheet": false,
        "run_control": {
          "read_only": false
        },
        "id": "hQyy_lNY2C3x"
      },
      "source": [
        "We can now query `runs` for some statistics.  For instance, we can query how many runs actually passed -- that is, there were no error messages.  We use a _list comprehension_ here: The form _expression_ `for` _element_ `in` _list_ `if` _condition_ returns a list of evaluated _expressions_ in which each _element_ comes from _list_ if the _condition_ was true.  (Actually, a list comprehension returns a _list generator_, but for our purposes, the generator behaves like a list.)  Here, we have the _expression_ be 1 for all elements where _condition_ holds, and we use `sum()` to sum over all elements in the list."
      ]
    },
    {
      "cell_type": "code",
      "execution_count": null,
      "metadata": {
        "button": false,
        "deletable": true,
        "execution": {
          "iopub.execute_input": "2023-01-07T14:36:36.856245Z",
          "iopub.status.busy": "2023-01-07T14:36:36.855760Z",
          "iopub.status.idle": "2023-01-07T14:36:36.857611Z",
          "shell.execute_reply": "2023-01-07T14:36:36.857988Z"
        },
        "new_sheet": false,
        "run_control": {
          "read_only": false
        },
        "id": "fEbswaEV2C3x",
        "outputId": "e5b230e1-b511-4ccb-df19-fbc069079ed1"
      },
      "outputs": [
        {
          "data": {
            "text/plain": [
              "9"
            ]
          },
          "execution_count": 25,
          "metadata": {},
          "output_type": "execute_result"
        }
      ],
      "source": [
        "sum(1 for (data, result) in runs if result.stderr == \"\")"
      ]
    },
    {
      "cell_type": "markdown",
      "metadata": {
        "button": false,
        "deletable": true,
        "new_sheet": false,
        "run_control": {
          "read_only": false
        },
        "id": "NgDtSq7P2C3y"
      },
      "source": [
        "Most inputs apparently are invalid – not a big surprise, as it is unlikely that a random input contains a valid arithmetic expression."
      ]
    },
    {
      "cell_type": "markdown",
      "metadata": {
        "button": false,
        "deletable": true,
        "new_sheet": false,
        "run_control": {
          "read_only": false
        },
        "id": "lNa2rV-62C3y"
      },
      "source": [
        "Let us take a look at the first error message:"
      ]
    },
    {
      "cell_type": "code",
      "execution_count": null,
      "metadata": {
        "button": false,
        "deletable": true,
        "execution": {
          "iopub.execute_input": "2023-01-07T14:36:36.861719Z",
          "iopub.status.busy": "2023-01-07T14:36:36.861046Z",
          "iopub.status.idle": "2023-01-07T14:36:36.863014Z",
          "shell.execute_reply": "2023-01-07T14:36:36.863485Z"
        },
        "new_sheet": false,
        "run_control": {
          "read_only": false
        },
        "id": "9IY-VDME2C3y",
        "outputId": "b33b6d36-4db8-4634-d250-16a880e97ffd"
      },
      "outputs": [
        {
          "name": "stdout",
          "output_type": "stream",
          "text": [
            "'5&8>\"86,?\"/7!1%5-**&-$&)$91;\"21(\\'8\"(%$4,(\"(&!67%89$!.?(*(96(28$=6029:<:$(6 !-+2622(&4'\n",
            "\n",
            "Parse error: bad character '&'\n",
            "    /var/folders/n2/xd9445p97rb3xh7m1dfx8_4h0006ts/T/tmpwlsvpube/input.txt:1\n",
            "\n",
            "\n"
          ]
        }
      ],
      "source": [
        "errors = [(data, result) for (data, result) in runs if result.stderr != \"\"]\n",
        "(first_data, first_result) = errors[0]\n",
        "\n",
        "print(repr(first_data))\n",
        "print(first_result.stderr)"
      ]
    },
    {
      "cell_type": "markdown",
      "metadata": {
        "button": false,
        "deletable": true,
        "new_sheet": false,
        "run_control": {
          "read_only": false
        },
        "id": "pLojw0qe2C3y"
      },
      "source": [
        "Are there any runs with messages other than `illegal character`, `parse error`, or `syntax error`?  (Say, something like `crash` or `you found a fatal bug`?)  Not very many:"
      ]
    },
    {
      "cell_type": "code",
      "execution_count": null,
      "metadata": {
        "button": false,
        "deletable": true,
        "execution": {
          "iopub.execute_input": "2023-01-07T14:36:36.867208Z",
          "iopub.status.busy": "2023-01-07T14:36:36.866856Z",
          "iopub.status.idle": "2023-01-07T14:36:36.868688Z",
          "shell.execute_reply": "2023-01-07T14:36:36.868903Z"
        },
        "new_sheet": false,
        "run_control": {
          "read_only": false
        },
        "id": "eUOBVDsq2C3y",
        "outputId": "e259aca2-7dfa-466d-cf7d-e4a0adb3fec5"
      },
      "outputs": [
        {
          "data": {
            "text/plain": [
              "[\"\\nParse error: bad character '&'\\n    /var/folders/n2/xd9445p97rb3xh7m1dfx8_4h0006ts/T/tmpwlsvpube/input.txt:1\\n\\n\",\n",
              " '\\nParse error: bad expression\\n    /var/folders/n2/xd9445p97rb3xh7m1dfx8_4h0006ts/T/tmpwlsvpube/input.txt:1\\n\\n',\n",
              " '\\nParse error: bad expression\\n    /var/folders/n2/xd9445p97rb3xh7m1dfx8_4h0006ts/T/tmpwlsvpube/input.txt:1\\n\\n',\n",
              " '\\nParse error: bad token\\n    /var/folders/n2/xd9445p97rb3xh7m1dfx8_4h0006ts/T/tmpwlsvpube/input.txt:1\\n\\n',\n",
              " '\\nParse error: bad token\\n    /var/folders/n2/xd9445p97rb3xh7m1dfx8_4h0006ts/T/tmpwlsvpube/input.txt:1\\n\\n',\n",
              " '\\nParse error: bad token\\n    /var/folders/n2/xd9445p97rb3xh7m1dfx8_4h0006ts/T/tmpwlsvpube/input.txt:1\\n\\n',\n",
              " '\\nParse error: bad token\\n    /var/folders/n2/xd9445p97rb3xh7m1dfx8_4h0006ts/T/tmpwlsvpube/input.txt:1\\n\\n',\n",
              " '\\nParse error: bad token\\n    /var/folders/n2/xd9445p97rb3xh7m1dfx8_4h0006ts/T/tmpwlsvpube/input.txt:1\\n\\n',\n",
              " '\\nParse error: bad expression\\n    /var/folders/n2/xd9445p97rb3xh7m1dfx8_4h0006ts/T/tmpwlsvpube/input.txt:1\\n\\n',\n",
              " '\\nParse error: bad token\\n    /var/folders/n2/xd9445p97rb3xh7m1dfx8_4h0006ts/T/tmpwlsvpube/input.txt:1\\n\\n',\n",
              " '\\nParse error: bad token\\n    /var/folders/n2/xd9445p97rb3xh7m1dfx8_4h0006ts/T/tmpwlsvpube/input.txt:1\\n\\n',\n",
              " '\\nParse error: bad expression\\n    /var/folders/n2/xd9445p97rb3xh7m1dfx8_4h0006ts/T/tmpwlsvpube/input.txt:1\\n\\n',\n",
              " '\\nParse error: bad expression\\n    /var/folders/n2/xd9445p97rb3xh7m1dfx8_4h0006ts/T/tmpwlsvpube/input.txt:1\\n\\n',\n",
              " '\\nParse error: bad expression\\n    /var/folders/n2/xd9445p97rb3xh7m1dfx8_4h0006ts/T/tmpwlsvpube/input.txt:1\\n\\n',\n",
              " '\\nParse error: bad expression\\n    /var/folders/n2/xd9445p97rb3xh7m1dfx8_4h0006ts/T/tmpwlsvpube/input.txt:1\\n\\n',\n",
              " '\\nParse error: bad token\\n    /var/folders/n2/xd9445p97rb3xh7m1dfx8_4h0006ts/T/tmpwlsvpube/input.txt:1\\n\\n',\n",
              " '\\nParse error: bad expression\\n    /var/folders/n2/xd9445p97rb3xh7m1dfx8_4h0006ts/T/tmpwlsvpube/input.txt:1\\n\\n',\n",
              " \"\\nParse error: bad character '&'\\n    /var/folders/n2/xd9445p97rb3xh7m1dfx8_4h0006ts/T/tmpwlsvpube/input.txt:1\\n\\n\",\n",
              " '\\nParse error: bad assignment: left side must be scale, ibase, obase, seed, last, var, or array element\\n    /var/folders/n2/xd9445p97rb3xh7m1dfx8_4h0006ts/T/tmpwlsvpube/input.txt:1\\n\\n',\n",
              " '\\nParse error: bad expression\\n    /var/folders/n2/xd9445p97rb3xh7m1dfx8_4h0006ts/T/tmpwlsvpube/input.txt:1\\n\\n',\n",
              " \"\\nParse error: bad character '?'\\n    /var/folders/n2/xd9445p97rb3xh7m1dfx8_4h0006ts/T/tmpwlsvpube/input.txt:1\\n\\n\",\n",
              " \"\\nParse error: bad character '''\\n    /var/folders/n2/xd9445p97rb3xh7m1dfx8_4h0006ts/T/tmpwlsvpube/input.txt:1\\n\\n\",\n",
              " '\\nParse error: bad token\\n    /var/folders/n2/xd9445p97rb3xh7m1dfx8_4h0006ts/T/tmpwlsvpube/input.txt:1\\n\\n',\n",
              " \"\\nParse error: bad character '?'\\n    /var/folders/n2/xd9445p97rb3xh7m1dfx8_4h0006ts/T/tmpwlsvpube/input.txt:1\\n\\n\",\n",
              " \"\\nParse error: bad character ':'\\n    /var/folders/n2/xd9445p97rb3xh7m1dfx8_4h0006ts/T/tmpwlsvpube/input.txt:1\\n\\n\",\n",
              " \"\\nParse error: bad character '&'\\n    /var/folders/n2/xd9445p97rb3xh7m1dfx8_4h0006ts/T/tmpwlsvpube/input.txt:1\\n\\n\",\n",
              " \"\\nParse error: bad character ':'\\n    /var/folders/n2/xd9445p97rb3xh7m1dfx8_4h0006ts/T/tmpwlsvpube/input.txt:1\\n\\n\",\n",
              " '\\nParse error: bad token\\n    /var/folders/n2/xd9445p97rb3xh7m1dfx8_4h0006ts/T/tmpwlsvpube/input.txt:1\\n\\n',\n",
              " '\\nParse error: bad token\\n    /var/folders/n2/xd9445p97rb3xh7m1dfx8_4h0006ts/T/tmpwlsvpube/input.txt:1\\n\\n',\n",
              " '\\nParse error: bad expression\\n    /var/folders/n2/xd9445p97rb3xh7m1dfx8_4h0006ts/T/tmpwlsvpube/input.txt:1\\n\\n',\n",
              " \"\\nParse error: bad character '?'\\n    /var/folders/n2/xd9445p97rb3xh7m1dfx8_4h0006ts/T/tmpwlsvpube/input.txt:1\\n\\n\",\n",
              " '\\nParse error: bad assignment: left side must be scale, ibase, obase, seed, last, var, or array element\\n    /var/folders/n2/xd9445p97rb3xh7m1dfx8_4h0006ts/T/tmpwlsvpube/input.txt:1\\n\\n',\n",
              " '\\nParse error: bad token\\n    /var/folders/n2/xd9445p97rb3xh7m1dfx8_4h0006ts/T/tmpwlsvpube/input.txt:1\\n\\n',\n",
              " '\\nParse error: bad expression\\n    /var/folders/n2/xd9445p97rb3xh7m1dfx8_4h0006ts/T/tmpwlsvpube/input.txt:1\\n\\n',\n",
              " '\\nParse error: bad token\\n    /var/folders/n2/xd9445p97rb3xh7m1dfx8_4h0006ts/T/tmpwlsvpube/input.txt:1\\n\\n',\n",
              " \"\\nParse error: bad character '&'\\n    /var/folders/n2/xd9445p97rb3xh7m1dfx8_4h0006ts/T/tmpwlsvpube/input.txt:1\\n\\n\",\n",
              " \"\\nParse error: bad character '''\\n    /var/folders/n2/xd9445p97rb3xh7m1dfx8_4h0006ts/T/tmpwlsvpube/input.txt:1\\n\\n\",\n",
              " '\\nParse error: bad token\\n    /var/folders/n2/xd9445p97rb3xh7m1dfx8_4h0006ts/T/tmpwlsvpube/input.txt:1\\n\\n',\n",
              " '\\nParse error: bad expression\\n    /var/folders/n2/xd9445p97rb3xh7m1dfx8_4h0006ts/T/tmpwlsvpube/input.txt:1\\n\\n',\n",
              " \"\\nParse error: bad character '''\\n    /var/folders/n2/xd9445p97rb3xh7m1dfx8_4h0006ts/T/tmpwlsvpube/input.txt:1\\n\\n\",\n",
              " \"\\nParse error: bad character '''\\n    /var/folders/n2/xd9445p97rb3xh7m1dfx8_4h0006ts/T/tmpwlsvpube/input.txt:1\\n\\n\",\n",
              " \"\\nParse error: bad character '&'\\n    /var/folders/n2/xd9445p97rb3xh7m1dfx8_4h0006ts/T/tmpwlsvpube/input.txt:1\\n\\n\",\n",
              " '\\nParse error: bad token\\n    /var/folders/n2/xd9445p97rb3xh7m1dfx8_4h0006ts/T/tmpwlsvpube/input.txt:1\\n\\n',\n",
              " '\\nParse error: bad token\\n    /var/folders/n2/xd9445p97rb3xh7m1dfx8_4h0006ts/T/tmpwlsvpube/input.txt:1\\n\\n',\n",
              " \"\\nParse error: bad character ':'\\n    /var/folders/n2/xd9445p97rb3xh7m1dfx8_4h0006ts/T/tmpwlsvpube/input.txt:1\\n\\n\",\n",
              " \"\\nParse error: bad character ':'\\n    /var/folders/n2/xd9445p97rb3xh7m1dfx8_4h0006ts/T/tmpwlsvpube/input.txt:1\\n\\n\",\n",
              " '\\nParse error: bad expression\\n    /var/folders/n2/xd9445p97rb3xh7m1dfx8_4h0006ts/T/tmpwlsvpube/input.txt:1\\n\\n',\n",
              " '\\nParse error: bad expression\\n    /var/folders/n2/xd9445p97rb3xh7m1dfx8_4h0006ts/T/tmpwlsvpube/input.txt:1\\n\\n',\n",
              " '\\nParse error: bad token\\n    /var/folders/n2/xd9445p97rb3xh7m1dfx8_4h0006ts/T/tmpwlsvpube/input.txt:1\\n\\n',\n",
              " \"\\nParse error: bad character '&'\\n    /var/folders/n2/xd9445p97rb3xh7m1dfx8_4h0006ts/T/tmpwlsvpube/input.txt:1\\n\\n\",\n",
              " '\\nParse error: bad token\\n    /var/folders/n2/xd9445p97rb3xh7m1dfx8_4h0006ts/T/tmpwlsvpube/input.txt:1\\n\\n',\n",
              " '\\nParse error: bad expression\\n    /var/folders/n2/xd9445p97rb3xh7m1dfx8_4h0006ts/T/tmpwlsvpube/input.txt:1\\n\\n',\n",
              " '\\nParse error: bad expression\\n    /var/folders/n2/xd9445p97rb3xh7m1dfx8_4h0006ts/T/tmpwlsvpube/input.txt:1\\n\\n',\n",
              " '\\nParse error: bad token\\n    /var/folders/n2/xd9445p97rb3xh7m1dfx8_4h0006ts/T/tmpwlsvpube/input.txt:1\\n\\n',\n",
              " '\\nParse error: bad expression\\n    /var/folders/n2/xd9445p97rb3xh7m1dfx8_4h0006ts/T/tmpwlsvpube/input.txt:1\\n\\n',\n",
              " \"\\nParse error: bad character ':'\\n    /var/folders/n2/xd9445p97rb3xh7m1dfx8_4h0006ts/T/tmpwlsvpube/input.txt:1\\n\\n\",\n",
              " \"\\nParse error: bad character ':'\\n    /var/folders/n2/xd9445p97rb3xh7m1dfx8_4h0006ts/T/tmpwlsvpube/input.txt:1\\n\\n\",\n",
              " '\\nParse error: bad expression\\n    /var/folders/n2/xd9445p97rb3xh7m1dfx8_4h0006ts/T/tmpwlsvpube/input.txt:1\\n\\n',\n",
              " '\\nParse error: bad token\\n    /var/folders/n2/xd9445p97rb3xh7m1dfx8_4h0006ts/T/tmpwlsvpube/input.txt:1\\n\\n',\n",
              " '\\nParse error: bad token\\n    /var/folders/n2/xd9445p97rb3xh7m1dfx8_4h0006ts/T/tmpwlsvpube/input.txt:1\\n\\n',\n",
              " '\\nParse error: bad token\\n    /var/folders/n2/xd9445p97rb3xh7m1dfx8_4h0006ts/T/tmpwlsvpube/input.txt:1\\n\\n',\n",
              " '\\nParse error: bad expression\\n    /var/folders/n2/xd9445p97rb3xh7m1dfx8_4h0006ts/T/tmpwlsvpube/input.txt:1\\n\\n',\n",
              " '\\nParse error: bad expression\\n    /var/folders/n2/xd9445p97rb3xh7m1dfx8_4h0006ts/T/tmpwlsvpube/input.txt:1\\n\\n',\n",
              " \"\\nParse error: bad character '&'\\n    /var/folders/n2/xd9445p97rb3xh7m1dfx8_4h0006ts/T/tmpwlsvpube/input.txt:1\\n\\n\",\n",
              " \"\\nParse error: bad character '&'\\n    /var/folders/n2/xd9445p97rb3xh7m1dfx8_4h0006ts/T/tmpwlsvpube/input.txt:1\\n\\n\",\n",
              " \"\\nParse error: bad character '''\\n    /var/folders/n2/xd9445p97rb3xh7m1dfx8_4h0006ts/T/tmpwlsvpube/input.txt:1\\n\\n\",\n",
              " '\\nParse error: bad token\\n    /var/folders/n2/xd9445p97rb3xh7m1dfx8_4h0006ts/T/tmpwlsvpube/input.txt:1\\n\\n',\n",
              " '\\nParse error: bad expression\\n    /var/folders/n2/xd9445p97rb3xh7m1dfx8_4h0006ts/T/tmpwlsvpube/input.txt:1\\n\\n',\n",
              " \"\\nParse error: bad character ':'\\n    /var/folders/n2/xd9445p97rb3xh7m1dfx8_4h0006ts/T/tmpwlsvpube/input.txt:1\\n\\n\",\n",
              " '\\nParse error: bad expression\\n    /var/folders/n2/xd9445p97rb3xh7m1dfx8_4h0006ts/T/tmpwlsvpube/input.txt:1\\n\\n',\n",
              " \"\\nParse error: bad character '''\\n    /var/folders/n2/xd9445p97rb3xh7m1dfx8_4h0006ts/T/tmpwlsvpube/input.txt:1\\n\\n\",\n",
              " '\\nParse error: bad expression\\n    /var/folders/n2/xd9445p97rb3xh7m1dfx8_4h0006ts/T/tmpwlsvpube/input.txt:1\\n\\n',\n",
              " \"\\nParse error: bad character ':'\\n    /var/folders/n2/xd9445p97rb3xh7m1dfx8_4h0006ts/T/tmpwlsvpube/input.txt:1\\n\\n\",\n",
              " \"\\nParse error: bad character '''\\n    /var/folders/n2/xd9445p97rb3xh7m1dfx8_4h0006ts/T/tmpwlsvpube/input.txt:1\\n\\n\",\n",
              " '\\nParse error: bad token\\n    /var/folders/n2/xd9445p97rb3xh7m1dfx8_4h0006ts/T/tmpwlsvpube/input.txt:1\\n\\n',\n",
              " '\\nParse error: bad token\\n    /var/folders/n2/xd9445p97rb3xh7m1dfx8_4h0006ts/T/tmpwlsvpube/input.txt:1\\n\\n',\n",
              " '\\nParse error: bad token\\n    /var/folders/n2/xd9445p97rb3xh7m1dfx8_4h0006ts/T/tmpwlsvpube/input.txt:1\\n\\n',\n",
              " '\\nParse error: bad expression\\n    /var/folders/n2/xd9445p97rb3xh7m1dfx8_4h0006ts/T/tmpwlsvpube/input.txt:1\\n\\n',\n",
              " '\\nParse error: bad token\\n    /var/folders/n2/xd9445p97rb3xh7m1dfx8_4h0006ts/T/tmpwlsvpube/input.txt:1\\n\\n',\n",
              " \"\\nParse error: bad character '&'\\n    /var/folders/n2/xd9445p97rb3xh7m1dfx8_4h0006ts/T/tmpwlsvpube/input.txt:1\\n\\n\",\n",
              " '\\nParse error: bad token\\n    /var/folders/n2/xd9445p97rb3xh7m1dfx8_4h0006ts/T/tmpwlsvpube/input.txt:1\\n\\n',\n",
              " '\\nParse error: bad token\\n    /var/folders/n2/xd9445p97rb3xh7m1dfx8_4h0006ts/T/tmpwlsvpube/input.txt:1\\n\\n',\n",
              " \"\\nParse error: bad character '?'\\n    /var/folders/n2/xd9445p97rb3xh7m1dfx8_4h0006ts/T/tmpwlsvpube/input.txt:1\\n\\n\",\n",
              " '\\nParse error: bad expression\\n    /var/folders/n2/xd9445p97rb3xh7m1dfx8_4h0006ts/T/tmpwlsvpube/input.txt:1\\n\\n',\n",
              " '\\nParse error: bad expression\\n    /var/folders/n2/xd9445p97rb3xh7m1dfx8_4h0006ts/T/tmpwlsvpube/input.txt:1\\n\\n',\n",
              " '\\nParse error: bad expression\\n    /var/folders/n2/xd9445p97rb3xh7m1dfx8_4h0006ts/T/tmpwlsvpube/input.txt:1\\n\\n',\n",
              " \"\\nParse error: bad character ':'\\n    /var/folders/n2/xd9445p97rb3xh7m1dfx8_4h0006ts/T/tmpwlsvpube/input.txt:1\\n\\n\",\n",
              " \"\\nParse error: bad character '''\\n    /var/folders/n2/xd9445p97rb3xh7m1dfx8_4h0006ts/T/tmpwlsvpube/input.txt:1\\n\\n\",\n",
              " '\\nParse error: bad expression\\n    /var/folders/n2/xd9445p97rb3xh7m1dfx8_4h0006ts/T/tmpwlsvpube/input.txt:1\\n\\n',\n",
              " '\\nParse error: bad token\\n    /var/folders/n2/xd9445p97rb3xh7m1dfx8_4h0006ts/T/tmpwlsvpube/input.txt:1\\n\\n',\n",
              " '\\nParse error: bad token\\n    /var/folders/n2/xd9445p97rb3xh7m1dfx8_4h0006ts/T/tmpwlsvpube/input.txt:1\\n\\n']"
            ]
          },
          "execution_count": 27,
          "metadata": {},
          "output_type": "execute_result"
        }
      ],
      "source": [
        "[result.stderr for (data, result) in runs if\n",
        " result.stderr != \"\"\n",
        " and \"illegal character\" not in result.stderr\n",
        " and \"parse error\" not in result.stderr\n",
        " and \"syntax error\" not in result.stderr]"
      ]
    },
    {
      "cell_type": "markdown",
      "metadata": {
        "button": false,
        "deletable": true,
        "new_sheet": false,
        "run_control": {
          "read_only": false
        },
        "id": "J48Q8gGV2C3y"
      },
      "source": [
        "Maybe a crash would be indicated by `bc` just crashing.  Unfortunately, the return code is never nonzero:"
      ]
    },
    {
      "cell_type": "code",
      "execution_count": null,
      "metadata": {
        "button": false,
        "deletable": true,
        "execution": {
          "iopub.execute_input": "2023-01-07T14:36:36.871726Z",
          "iopub.status.busy": "2023-01-07T14:36:36.871366Z",
          "iopub.status.idle": "2023-01-07T14:36:36.873432Z",
          "shell.execute_reply": "2023-01-07T14:36:36.873877Z"
        },
        "new_sheet": false,
        "run_control": {
          "read_only": false
        },
        "id": "CKRz2CBd2C3y",
        "outputId": "72210afe-b1e9-4e08-be48-e23e4fd58895"
      },
      "outputs": [
        {
          "data": {
            "text/plain": [
              "91"
            ]
          },
          "execution_count": 28,
          "metadata": {},
          "output_type": "execute_result"
        }
      ],
      "source": [
        "sum(1 for (data, result) in runs if result.returncode != 0)"
      ]
    },
    {
      "cell_type": "markdown",
      "metadata": {
        "button": false,
        "deletable": true,
        "new_sheet": false,
        "run_control": {
          "read_only": false
        },
        "id": "KrhFatpV2C3y"
      },
      "source": [
        "How about we let the above `bc` test run for some more?  While it is running, let us take a look on how the state of the art was in 1989."
      ]
    },
    {
      "cell_type": "markdown",
      "metadata": {
        "button": false,
        "deletable": true,
        "new_sheet": false,
        "run_control": {
          "read_only": false
        },
        "id": "69ZHZ0sE2C3y"
      },
      "source": [
        "## Bugs Fuzzers Find\n",
        "\n",
        "When Miller and his students ran their first fuzzers in 1989, they found an alarming result: About **a third of the UNIX utilities** they fuzzed had issues – they crashed, hung, or otherwise failed when confronted with fuzzing input \\cite{Miller1990}.  This also included the `bc` program, above.  (Apparently, the bugs have now been fixed!)\n",
        "\n",
        "Considering that many of these UNIX utilities were used in scripts that would also process network input, this was an alarming result.  Programmers quickly built and ran their own fuzzers, rushed to fix the reported errors, and learned not to trust external inputs anymore."
      ]
    },
    {
      "cell_type": "markdown",
      "metadata": {
        "button": false,
        "deletable": true,
        "new_sheet": false,
        "run_control": {
          "read_only": false
        },
        "id": "AnRGFYwC2C3z"
      },
      "source": [
        "What kind of problems did Miller's fuzzing experiment find?  It turns out that the mistakes programmers made in 1990 are still the same mistakes being made today.\n"
      ]
    },
    {
      "cell_type": "markdown",
      "metadata": {
        "button": false,
        "deletable": true,
        "new_sheet": false,
        "run_control": {
          "read_only": false
        },
        "id": "-OlQTfE-2C3z"
      },
      "source": [
        "### Buffer Overflows\n",
        "\n",
        "Many programs have built-in maximum lengths for inputs and input elements.  In languages like C, it is easy to excess these lengths without the program (or the programmer) even noticing, triggering so-called **buffer overflows**.  The following code, for instance, happily copies the `input` string into a `weekday` string even if `input` has more than eight characters:\n",
        "```c\n",
        "char weekday[9]; // 8 characters + trailing '\\0' terminator\n",
        "strcpy (weekday, input);\n",
        "```\n",
        "Ironically, this already fails if `input` is `\"Wednesday\"` (9 characters); any excess characters (here, `'y'` and the following `'\\0'` string terminator) are simply copied to whatever resides in memory after `weekday`, triggering arbitrary behavior; maybe some boolean character variable which would be set from `'n'` to `'y'`.  With fuzzing, it is very easy to produce arbitrary long inputs and input elements."
      ]
    },
    {
      "cell_type": "markdown",
      "metadata": {
        "button": false,
        "deletable": true,
        "new_sheet": false,
        "run_control": {
          "read_only": false
        },
        "id": "7qsyu60o2C3z"
      },
      "source": [
        "We can easily simulate this buffer overflow behavior in a Python function:"
      ]
    },
    {
      "cell_type": "code",
      "execution_count": null,
      "metadata": {
        "button": false,
        "deletable": true,
        "execution": {
          "iopub.execute_input": "2023-01-07T14:36:36.877117Z",
          "iopub.status.busy": "2023-01-07T14:36:36.876613Z",
          "iopub.status.idle": "2023-01-07T14:36:36.877974Z",
          "shell.execute_reply": "2023-01-07T14:36:36.878342Z"
        },
        "new_sheet": false,
        "run_control": {
          "read_only": false
        },
        "id": "MoQruf772C3z"
      },
      "outputs": [],
      "source": [
        "def crash_if_too_long(s):\n",
        "    buffer = \"Thursday\"\n",
        "    if len(s) > len(buffer):\n",
        "        raise ValueError"
      ]
    },
    {
      "cell_type": "markdown",
      "metadata": {
        "button": false,
        "deletable": true,
        "new_sheet": false,
        "run_control": {
          "read_only": false
        },
        "id": "LzBhR5mm2C3z"
      },
      "source": [
        "And yes, it quickly crashes."
      ]
    },
    {
      "cell_type": "code",
      "execution_count": null,
      "metadata": {
        "button": false,
        "deletable": true,
        "execution": {
          "iopub.execute_input": "2023-01-07T14:36:36.881377Z",
          "iopub.status.busy": "2023-01-07T14:36:36.880799Z",
          "iopub.status.idle": "2023-01-07T14:36:36.882428Z",
          "shell.execute_reply": "2023-01-07T14:36:36.882725Z"
        },
        "new_sheet": false,
        "run_control": {
          "read_only": false
        },
        "id": "htSedz7X2C3z"
      },
      "outputs": [],
      "source": [
        "from ExpectError import ExpectError"
      ]
    },
    {
      "cell_type": "code",
      "execution_count": null,
      "metadata": {
        "button": false,
        "deletable": true,
        "execution": {
          "iopub.execute_input": "2023-01-07T14:36:36.885595Z",
          "iopub.status.busy": "2023-01-07T14:36:36.885084Z",
          "iopub.status.idle": "2023-01-07T14:36:36.886804Z",
          "shell.execute_reply": "2023-01-07T14:36:36.887149Z"
        },
        "new_sheet": false,
        "run_control": {
          "read_only": false
        },
        "id": "zKmggDEC2C3z",
        "outputId": "432c7c5a-241b-43fe-8f77-64c896fe4f50"
      },
      "outputs": [
        {
          "name": "stderr",
          "output_type": "stream",
          "text": [
            "Traceback (most recent call last):\n",
            "  File \"/var/folders/n2/xd9445p97rb3xh7m1dfx8_4h0006ts/T/ipykernel_1242/292568387.py\", line 5, in <cell line: 2>\n",
            "    crash_if_too_long(s)\n",
            "  File \"/var/folders/n2/xd9445p97rb3xh7m1dfx8_4h0006ts/T/ipykernel_1242/2784561514.py\", line 4, in crash_if_too_long\n",
            "    raise ValueError\n",
            "ValueError (expected)\n"
          ]
        }
      ],
      "source": [
        "trials = 100\n",
        "with ExpectError():\n",
        "    for i in range(trials):\n",
        "        s = fuzzer()\n",
        "        crash_if_too_long(s)"
      ]
    },
    {
      "cell_type": "markdown",
      "metadata": {
        "button": false,
        "deletable": true,
        "new_sheet": false,
        "run_control": {
          "read_only": false
        },
        "id": "wgSEGUM92C3z"
      },
      "source": [
        "The `with ExpectError()` line in the above code ensures that the error message is printed, yet execution continues; this is to differentiate this \"expected\" error from \"unexpected\" errors in other code examples."
      ]
    },
    {
      "cell_type": "markdown",
      "metadata": {
        "button": false,
        "deletable": true,
        "new_sheet": false,
        "run_control": {
          "read_only": false
        },
        "id": "_CXg16lH2C3z"
      },
      "source": [
        "### Missing Error Checks\n",
        "\n",
        "Many programming languages do not have exceptions, but instead have functions return special **error codes** in exceptional circumstances.  The C function `getchar()`, for instance, normally returns a character from the standard input; if no input is available anymore, it returns the special value `EOF` (end of file).  Now assume a programmer is scanning the input for the next character, reading in characters with `getchar()` until a space character is read:\n",
        "```c\n",
        "while (getchar() != ' ');\n",
        "```\n",
        "What happens if the input ends prematurely, as would perfectly be feasible with fuzzing?  Well, `getchar()` returns `EOF`, and keeps on returning `EOF` when called again; so the code above simply enters an infinite loop."
      ]
    },
    {
      "cell_type": "markdown",
      "metadata": {
        "button": false,
        "deletable": true,
        "new_sheet": false,
        "run_control": {
          "read_only": false
        },
        "id": "ahX-9v-m2C3z"
      },
      "source": [
        "Again, we can simulate such missing error checks.  Here's a function that will effectively hang if no space is present in the input:"
      ]
    },
    {
      "cell_type": "code",
      "execution_count": null,
      "metadata": {
        "button": false,
        "deletable": true,
        "execution": {
          "iopub.execute_input": "2023-01-07T14:36:36.890020Z",
          "iopub.status.busy": "2023-01-07T14:36:36.889630Z",
          "iopub.status.idle": "2023-01-07T14:36:36.891181Z",
          "shell.execute_reply": "2023-01-07T14:36:36.891426Z"
        },
        "new_sheet": false,
        "run_control": {
          "read_only": false
        },
        "id": "kEZD674B2C30"
      },
      "outputs": [],
      "source": [
        "def hang_if_no_space(s):\n",
        "    i = 0\n",
        "    while True:\n",
        "        if i < len(s):\n",
        "            if s[i] == ' ':\n",
        "                break\n",
        "        i += 1"
      ]
    },
    {
      "cell_type": "markdown",
      "metadata": {
        "button": false,
        "deletable": true,
        "new_sheet": false,
        "run_control": {
          "read_only": false
        },
        "id": "rOlRCjGl2C30"
      },
      "source": [
        "Using the timeout mechanism from our [Introduction to Testing](Intro_Testing.ipynb), we can interrupt this function after some time.  And yes, it does hang after a few fuzzing inputs."
      ]
    },
    {
      "cell_type": "code",
      "execution_count": null,
      "metadata": {
        "button": false,
        "deletable": true,
        "execution": {
          "iopub.execute_input": "2023-01-07T14:36:36.894048Z",
          "iopub.status.busy": "2023-01-07T14:36:36.893489Z",
          "iopub.status.idle": "2023-01-07T14:36:36.895070Z",
          "shell.execute_reply": "2023-01-07T14:36:36.895496Z"
        },
        "new_sheet": false,
        "run_control": {
          "read_only": false
        },
        "id": "8Jnc_LHN2C30"
      },
      "outputs": [],
      "source": [
        "from ExpectError import ExpectTimeout"
      ]
    },
    {
      "cell_type": "code",
      "execution_count": null,
      "metadata": {
        "button": false,
        "deletable": true,
        "execution": {
          "iopub.execute_input": "2023-01-07T14:36:36.983140Z",
          "iopub.status.busy": "2023-01-07T14:36:36.938988Z",
          "iopub.status.idle": "2023-01-07T14:36:38.904742Z",
          "shell.execute_reply": "2023-01-07T14:36:38.905032Z"
        },
        "new_sheet": false,
        "run_control": {
          "read_only": false
        },
        "id": "jvnnGzfJ2C30",
        "outputId": "893c5535-283a-4a3e-bb65-5a1031ada662"
      },
      "outputs": [
        {
          "name": "stderr",
          "output_type": "stream",
          "text": [
            "Traceback (most recent call last):\n",
            "  File \"/var/folders/n2/xd9445p97rb3xh7m1dfx8_4h0006ts/T/ipykernel_1242/3194687366.py\", line 5, in <cell line: 2>\n",
            "    hang_if_no_space(s)\n",
            "  File \"/var/folders/n2/xd9445p97rb3xh7m1dfx8_4h0006ts/T/ipykernel_1242/3035466707.py\", line 3, in hang_if_no_space\n",
            "    while True:\n",
            "  File \"/Users/zeller/Projects/fuzzingbook/notebooks/Timeout.ipynb\", line 43, in timeout_handler\n",
            "    raise TimeoutError()\n",
            "TimeoutError (expected)\n"
          ]
        }
      ],
      "source": [
        "trials = 100\n",
        "with ExpectTimeout(2):\n",
        "    for i in range(trials):\n",
        "        s = fuzzer()\n",
        "        hang_if_no_space(s)"
      ]
    },
    {
      "cell_type": "markdown",
      "metadata": {
        "button": false,
        "deletable": true,
        "new_sheet": false,
        "run_control": {
          "read_only": false
        },
        "id": "lqyNeCpa2C30"
      },
      "source": [
        "The `with ExpectTimeout()` line in the above code ensures that execution of the enclosed code is interrupted after two seconds, printing the error message."
      ]
    },
    {
      "cell_type": "markdown",
      "metadata": {
        "button": false,
        "deletable": true,
        "new_sheet": false,
        "run_control": {
          "read_only": false
        },
        "id": "G_d5CtVr2C30"
      },
      "source": [
        "\n",
        "### Rogue Numbers\n",
        "\n",
        "With fuzzing, it is easy to generate **uncommon values** in the input, causing all kinds of interesting behavior.  Consider the following code, again in the C language, which first reads a buffer size from the input, and then allocates a buffer of the given size:\n",
        "```c\n",
        "char *read_input() {\n",
        "    size_t size = read_buffer_size();\n",
        "    char *buffer = (char *)malloc(size);\n",
        "    // fill buffer\n",
        "    return (buffer);\n",
        "}\n",
        "```\n",
        "What happens if `size` is very large, exceeding program memory?  What happens if `size` is less than the number of characters following?  What happens if `size` is negative?  By providing a random number here, fuzzing can create all kinds of damages.\n"
      ]
    },
    {
      "cell_type": "markdown",
      "metadata": {
        "button": false,
        "deletable": true,
        "new_sheet": false,
        "run_control": {
          "read_only": false
        },
        "id": "exj7rzy62C30"
      },
      "source": [
        "Again, we can easily simulate such rogue numbers in Python.  The function `collapse_if_too_large()` fails if the passed value (a string) is too large after having been converted to an integer."
      ]
    },
    {
      "cell_type": "code",
      "execution_count": null,
      "metadata": {
        "button": false,
        "deletable": true,
        "execution": {
          "iopub.execute_input": "2023-01-07T14:36:38.908238Z",
          "iopub.status.busy": "2023-01-07T14:36:38.907728Z",
          "iopub.status.idle": "2023-01-07T14:36:38.908989Z",
          "shell.execute_reply": "2023-01-07T14:36:38.909250Z"
        },
        "new_sheet": false,
        "run_control": {
          "read_only": false
        },
        "id": "wk97zMcE2C30"
      },
      "outputs": [],
      "source": [
        "def collapse_if_too_large(s):\n",
        "    if int(s) > 1000:\n",
        "        raise ValueError"
      ]
    },
    {
      "cell_type": "markdown",
      "metadata": {
        "button": false,
        "deletable": true,
        "new_sheet": false,
        "run_control": {
          "read_only": false
        },
        "id": "bMQMchLe2C30"
      },
      "source": [
        "We can have `fuzzer()` create a string of digits:"
      ]
    },
    {
      "cell_type": "code",
      "execution_count": null,
      "metadata": {
        "button": false,
        "deletable": true,
        "execution": {
          "iopub.execute_input": "2023-01-07T14:36:38.911831Z",
          "iopub.status.busy": "2023-01-07T14:36:38.911445Z",
          "iopub.status.idle": "2023-01-07T14:36:38.913071Z",
          "shell.execute_reply": "2023-01-07T14:36:38.913323Z"
        },
        "new_sheet": false,
        "run_control": {
          "read_only": false
        },
        "id": "NDaVT2U62C30",
        "outputId": "ef0972c6-b660-433e-d39c-7de18a3d9862"
      },
      "outputs": [
        {
          "name": "stdout",
          "output_type": "stream",
          "text": [
            "7056414967099541967374507745748918952640135045\n"
          ]
        }
      ],
      "source": [
        "long_number = fuzzer(100, ord('0'), 10)\n",
        "print(long_number)"
      ]
    },
    {
      "cell_type": "markdown",
      "metadata": {
        "button": false,
        "deletable": true,
        "new_sheet": false,
        "run_control": {
          "read_only": false
        },
        "id": "pjqMR-WE2C30"
      },
      "source": [
        "If we feed such numbers into `collapse_if_too_large()`, it will very soon fail."
      ]
    },
    {
      "cell_type": "code",
      "execution_count": null,
      "metadata": {
        "button": false,
        "deletable": true,
        "execution": {
          "iopub.execute_input": "2023-01-07T14:36:38.915577Z",
          "iopub.status.busy": "2023-01-07T14:36:38.915176Z",
          "iopub.status.idle": "2023-01-07T14:36:38.916933Z",
          "shell.execute_reply": "2023-01-07T14:36:38.917224Z"
        },
        "new_sheet": false,
        "run_control": {
          "read_only": false
        },
        "id": "MeSVeu3R2C30",
        "outputId": "232b30c5-5324-4de9-ba2b-acf6d8c87a2b"
      },
      "outputs": [
        {
          "name": "stderr",
          "output_type": "stream",
          "text": [
            "Traceback (most recent call last):\n",
            "  File \"/var/folders/n2/xd9445p97rb3xh7m1dfx8_4h0006ts/T/ipykernel_1242/2775103647.py\", line 2, in <cell line: 1>\n",
            "    collapse_if_too_large(long_number)\n",
            "  File \"/var/folders/n2/xd9445p97rb3xh7m1dfx8_4h0006ts/T/ipykernel_1242/1591744602.py\", line 3, in collapse_if_too_large\n",
            "    raise ValueError\n",
            "ValueError (expected)\n"
          ]
        }
      ],
      "source": [
        "with ExpectError():\n",
        "    collapse_if_too_large(long_number)"
      ]
    },
    {
      "cell_type": "markdown",
      "metadata": {
        "button": false,
        "deletable": true,
        "new_sheet": false,
        "run_control": {
          "read_only": false
        },
        "id": "mkDD6qFe2C31"
      },
      "source": [
        "If we really wanted to allocate that much memory on a system, having it quickly fail as above actually would be the better option.  In reality, running out of memory may dramatically slow systems down, up to the point that they become totally unresponsive – and restarting is the only option."
      ]
    },
    {
      "cell_type": "markdown",
      "metadata": {
        "button": false,
        "deletable": true,
        "new_sheet": false,
        "run_control": {
          "read_only": false
        },
        "id": "JD6VGD0d2C31"
      },
      "source": [
        "One might argue that these are all problems of bad programming, or of bad programming languages.  But then, there are thousands of people starting to program every day, and all of them make the same mistakes again and again, even today.  "
      ]
    },
    {
      "cell_type": "markdown",
      "metadata": {
        "button": false,
        "deletable": true,
        "new_sheet": false,
        "run_control": {
          "read_only": false
        },
        "id": "PvrepWNu2C31"
      },
      "source": [
        "## Catching Errors\n",
        "\n",
        "When Miller and his students built their first fuzzer, they could identify errors simply because the program would crash or hang – two conditions that are easy to identify.  If the failures are more subtle, though, we need to come up with additional checks."
      ]
    },
    {
      "cell_type": "markdown",
      "metadata": {
        "button": false,
        "deletable": true,
        "new_sheet": false,
        "run_control": {
          "read_only": false
        },
        "id": "uwk0TpDR2C31"
      },
      "source": [
        "### Generic Checkers\n",
        "\n",
        "Buffer overflows, as [discussed above](#Buffer-Overflows), are a particular instance of a more general problem: In languages like C and C++, a program can access arbitrary parts of its memory – even those parts that are uninitialized, already freed or simply not part of the data structure you are trying to access.  This is necessary if you want to write an operating system, and great if you want a maximum of performance or control, but pretty bad if you want to avoid mistakes.  Fortunately, there are tools that help catching such issues at runtime, and they are great when combined with fuzzing."
      ]
    },
    {
      "cell_type": "markdown",
      "metadata": {
        "button": false,
        "deletable": true,
        "new_sheet": false,
        "run_control": {
          "read_only": false
        },
        "id": "R0hyIL942C31"
      },
      "source": [
        "#### Checking Memory Accesses\n",
        "\n",
        "To catch problematic memory accesses during testing, one can run C programs in special _memory-checking_ environments; at runtime, these check for each and every memory operation whether it accesses valid and initialized memory. A popular example is [LLVM Address Sanitizer](https://clang.llvm.org/docs/AddressSanitizer.html) which detects a whole set of potentially dangerous memory safety violations. In the following example we will compile a rather simple C program with this tool and provoke an out-of-bounds read by reading past an allocated portion of memory."
      ]
    },
    {
      "cell_type": "code",
      "execution_count": null,
      "metadata": {
        "button": false,
        "deletable": true,
        "execution": {
          "iopub.execute_input": "2023-01-07T14:36:38.920049Z",
          "iopub.status.busy": "2023-01-07T14:36:38.919600Z",
          "iopub.status.idle": "2023-01-07T14:36:38.921271Z",
          "shell.execute_reply": "2023-01-07T14:36:38.921592Z"
        },
        "new_sheet": false,
        "run_control": {
          "read_only": false
        },
        "id": "VXzEFRNs2C31"
      },
      "outputs": [],
      "source": [
        "with open(\"program.c\", \"w\") as f:\n",
        "    f.write(\"\"\"\n",
        "#include <stdlib.h>\n",
        "#include <string.h>\n",
        "\n",
        "int main(int argc, char** argv) {\n",
        "    /* Create an array with 100 bytes, initialized with 42 */\n",
        "    char *buf = malloc(100);\n",
        "    memset(buf, 42, 100);\n",
        "\n",
        "    /* Read the N-th element, with N being the first command-line argument */\n",
        "    int index = atoi(argv[1]);\n",
        "    char val = buf[index];\n",
        "\n",
        "    /* Clean up memory so we don't leak */\n",
        "    free(buf);\n",
        "    return val;\n",
        "}\n",
        "    \"\"\")"
      ]
    },
    {
      "cell_type": "code",
      "execution_count": null,
      "metadata": {
        "execution": {
          "iopub.execute_input": "2023-01-07T14:36:38.923805Z",
          "iopub.status.busy": "2023-01-07T14:36:38.923468Z",
          "iopub.status.idle": "2023-01-07T14:36:38.925004Z",
          "shell.execute_reply": "2023-01-07T14:36:38.925204Z"
        },
        "id": "TlId073T2C31"
      },
      "outputs": [],
      "source": [
        "from bookutils import print_file"
      ]
    },
    {
      "cell_type": "code",
      "execution_count": null,
      "metadata": {
        "button": false,
        "deletable": true,
        "execution": {
          "iopub.execute_input": "2023-01-07T14:36:38.930356Z",
          "iopub.status.busy": "2023-01-07T14:36:38.929891Z",
          "iopub.status.idle": "2023-01-07T14:36:38.980167Z",
          "shell.execute_reply": "2023-01-07T14:36:38.980448Z"
        },
        "new_sheet": false,
        "run_control": {
          "read_only": false
        },
        "id": "0VUEviHJ2C31",
        "outputId": "288ae5d2-6487-4a0c-ddb0-66c52cefc401"
      },
      "outputs": [
        {
          "name": "stdout",
          "output_type": "stream",
          "text": [
            "\u001b[36m#\u001b[39;49;00m\u001b[36minclude\u001b[39;49;00m\u001b[37m \u001b[39;49;00m\u001b[37m<stdlib.h>\u001b[39;49;00m\u001b[36m\u001b[39;49;00m\n",
            "\u001b[36m#\u001b[39;49;00m\u001b[36minclude\u001b[39;49;00m\u001b[37m \u001b[39;49;00m\u001b[37m<string.h>\u001b[39;49;00m\u001b[36m\u001b[39;49;00m\n",
            "\u001b[37m\u001b[39;49;00m\n",
            "\u001b[36mint\u001b[39;49;00m\u001b[37m \u001b[39;49;00m\u001b[32mmain\u001b[39;49;00m(\u001b[36mint\u001b[39;49;00m\u001b[37m \u001b[39;49;00margc,\u001b[37m \u001b[39;49;00m\u001b[36mchar\u001b[39;49;00m**\u001b[37m \u001b[39;49;00margv)\u001b[37m \u001b[39;49;00m{\u001b[37m\u001b[39;49;00m\n",
            "\u001b[37m    \u001b[39;49;00m\u001b[37m/* Create an array with 100 bytes, initialized with 42 */\u001b[39;49;00m\u001b[37m\u001b[39;49;00m\n",
            "\u001b[37m    \u001b[39;49;00m\u001b[36mchar\u001b[39;49;00m\u001b[37m \u001b[39;49;00m*buf\u001b[37m \u001b[39;49;00m=\u001b[37m \u001b[39;49;00mmalloc(\u001b[34m100\u001b[39;49;00m);\u001b[37m\u001b[39;49;00m\n",
            "\u001b[37m    \u001b[39;49;00mmemset(buf,\u001b[37m \u001b[39;49;00m\u001b[34m42\u001b[39;49;00m,\u001b[37m \u001b[39;49;00m\u001b[34m100\u001b[39;49;00m);\u001b[37m\u001b[39;49;00m\n",
            "\u001b[37m\u001b[39;49;00m\n",
            "\u001b[37m    \u001b[39;49;00m\u001b[37m/* Read the N-th element, with N being the first command-line argument */\u001b[39;49;00m\u001b[37m\u001b[39;49;00m\n",
            "\u001b[37m    \u001b[39;49;00m\u001b[36mint\u001b[39;49;00m\u001b[37m \u001b[39;49;00mindex\u001b[37m \u001b[39;49;00m=\u001b[37m \u001b[39;49;00matoi(argv[\u001b[34m1\u001b[39;49;00m]);\u001b[37m\u001b[39;49;00m\n",
            "\u001b[37m    \u001b[39;49;00m\u001b[36mchar\u001b[39;49;00m\u001b[37m \u001b[39;49;00mval\u001b[37m \u001b[39;49;00m=\u001b[37m \u001b[39;49;00mbuf[index];\u001b[37m\u001b[39;49;00m\n",
            "\u001b[37m\u001b[39;49;00m\n",
            "\u001b[37m    \u001b[39;49;00m\u001b[37m/* Clean up memory so we don't leak */\u001b[39;49;00m\u001b[37m\u001b[39;49;00m\n",
            "\u001b[37m    \u001b[39;49;00mfree(buf);\u001b[37m\u001b[39;49;00m\n",
            "\u001b[37m    \u001b[39;49;00m\u001b[34mreturn\u001b[39;49;00m\u001b[37m \u001b[39;49;00mval;\u001b[37m\u001b[39;49;00m\n",
            "}\u001b[37m\u001b[39;49;00m\n",
            "\u001b[37m    \u001b[39;49;00m\u001b[37m\u001b[39;49;00m"
          ]
        }
      ],
      "source": [
        "print_file(\"program.c\")"
      ]
    },
    {
      "cell_type": "markdown",
      "metadata": {
        "button": false,
        "deletable": true,
        "new_sheet": false,
        "run_control": {
          "read_only": false
        },
        "id": "IJD2kz5L2C31"
      },
      "source": [
        "We compile this C program with address sanitization enabled:"
      ]
    },
    {
      "cell_type": "code",
      "execution_count": null,
      "metadata": {
        "button": false,
        "deletable": true,
        "execution": {
          "iopub.execute_input": "2023-01-07T14:36:38.983036Z",
          "iopub.status.busy": "2023-01-07T14:36:38.982624Z",
          "iopub.status.idle": "2023-01-07T14:36:39.165172Z",
          "shell.execute_reply": "2023-01-07T14:36:39.164354Z"
        },
        "new_sheet": false,
        "run_control": {
          "read_only": false
        },
        "id": "Nl2447yZ2C31"
      },
      "outputs": [],
      "source": [
        "!clang -fsanitize=address -g -o program program.c"
      ]
    },
    {
      "cell_type": "markdown",
      "metadata": {
        "button": false,
        "deletable": true,
        "new_sheet": false,
        "run_control": {
          "read_only": false
        },
        "id": "mReD-a4c2C31"
      },
      "source": [
        "If we run the program with an argument of `99`, it returns `buf[99]`, which is 42."
      ]
    },
    {
      "cell_type": "code",
      "execution_count": null,
      "metadata": {
        "button": false,
        "deletable": true,
        "execution": {
          "iopub.execute_input": "2023-01-07T14:36:39.169997Z",
          "iopub.status.busy": "2023-01-07T14:36:39.168872Z",
          "iopub.status.idle": "2023-01-07T14:36:39.526345Z",
          "shell.execute_reply": "2023-01-07T14:36:39.526958Z"
        },
        "new_sheet": false,
        "run_control": {
          "read_only": false
        },
        "id": "yOqZ-KFs2C31",
        "outputId": "ecb496d5-6c26-4cc2-f6ab-8966911e7188"
      },
      "outputs": [
        {
          "name": "stdout",
          "output_type": "stream",
          "text": [
            "42\r\n"
          ]
        }
      ],
      "source": [
        "!./program 99; echo $?"
      ]
    },
    {
      "cell_type": "markdown",
      "metadata": {
        "button": false,
        "deletable": true,
        "new_sheet": false,
        "run_control": {
          "read_only": false
        },
        "id": "LB9l1_J62C32"
      },
      "source": [
        "Accessing `buf[110]`, however, results in an out-of-bounds error in AddressSanitizer."
      ]
    },
    {
      "cell_type": "code",
      "execution_count": null,
      "metadata": {
        "button": false,
        "deletable": true,
        "execution": {
          "iopub.execute_input": "2023-01-07T14:36:39.534158Z",
          "iopub.status.busy": "2023-01-07T14:36:39.533395Z",
          "iopub.status.idle": "2023-01-07T14:36:39.987455Z",
          "shell.execute_reply": "2023-01-07T14:36:39.987664Z"
        },
        "new_sheet": false,
        "run_control": {
          "read_only": false
        },
        "id": "QM_fl1OA2C32",
        "outputId": "b3914afa-558e-4f81-e9d3-342975ba35ba"
      },
      "outputs": [
        {
          "name": "stdout",
          "output_type": "stream",
          "text": [
            "=================================================================\r\n",
            "\u001b[1m\u001b[31m==1483==ERROR: AddressSanitizer: heap-buffer-overflow on address 0x000107502a9e at pc 0x000104c83f14 bp 0x00016b17e800 sp 0x00016b17e7f8\r\n",
            "\u001b[1m\u001b[0m\u001b[1m\u001b[34mREAD of size 1 at 0x000107502a9e thread T0\u001b[1m\u001b[0m\r\n",
            "    #0 0x104c83f10 in main program.c:12\r\n",
            "    #1 0x1a1c3fe4c  (<unknown module>)\r\n",
            "\r\n",
            "\u001b[1m\u001b[32m0x000107502a9e is located 10 bytes to the right of 100-byte region [0x000107502a30,0x000107502a94)\r\n",
            "\u001b[1m\u001b[0m\u001b[1m\u001b[35mallocated by thread T0 here:\u001b[1m\u001b[0m\r\n",
            "    #0 0x10507eca8 in wrap_malloc+0x94 (libclang_rt.asan_osx_dynamic.dylib:arm64e+0x3eca8)\r\n",
            "    #1 0x104c83e6c in main program.c:7\r\n",
            "    #2 0x1a1c3fe4c  (<unknown module>)\r\n",
            "\r\n",
            "SUMMARY: AddressSanitizer: heap-buffer-overflow program.c:12 in main\r\n",
            "Shadow bytes around the buggy address:\r\n",
            "  0x007020ec0500: \u001b[1m\u001b[31mfa\u001b[1m\u001b[0m \u001b[1m\u001b[31mfa\u001b[1m\u001b[0m \u001b[1m\u001b[31mfa\u001b[1m\u001b[0m \u001b[1m\u001b[31mfa\u001b[1m\u001b[0m \u001b[1m\u001b[31mfa\u001b[1m\u001b[0m \u001b[1m\u001b[31mfa\u001b[1m\u001b[0m \u001b[1m\u001b[31mfa\u001b[1m\u001b[0m \u001b[1m\u001b[31mfa\u001b[1m\u001b[0m \u001b[1m\u001b[31mfa\u001b[1m\u001b[0m \u001b[1m\u001b[31mfa\u001b[1m\u001b[0m \u001b[1m\u001b[31mfa\u001b[1m\u001b[0m \u001b[1m\u001b[31mfa\u001b[1m\u001b[0m \u001b[1m\u001b[31mfa\u001b[1m\u001b[0m \u001b[1m\u001b[31mfa\u001b[1m\u001b[0m \u001b[1m\u001b[31mfa\u001b[1m\u001b[0m \u001b[1m\u001b[31mfa\u001b[1m\u001b[0m\r\n",
            "  0x007020ec0510: \u001b[1m\u001b[31mfa\u001b[1m\u001b[0m \u001b[1m\u001b[31mfa\u001b[1m\u001b[0m \u001b[1m\u001b[31mfa\u001b[1m\u001b[0m \u001b[1m\u001b[31mfa\u001b[1m\u001b[0m \u001b[1m\u001b[31mfa\u001b[1m\u001b[0m \u001b[1m\u001b[31mfa\u001b[1m\u001b[0m \u001b[1m\u001b[31mfa\u001b[1m\u001b[0m \u001b[1m\u001b[31mfa\u001b[1m\u001b[0m \u001b[1m\u001b[31mfa\u001b[1m\u001b[0m \u001b[1m\u001b[31mfa\u001b[1m\u001b[0m \u001b[1m\u001b[31mfa\u001b[1m\u001b[0m \u001b[1m\u001b[31mfa\u001b[1m\u001b[0m \u001b[1m\u001b[31mfa\u001b[1m\u001b[0m \u001b[1m\u001b[31mfa\u001b[1m\u001b[0m \u001b[1m\u001b[31mfa\u001b[1m\u001b[0m \u001b[1m\u001b[31mfa\u001b[1m\u001b[0m\r\n",
            "  0x007020ec0520: \u001b[1m\u001b[31mfa\u001b[1m\u001b[0m \u001b[1m\u001b[31mfa\u001b[1m\u001b[0m \u001b[1m\u001b[31mfa\u001b[1m\u001b[0m \u001b[1m\u001b[31mfa\u001b[1m\u001b[0m \u001b[1m\u001b[31mfa\u001b[1m\u001b[0m \u001b[1m\u001b[31mfa\u001b[1m\u001b[0m \u001b[1m\u001b[31mfa\u001b[1m\u001b[0m \u001b[1m\u001b[31mfa\u001b[1m\u001b[0m \u001b[1m\u001b[31mfa\u001b[1m\u001b[0m \u001b[1m\u001b[31mfa\u001b[1m\u001b[0m \u001b[1m\u001b[31mfa\u001b[1m\u001b[0m \u001b[1m\u001b[31mfa\u001b[1m\u001b[0m \u001b[1m\u001b[31mfa\u001b[1m\u001b[0m \u001b[1m\u001b[31mfa\u001b[1m\u001b[0m \u001b[1m\u001b[31mfa\u001b[1m\u001b[0m \u001b[1m\u001b[31mfa\u001b[1m\u001b[0m\r\n",
            "  0x007020ec0530: \u001b[1m\u001b[31mfa\u001b[1m\u001b[0m \u001b[1m\u001b[31mfa\u001b[1m\u001b[0m \u001b[1m\u001b[31mfa\u001b[1m\u001b[0m \u001b[1m\u001b[31mfa\u001b[1m\u001b[0m \u001b[1m\u001b[31mfa\u001b[1m\u001b[0m \u001b[1m\u001b[31mfa\u001b[1m\u001b[0m \u001b[1m\u001b[31mfa\u001b[1m\u001b[0m \u001b[1m\u001b[31mfa\u001b[1m\u001b[0m \u001b[1m\u001b[31mfa\u001b[1m\u001b[0m \u001b[1m\u001b[31mfa\u001b[1m\u001b[0m \u001b[1m\u001b[31mfa\u001b[1m\u001b[0m \u001b[1m\u001b[31mfa\u001b[1m\u001b[0m \u001b[1m\u001b[31mfa\u001b[1m\u001b[0m \u001b[1m\u001b[31mfa\u001b[1m\u001b[0m \u001b[1m\u001b[31mfa\u001b[1m\u001b[0m \u001b[1m\u001b[31mfa\u001b[1m\u001b[0m\r\n",
            "  0x007020ec0540: \u001b[1m\u001b[31mfa\u001b[1m\u001b[0m \u001b[1m\u001b[31mfa\u001b[1m\u001b[0m \u001b[1m\u001b[31mfa\u001b[1m\u001b[0m \u001b[1m\u001b[31mfa\u001b[1m\u001b[0m \u001b[1m\u001b[31mfa\u001b[1m\u001b[0m \u001b[1m\u001b[31mfa\u001b[1m\u001b[0m \u001b[1m\u001b[0m00\u001b[1m\u001b[0m \u001b[1m\u001b[0m00\u001b[1m\u001b[0m \u001b[1m\u001b[0m00\u001b[1m\u001b[0m \u001b[1m\u001b[0m00\u001b[1m\u001b[0m \u001b[1m\u001b[0m00\u001b[1m\u001b[0m \u001b[1m\u001b[0m00\u001b[1m\u001b[0m \u001b[1m\u001b[0m00\u001b[1m\u001b[0m \u001b[1m\u001b[0m00\u001b[1m\u001b[0m \u001b[1m\u001b[0m00\u001b[1m\u001b[0m \u001b[1m\u001b[0m00\u001b[1m\u001b[0m\r\n",
            "=>0x007020ec0550: \u001b[1m\u001b[0m00\u001b[1m\u001b[0m \u001b[1m\u001b[0m00\u001b[1m\u001b[0m \u001b[1m\u001b[0m04\u001b[1m\u001b[0m[\u001b[1m\u001b[31mfa\u001b[1m\u001b[0m]\u001b[1m\u001b[31mfa\u001b[1m\u001b[0m \u001b[1m\u001b[31mfa\u001b[1m\u001b[0m \u001b[1m\u001b[31mfa\u001b[1m\u001b[0m \u001b[1m\u001b[31mfa\u001b[1m\u001b[0m \u001b[1m\u001b[31mfa\u001b[1m\u001b[0m \u001b[1m\u001b[31mfa\u001b[1m\u001b[0m \u001b[1m\u001b[31mfa\u001b[1m\u001b[0m \u001b[1m\u001b[31mfa\u001b[1m\u001b[0m \u001b[1m\u001b[31mfa\u001b[1m\u001b[0m \u001b[1m\u001b[31mfa\u001b[1m\u001b[0m \u001b[1m\u001b[31mfa\u001b[1m\u001b[0m \u001b[1m\u001b[31mfa\u001b[1m\u001b[0m\r\n",
            "  0x007020ec0560: \u001b[1m\u001b[31mfa\u001b[1m\u001b[0m \u001b[1m\u001b[31mfa\u001b[1m\u001b[0m \u001b[1m\u001b[31mfa\u001b[1m\u001b[0m \u001b[1m\u001b[31mfa\u001b[1m\u001b[0m \u001b[1m\u001b[31mfa\u001b[1m\u001b[0m \u001b[1m\u001b[31mfa\u001b[1m\u001b[0m \u001b[1m\u001b[31mfa\u001b[1m\u001b[0m \u001b[1m\u001b[31mfa\u001b[1m\u001b[0m \u001b[1m\u001b[31mfa\u001b[1m\u001b[0m \u001b[1m\u001b[31mfa\u001b[1m\u001b[0m \u001b[1m\u001b[31mfa\u001b[1m\u001b[0m \u001b[1m\u001b[31mfa\u001b[1m\u001b[0m \u001b[1m\u001b[31mfa\u001b[1m\u001b[0m \u001b[1m\u001b[31mfa\u001b[1m\u001b[0m \u001b[1m\u001b[31mfa\u001b[1m\u001b[0m \u001b[1m\u001b[31mfa\u001b[1m\u001b[0m\r\n",
            "  0x007020ec0570: \u001b[1m\u001b[31mfa\u001b[1m\u001b[0m \u001b[1m\u001b[31mfa\u001b[1m\u001b[0m \u001b[1m\u001b[31mfa\u001b[1m\u001b[0m \u001b[1m\u001b[31mfa\u001b[1m\u001b[0m \u001b[1m\u001b[31mfa\u001b[1m\u001b[0m \u001b[1m\u001b[31mfa\u001b[1m\u001b[0m \u001b[1m\u001b[31mfa\u001b[1m\u001b[0m \u001b[1m\u001b[31mfa\u001b[1m\u001b[0m \u001b[1m\u001b[31mfa\u001b[1m\u001b[0m \u001b[1m\u001b[31mfa\u001b[1m\u001b[0m \u001b[1m\u001b[31mfa\u001b[1m\u001b[0m \u001b[1m\u001b[31mfa\u001b[1m\u001b[0m \u001b[1m\u001b[31mfa\u001b[1m\u001b[0m \u001b[1m\u001b[31mfa\u001b[1m\u001b[0m \u001b[1m\u001b[31mfa\u001b[1m\u001b[0m \u001b[1m\u001b[31mfa\u001b[1m\u001b[0m\r\n",
            "  0x007020ec0580: \u001b[1m\u001b[31mfa\u001b[1m\u001b[0m \u001b[1m\u001b[31mfa\u001b[1m\u001b[0m \u001b[1m\u001b[31mfa\u001b[1m\u001b[0m \u001b[1m\u001b[31mfa\u001b[1m\u001b[0m \u001b[1m\u001b[31mfa\u001b[1m\u001b[0m \u001b[1m\u001b[31mfa\u001b[1m\u001b[0m \u001b[1m\u001b[31mfa\u001b[1m\u001b[0m \u001b[1m\u001b[31mfa\u001b[1m\u001b[0m \u001b[1m\u001b[31mfa\u001b[1m\u001b[0m \u001b[1m\u001b[31mfa\u001b[1m\u001b[0m \u001b[1m\u001b[31mfa\u001b[1m\u001b[0m \u001b[1m\u001b[31mfa\u001b[1m\u001b[0m \u001b[1m\u001b[31mfa\u001b[1m\u001b[0m \u001b[1m\u001b[31mfa\u001b[1m\u001b[0m \u001b[1m\u001b[31mfa\u001b[1m\u001b[0m \u001b[1m\u001b[31mfa\u001b[1m\u001b[0m\r\n",
            "  0x007020ec0590: \u001b[1m\u001b[31mfa\u001b[1m\u001b[0m \u001b[1m\u001b[31mfa\u001b[1m\u001b[0m \u001b[1m\u001b[31mfa\u001b[1m\u001b[0m \u001b[1m\u001b[31mfa\u001b[1m\u001b[0m \u001b[1m\u001b[31mfa\u001b[1m\u001b[0m \u001b[1m\u001b[31mfa\u001b[1m\u001b[0m \u001b[1m\u001b[31mfa\u001b[1m\u001b[0m \u001b[1m\u001b[31mfa\u001b[1m\u001b[0m \u001b[1m\u001b[31mfa\u001b[1m\u001b[0m \u001b[1m\u001b[31mfa\u001b[1m\u001b[0m \u001b[1m\u001b[31mfa\u001b[1m\u001b[0m \u001b[1m\u001b[31mfa\u001b[1m\u001b[0m \u001b[1m\u001b[31mfa\u001b[1m\u001b[0m \u001b[1m\u001b[31mfa\u001b[1m\u001b[0m \u001b[1m\u001b[31mfa\u001b[1m\u001b[0m \u001b[1m\u001b[31mfa\u001b[1m\u001b[0m\r\n",
            "  0x007020ec05a0: \u001b[1m\u001b[31mfa\u001b[1m\u001b[0m \u001b[1m\u001b[31mfa\u001b[1m\u001b[0m \u001b[1m\u001b[31mfa\u001b[1m\u001b[0m \u001b[1m\u001b[31mfa\u001b[1m\u001b[0m \u001b[1m\u001b[31mfa\u001b[1m\u001b[0m \u001b[1m\u001b[31mfa\u001b[1m\u001b[0m \u001b[1m\u001b[31mfa\u001b[1m\u001b[0m \u001b[1m\u001b[31mfa\u001b[1m\u001b[0m \u001b[1m\u001b[31mfa\u001b[1m\u001b[0m \u001b[1m\u001b[31mfa\u001b[1m\u001b[0m \u001b[1m\u001b[31mfa\u001b[1m\u001b[0m \u001b[1m\u001b[31mfa\u001b[1m\u001b[0m \u001b[1m\u001b[31mfa\u001b[1m\u001b[0m \u001b[1m\u001b[31mfa\u001b[1m\u001b[0m \u001b[1m\u001b[31mfa\u001b[1m\u001b[0m \u001b[1m\u001b[31mfa\u001b[1m\u001b[0m\r\n",
            "Shadow byte legend (one shadow byte represents 8 application bytes):\r\n",
            "  Addressable:           \u001b[1m\u001b[0m00\u001b[1m\u001b[0m\r\n",
            "  Partially addressable: \u001b[1m\u001b[0m01\u001b[1m\u001b[0m \u001b[1m\u001b[0m02\u001b[1m\u001b[0m \u001b[1m\u001b[0m03\u001b[1m\u001b[0m \u001b[1m\u001b[0m04\u001b[1m\u001b[0m \u001b[1m\u001b[0m05\u001b[1m\u001b[0m \u001b[1m\u001b[0m06\u001b[1m\u001b[0m \u001b[1m\u001b[0m07\u001b[1m\u001b[0m \r\n",
            "  Heap left redzone:       \u001b[1m\u001b[31mfa\u001b[1m\u001b[0m\r\n",
            "  Freed heap region:       \u001b[1m\u001b[35mfd\u001b[1m\u001b[0m\r\n",
            "  Stack left redzone:      \u001b[1m\u001b[31mf1\u001b[1m\u001b[0m\r\n",
            "  Stack mid redzone:       \u001b[1m\u001b[31mf2\u001b[1m\u001b[0m\r\n",
            "  Stack right redzone:     \u001b[1m\u001b[31mf3\u001b[1m\u001b[0m\r\n",
            "  Stack after return:      \u001b[1m\u001b[35mf5\u001b[1m\u001b[0m\r\n",
            "  Stack use after scope:   \u001b[1m\u001b[35mf8\u001b[1m\u001b[0m\r\n",
            "  Global redzone:          \u001b[1m\u001b[31mf9\u001b[1m\u001b[0m\r\n",
            "  Global init order:       \u001b[1m\u001b[36mf6\u001b[1m\u001b[0m\r\n",
            "  Poisoned by user:        \u001b[1m\u001b[34mf7\u001b[1m\u001b[0m\r\n",
            "  Container overflow:      \u001b[1m\u001b[34mfc\u001b[1m\u001b[0m\r\n",
            "  Array cookie:            \u001b[1m\u001b[31mac\u001b[1m\u001b[0m\r\n",
            "  Intra object redzone:    \u001b[1m\u001b[33mbb\u001b[1m\u001b[0m\r\n",
            "  ASan internal:           \u001b[1m\u001b[33mfe\u001b[1m\u001b[0m\r\n",
            "  Left alloca redzone:     \u001b[1m\u001b[34mca\u001b[1m\u001b[0m\r\n",
            "  Right alloca redzone:    \u001b[1m\u001b[34mcb\u001b[1m\u001b[0m\r\n",
            "==1483==ABORTING\r\n"
          ]
        }
      ],
      "source": [
        "!./program 110"
      ]
    },
    {
      "cell_type": "markdown",
      "metadata": {
        "button": false,
        "deletable": true,
        "new_sheet": false,
        "run_control": {
          "read_only": false
        },
        "id": "ra3wwHyG2C32"
      },
      "source": [
        "If you want to find errors in a C program, turning on such checks for fuzzing is fairly easy.  It will slow down execution by a certain factor depending on the tool (for AddressSanitizer it is typically 2$\\times$) and also consume more memory, but CPU cycles are dead cheap compared to the human effort it takes to find these bugs."
      ]
    },
    {
      "cell_type": "markdown",
      "metadata": {
        "button": false,
        "deletable": true,
        "new_sheet": false,
        "run_control": {
          "read_only": false
        },
        "id": "_-0TWC3c2C32"
      },
      "source": [
        "Out-of-bounds accesses to memory are a great security risk, as they may let attackers access or even modify information that is not meant for them.  As a famous example, the [HeartBleed bug](https://en.wikipedia.org/wiki/Heartbleed) was a security bug in the OpenSSL library, implementing cryptographic protocols that provide communications security over a computer network.  (If you read this text in a browser, it is likely encrypted using these protocols.)"
      ]
    },
    {
      "cell_type": "markdown",
      "metadata": {
        "button": false,
        "deletable": true,
        "new_sheet": false,
        "run_control": {
          "read_only": false
        },
        "id": "1mOVXcp92C32"
      },
      "source": [
        "The HeartBleed bug was exploited by sending a specially crafted command to the SSL *heartbeat* service.  A heartbeat service is used to check if the server on the other end is still alive.  A client would send the service a string like\n",
        "\n",
        "```\n",
        "BIRD (4 letters)\n",
        "```\n",
        "\n",
        "to which the server would reply with `BIRD`, and the client would know the server is alive."
      ]
    },
    {
      "cell_type": "markdown",
      "metadata": {
        "button": false,
        "deletable": true,
        "new_sheet": false,
        "run_control": {
          "read_only": false
        },
        "id": "umDNKKBR2C32"
      },
      "source": [
        "Unfortunately, this service could be exploited by asking the server to reply with _more_ than the requested set of letters.  This is very well explained in this [XKCD comic](https://xkcd.com/1354/):"
      ]
    },
    {
      "cell_type": "markdown",
      "metadata": {
        "button": false,
        "deletable": true,
        "new_sheet": false,
        "run_control": {
          "read_only": false
        },
        "id": "222uJKbv2C32"
      },
      "source": [
        "![XKCD Comic](PICS/xkcd_heartbleed_1.png)"
      ]
    },
    {
      "cell_type": "markdown",
      "metadata": {
        "button": false,
        "deletable": true,
        "new_sheet": false,
        "run_control": {
          "read_only": false
        },
        "id": "OHn9qE9I2C32"
      },
      "source": [
        "![XKCD Comic](PICS/xkcd_heartbleed_2.png)"
      ]
    },
    {
      "cell_type": "markdown",
      "metadata": {
        "button": false,
        "deletable": true,
        "new_sheet": false,
        "run_control": {
          "read_only": false
        },
        "id": "ev2WvEhC2C32"
      },
      "source": [
        "![XKCD Comic](PICS/xkcd_heartbleed_3.png)"
      ]
    },
    {
      "cell_type": "markdown",
      "metadata": {
        "button": false,
        "deletable": true,
        "new_sheet": false,
        "run_control": {
          "read_only": false
        },
        "id": "ai9P0QJc2C32"
      },
      "source": [
        "In the OpenSSL implementation, these memory contents could involve cryptographic certificates, private keys, and more – and worse, no one would notice that this memory just had been accessed.  When the HeartBleed bug was discovered, it had been around for many years, and none would know whether and which secrets had already leaked; the quickly set up [HeartBleed announcement page](http://heartbleed.com/) said it all."
      ]
    },
    {
      "cell_type": "markdown",
      "metadata": {
        "button": false,
        "deletable": true,
        "new_sheet": false,
        "run_control": {
          "read_only": false
        },
        "id": "UotcHoY72C32"
      },
      "source": [
        "But how was HeartBleed discovered?  Very simple.  Researchers both at the Codenomicon company as well as with Google compiled the OpenSSL library with a memory sanitizer, and then happily flooded it with fuzzed commands.  The memory sanitizer would then notice whether an out-of-bounds memory access had occurred – and actually, it would very quickly discover this."
      ]
    },
    {
      "cell_type": "markdown",
      "metadata": {
        "button": false,
        "deletable": true,
        "new_sheet": false,
        "run_control": {
          "read_only": false
        },
        "id": "R_yvBrjG2C32"
      },
      "source": [
        "A memory checker is just one of many checkers one can run to detect runtime errors during fuzzing.  In the [chapter on mining function specifications](DynamicInvariants.ipynb), we will learn more about how to define generic checkers."
      ]
    },
    {
      "cell_type": "markdown",
      "metadata": {
        "button": false,
        "deletable": true,
        "new_sheet": false,
        "run_control": {
          "read_only": false
        },
        "id": "Gbd8NSrU2C32"
      },
      "source": [
        "We're done with `program`, so we clean up:"
      ]
    },
    {
      "cell_type": "code",
      "execution_count": null,
      "metadata": {
        "button": false,
        "deletable": true,
        "execution": {
          "iopub.execute_input": "2023-01-07T14:36:39.991018Z",
          "iopub.status.busy": "2023-01-07T14:36:39.990593Z",
          "iopub.status.idle": "2023-01-07T14:36:40.103970Z",
          "shell.execute_reply": "2023-01-07T14:36:40.103662Z"
        },
        "new_sheet": false,
        "run_control": {
          "read_only": false
        },
        "id": "bAywLORC2C33"
      },
      "outputs": [],
      "source": [
        "!rm -fr program program.*"
      ]
    },
    {
      "cell_type": "markdown",
      "metadata": {
        "button": false,
        "deletable": true,
        "new_sheet": false,
        "run_control": {
          "read_only": false
        },
        "id": "lJ2aQ89K2C33"
      },
      "source": [
        "#### Information Leaks\n",
        "\n",
        "Information leaks may not only occur through illegal memory accesses; they can also occur within \"valid\" memory – if this \"valid\" memory contains sensitive information that should not leak out.  Let us illustrate this issue in a Python program.  To start with, let us create some program memory filled with actual data and random data:"
      ]
    },
    {
      "cell_type": "code",
      "execution_count": null,
      "metadata": {
        "button": false,
        "deletable": true,
        "execution": {
          "iopub.execute_input": "2023-01-07T14:36:40.106664Z",
          "iopub.status.busy": "2023-01-07T14:36:40.106300Z",
          "iopub.status.idle": "2023-01-07T14:36:40.107793Z",
          "shell.execute_reply": "2023-01-07T14:36:40.108296Z"
        },
        "new_sheet": false,
        "run_control": {
          "read_only": false
        },
        "id": "N29QZJxx2C33"
      },
      "outputs": [],
      "source": [
        "secrets = (\"<space for reply>\" + fuzzer(100) +\n",
        "           \"<secret-certificate>\" + fuzzer(100) +\n",
        "           \"<secret-key>\" + fuzzer(100) + \"<other-secrets>\")"
      ]
    },
    {
      "cell_type": "markdown",
      "metadata": {
        "button": false,
        "deletable": true,
        "new_sheet": false,
        "run_control": {
          "read_only": false
        },
        "id": "p04NEJB22C33"
      },
      "source": [
        "We add more \"memory\" characters to `secrets`, filled with `\"deadbeef\"` as marker for uninitialized memory:"
      ]
    },
    {
      "cell_type": "code",
      "execution_count": null,
      "metadata": {
        "button": false,
        "deletable": true,
        "execution": {
          "iopub.execute_input": "2023-01-07T14:36:40.111439Z",
          "iopub.status.busy": "2023-01-07T14:36:40.110870Z",
          "iopub.status.idle": "2023-01-07T14:36:40.113023Z",
          "shell.execute_reply": "2023-01-07T14:36:40.113365Z"
        },
        "new_sheet": false,
        "run_control": {
          "read_only": false
        },
        "id": "vHhBRVWz2C33"
      },
      "outputs": [],
      "source": [
        "uninitialized_memory_marker = \"deadbeef\"\n",
        "while len(secrets) < 2048:\n",
        "    secrets += uninitialized_memory_marker"
      ]
    },
    {
      "cell_type": "markdown",
      "metadata": {
        "button": false,
        "deletable": true,
        "new_sheet": false,
        "run_control": {
          "read_only": false
        },
        "id": "61C8pdaB2C33"
      },
      "source": [
        "We define a service (similar to the heartbeat service discussed above) that would take a reply to be sent back, as well as a length.  It would store the reply to be sent in memory, and then send it back with the given length."
      ]
    },
    {
      "cell_type": "code",
      "execution_count": null,
      "metadata": {
        "button": false,
        "deletable": true,
        "execution": {
          "iopub.execute_input": "2023-01-07T14:36:40.115857Z",
          "iopub.status.busy": "2023-01-07T14:36:40.115561Z",
          "iopub.status.idle": "2023-01-07T14:36:40.116832Z",
          "shell.execute_reply": "2023-01-07T14:36:40.117032Z"
        },
        "new_sheet": false,
        "run_control": {
          "read_only": false
        },
        "id": "sy6lh5kw2C33"
      },
      "outputs": [],
      "source": [
        "def heartbeat(reply: str, length: int, memory: str) -> str:\n",
        "    # Store reply in memory\n",
        "    memory = reply + memory[len(reply):]\n",
        "\n",
        "    # Send back heartbeat\n",
        "    s = \"\"\n",
        "    for i in range(length):\n",
        "        s += memory[i]\n",
        "    return s"
      ]
    },
    {
      "cell_type": "markdown",
      "metadata": {
        "button": false,
        "deletable": true,
        "new_sheet": false,
        "run_control": {
          "read_only": false
        },
        "id": "JCKbeorP2C33"
      },
      "source": [
        "This perfectly works for standard strings:"
      ]
    },
    {
      "cell_type": "code",
      "execution_count": null,
      "metadata": {
        "button": false,
        "deletable": true,
        "execution": {
          "iopub.execute_input": "2023-01-07T14:36:40.119435Z",
          "iopub.status.busy": "2023-01-07T14:36:40.119121Z",
          "iopub.status.idle": "2023-01-07T14:36:40.120490Z",
          "shell.execute_reply": "2023-01-07T14:36:40.120858Z"
        },
        "new_sheet": false,
        "run_control": {
          "read_only": false
        },
        "id": "a_ZwK_FL2C33",
        "outputId": "7cccecde-3ac5-4103-c0b4-e91e6173ff6b"
      },
      "outputs": [
        {
          "data": {
            "text/plain": [
              "'potato'"
            ]
          },
          "execution_count": 48,
          "metadata": {},
          "output_type": "execute_result"
        }
      ],
      "source": [
        "heartbeat(\"potato\", 6, memory=secrets)"
      ]
    },
    {
      "cell_type": "code",
      "execution_count": null,
      "metadata": {
        "button": false,
        "deletable": true,
        "execution": {
          "iopub.execute_input": "2023-01-07T14:36:40.123844Z",
          "iopub.status.busy": "2023-01-07T14:36:40.123324Z",
          "iopub.status.idle": "2023-01-07T14:36:40.125494Z",
          "shell.execute_reply": "2023-01-07T14:36:40.125834Z"
        },
        "new_sheet": false,
        "run_control": {
          "read_only": false
        },
        "id": "f4sjzHUy2C33",
        "outputId": "0e7a8700-ba49-4aa2-cabf-f709441ff238"
      },
      "outputs": [
        {
          "data": {
            "text/plain": [
              "'bird'"
            ]
          },
          "execution_count": 49,
          "metadata": {},
          "output_type": "execute_result"
        }
      ],
      "source": [
        "heartbeat(\"bird\", 4, memory=secrets)"
      ]
    },
    {
      "cell_type": "markdown",
      "metadata": {
        "button": false,
        "deletable": true,
        "new_sheet": false,
        "run_control": {
          "read_only": false
        },
        "id": "68O87eZZ2C33"
      },
      "source": [
        "However, if the length is greater than the length of the reply string, additional contents of memory spill out.  Note that all of this still occurs within regular array bounds, so an address sanitizer would not be triggered:"
      ]
    },
    {
      "cell_type": "code",
      "execution_count": null,
      "metadata": {
        "button": false,
        "deletable": true,
        "execution": {
          "iopub.execute_input": "2023-01-07T14:36:40.128238Z",
          "iopub.status.busy": "2023-01-07T14:36:40.127814Z",
          "iopub.status.idle": "2023-01-07T14:36:40.129797Z",
          "shell.execute_reply": "2023-01-07T14:36:40.130009Z"
        },
        "new_sheet": false,
        "run_control": {
          "read_only": false
        },
        "id": "Hm13oltM2C33",
        "outputId": "35fe1e09-11a8-4318-c5af-35a2e99c6e8e"
      },
      "outputs": [
        {
          "data": {
            "text/plain": [
              "'hatace for reply>#,,!3?30>#61)$4--8=<7)4 )03/%,5+! \"4)0?.9+?3();<42?=?0<secret-certificate>7(+/+((1)#/0\\'4!>/<#=78%6$!!$<-\"3\"\\'-?1?85!05629%/); *)1\\'/=9%<secret-key>.(#.4%<other-secrets>deadbeefdeadbeefdeadbeefdeadbeefdeadbeefdeadbeefdeadbeefdeadbeefdeadbeefdeadbeefdeadbeefdeadbeefdeadbeefdeadbeefdeadbeefdeadbeefdeadbeefdeadbeefdeadbeefdeadbeefdeadbeefdeadbeefdeadbeefdeadbeefdeadbeefdeadbeefdeadbeefdeadbeefdeadbeefdeadbeefdeadbeefdeadbeefdeadbeefdeadbeefdeadbeefdeadbeefdeadbeefdeadbeefdeadbeefdeadb'"
            ]
          },
          "execution_count": 50,
          "metadata": {},
          "output_type": "execute_result"
        }
      ],
      "source": [
        "heartbeat(\"hat\", 500, memory=secrets)"
      ]
    },
    {
      "cell_type": "markdown",
      "metadata": {
        "button": false,
        "deletable": true,
        "new_sheet": false,
        "run_control": {
          "read_only": false
        },
        "id": "2Pjjh2v32C34"
      },
      "source": [
        "How can one detect such issues?  The idea is to identify information that should not leak out, such as the given secrets, but also uninitialized memory.  We can simulate such a check in a small Python example:"
      ]
    },
    {
      "cell_type": "code",
      "execution_count": null,
      "metadata": {
        "button": false,
        "deletable": true,
        "execution": {
          "iopub.execute_input": "2023-01-07T14:36:40.131806Z",
          "iopub.status.busy": "2023-01-07T14:36:40.131516Z",
          "iopub.status.idle": "2023-01-07T14:36:40.132782Z",
          "shell.execute_reply": "2023-01-07T14:36:40.133099Z"
        },
        "new_sheet": false,
        "run_control": {
          "read_only": false
        },
        "id": "K48MP_0A2C34"
      },
      "outputs": [],
      "source": [
        "from ExpectError import ExpectError"
      ]
    },
    {
      "cell_type": "code",
      "execution_count": null,
      "metadata": {
        "button": false,
        "deletable": true,
        "execution": {
          "iopub.execute_input": "2023-01-07T14:36:40.135270Z",
          "iopub.status.busy": "2023-01-07T14:36:40.134930Z",
          "iopub.status.idle": "2023-01-07T14:36:40.136539Z",
          "shell.execute_reply": "2023-01-07T14:36:40.136792Z"
        },
        "new_sheet": false,
        "run_control": {
          "read_only": false
        },
        "id": "hPFaqoHV2C34",
        "outputId": "2af90a3d-632d-4244-a6e9-f89eecef5f14"
      },
      "outputs": [
        {
          "name": "stderr",
          "output_type": "stream",
          "text": [
            "Traceback (most recent call last):\n",
            "  File \"/var/folders/n2/xd9445p97rb3xh7m1dfx8_4h0006ts/T/ipykernel_1242/4040656327.py\", line 4, in <cell line: 1>\n",
            "    assert not s.find(uninitialized_memory_marker)\n",
            "AssertionError (expected)\n"
          ]
        }
      ],
      "source": [
        "with ExpectError():\n",
        "    for i in range(10):\n",
        "        s = heartbeat(fuzzer(), random.randint(1, 500), memory=secrets)\n",
        "        assert not s.find(uninitialized_memory_marker)\n",
        "        assert not s.find(\"secret\")"
      ]
    },
    {
      "cell_type": "markdown",
      "metadata": {
        "button": false,
        "deletable": true,
        "new_sheet": false,
        "run_control": {
          "read_only": false
        },
        "id": "_0onkz0b2C34"
      },
      "source": [
        "With such a check, we find that secrets and/or uninitialized memory indeed leak out.  In the [chapter on information flow](InformationFlow.ipynb), we will discuss how to do this automatically, \"tainting\" sensitive information and values derived from them, and ensuring that \"tainted\" values do not leak out."
      ]
    },
    {
      "cell_type": "markdown",
      "metadata": {
        "button": false,
        "deletable": true,
        "new_sheet": false,
        "run_control": {
          "read_only": false
        },
        "id": "1yLcZaiq2C34"
      },
      "source": [
        "As a rule of thumb, you should always _enable as many automatic checkers as possible_ during fuzzing.  CPU cycles are cheap, and errors are expensive.  If you only execute the program without an option to actually detect errors, you will be missing several opportunities."
      ]
    },
    {
      "cell_type": "markdown",
      "metadata": {
        "button": false,
        "deletable": true,
        "new_sheet": false,
        "run_control": {
          "read_only": false
        },
        "id": "X78WYZti2C34"
      },
      "source": [
        "### Program-Specific Checkers\n",
        "\n",
        "Besides generic checkers that apply to _all_ programs on a given platform or in a given language, you can also devise _specific_ checkers that apply to your program, or a subsystem.  In the [chapter on testing](Intro_Testing.ipynb), we already have hinted at techniques of [runtime verification](Intro_Testing.ipynb#Runtime-Verification) that check function results at runtime for correctness."
      ]
    },
    {
      "cell_type": "markdown",
      "metadata": {
        "button": false,
        "deletable": true,
        "new_sheet": false,
        "run_control": {
          "read_only": false
        },
        "id": "mWw_BbuA2C34"
      },
      "source": [
        "One key idea for detecting errors early is the concept of *assertion* – a predicate that checks the input (precondition) and the result (postcondition) of important functions.  The more assertions you have in your program, the higher your chances to detect errors during execution that would go undetected by generic checkers – notably during fuzzing.  If you worry about the impact of assertions on performance, keep in mind that assertions can be turned off in production code (although it can be helpful to leave the most critical checks active)."
      ]
    },
    {
      "cell_type": "markdown",
      "metadata": {
        "button": false,
        "deletable": true,
        "new_sheet": false,
        "run_control": {
          "read_only": false
        },
        "id": "zvMrTYp32C34"
      },
      "source": [
        "One of the most important uses of assertions for finding errors is _checking the integrity of complex data structures._  Let us illustrate the concept using a simple example.  Suppose we have a mapping of airport codes to airports, as in"
      ]
    },
    {
      "cell_type": "code",
      "execution_count": null,
      "metadata": {
        "button": false,
        "deletable": true,
        "execution": {
          "iopub.execute_input": "2023-01-07T14:36:40.139175Z",
          "iopub.status.busy": "2023-01-07T14:36:40.138833Z",
          "iopub.status.idle": "2023-01-07T14:36:40.140250Z",
          "shell.execute_reply": "2023-01-07T14:36:40.140592Z"
        },
        "new_sheet": false,
        "run_control": {
          "read_only": false
        },
        "id": "lzTiBEnP2C34"
      },
      "outputs": [],
      "source": [
        "airport_codes: Dict[str, str] = {\n",
        "    \"YVR\": \"Vancouver\",\n",
        "    \"JFK\": \"New York-JFK\",\n",
        "    \"CDG\": \"Paris-Charles de Gaulle\",\n",
        "    \"CAI\": \"Cairo\",\n",
        "    \"LED\": \"St. Petersburg\",\n",
        "    \"PEK\": \"Beijing\",\n",
        "    \"HND\": \"Tokyo-Haneda\",\n",
        "    \"AKL\": \"Auckland\"\n",
        "}  # plus many more"
      ]
    },
    {
      "cell_type": "code",
      "execution_count": null,
      "metadata": {
        "button": false,
        "deletable": true,
        "execution": {
          "iopub.execute_input": "2023-01-07T14:36:40.142779Z",
          "iopub.status.busy": "2023-01-07T14:36:40.142460Z",
          "iopub.status.idle": "2023-01-07T14:36:40.143994Z",
          "shell.execute_reply": "2023-01-07T14:36:40.144357Z"
        },
        "new_sheet": false,
        "run_control": {
          "read_only": false
        },
        "id": "p-C39aff2C34",
        "outputId": "fe0d6af1-a17c-4391-a20c-b53227b9aa43"
      },
      "outputs": [
        {
          "data": {
            "text/plain": [
              "'Vancouver'"
            ]
          },
          "execution_count": 54,
          "metadata": {},
          "output_type": "execute_result"
        }
      ],
      "source": [
        "airport_codes[\"YVR\"]"
      ]
    },
    {
      "cell_type": "code",
      "execution_count": null,
      "metadata": {
        "button": false,
        "deletable": true,
        "execution": {
          "iopub.execute_input": "2023-01-07T14:36:40.146528Z",
          "iopub.status.busy": "2023-01-07T14:36:40.146176Z",
          "iopub.status.idle": "2023-01-07T14:36:40.147856Z",
          "shell.execute_reply": "2023-01-07T14:36:40.148158Z"
        },
        "new_sheet": false,
        "run_control": {
          "read_only": false
        },
        "id": "dlAQ-C0V2C34",
        "outputId": "2a64175c-c533-4c1d-df7d-b7a935327b24"
      },
      "outputs": [
        {
          "data": {
            "text/plain": [
              "True"
            ]
          },
          "execution_count": 55,
          "metadata": {},
          "output_type": "execute_result"
        }
      ],
      "source": [
        "\"AKL\" in airport_codes"
      ]
    },
    {
      "cell_type": "markdown",
      "metadata": {
        "button": false,
        "deletable": true,
        "new_sheet": false,
        "run_control": {
          "read_only": false
        },
        "id": "YeFH5rLw2C34"
      },
      "source": [
        "This list of airport codes may be pretty critical: if we have a spelling mistake in any of the airport codes, this may impact whatever application we have.  We therefore introduce a function that checks the list for consistency.  The consistency condition is called a *representation invariant*, and functions (or methods) that check it are therefore typically named `repOK()` for \"the representation is ok\"."
      ]
    },
    {
      "cell_type": "markdown",
      "metadata": {
        "button": false,
        "deletable": true,
        "new_sheet": false,
        "run_control": {
          "read_only": false
        },
        "id": "8DBEEqwz2C35"
      },
      "source": [
        "First, let's have a checker for individual airport codes.  The checker fails if the code is inconsistent."
      ]
    },
    {
      "cell_type": "code",
      "execution_count": null,
      "metadata": {
        "button": false,
        "deletable": true,
        "execution": {
          "iopub.execute_input": "2023-01-07T14:36:40.150657Z",
          "iopub.status.busy": "2023-01-07T14:36:40.150347Z",
          "iopub.status.idle": "2023-01-07T14:36:40.151513Z",
          "shell.execute_reply": "2023-01-07T14:36:40.151750Z"
        },
        "new_sheet": false,
        "run_control": {
          "read_only": false
        },
        "id": "Si-KrDbg2C35"
      },
      "outputs": [],
      "source": [
        "def code_repOK(code: str) -> bool:\n",
        "    assert len(code) == 3, \"Airport code must have three characters: \" + repr(code)\n",
        "    for c in code:\n",
        "        assert c.isalpha(), \"Non-letter in airport code: \" + repr(code)\n",
        "        assert c.isupper(), \"Lowercase letter in airport code: \" + repr(code)\n",
        "    return True"
      ]
    },
    {
      "cell_type": "code",
      "execution_count": null,
      "metadata": {
        "button": false,
        "deletable": true,
        "execution": {
          "iopub.execute_input": "2023-01-07T14:36:40.153562Z",
          "iopub.status.busy": "2023-01-07T14:36:40.153214Z",
          "iopub.status.idle": "2023-01-07T14:36:40.154678Z",
          "shell.execute_reply": "2023-01-07T14:36:40.154436Z"
        },
        "new_sheet": false,
        "run_control": {
          "read_only": false
        },
        "id": "ibOCxsDX2C35"
      },
      "outputs": [],
      "source": [
        "assert code_repOK(\"SEA\")"
      ]
    },
    {
      "cell_type": "markdown",
      "metadata": {
        "button": false,
        "deletable": true,
        "new_sheet": false,
        "run_control": {
          "read_only": false
        },
        "id": "aMIpbNut2C35"
      },
      "source": [
        "We can now use `code_repOK()` to check all elements in the list:"
      ]
    },
    {
      "cell_type": "code",
      "execution_count": null,
      "metadata": {
        "button": false,
        "deletable": true,
        "execution": {
          "iopub.execute_input": "2023-01-07T14:36:40.156745Z",
          "iopub.status.busy": "2023-01-07T14:36:40.156437Z",
          "iopub.status.idle": "2023-01-07T14:36:40.157908Z",
          "shell.execute_reply": "2023-01-07T14:36:40.158135Z"
        },
        "new_sheet": false,
        "run_control": {
          "read_only": false
        },
        "id": "alOl1WgE2C35"
      },
      "outputs": [],
      "source": [
        "def airport_codes_repOK():\n",
        "    for code in airport_codes:\n",
        "        assert code_repOK(code)\n",
        "    return True"
      ]
    },
    {
      "cell_type": "code",
      "execution_count": null,
      "metadata": {
        "button": false,
        "deletable": true,
        "execution": {
          "iopub.execute_input": "2023-01-07T14:36:40.160363Z",
          "iopub.status.busy": "2023-01-07T14:36:40.160034Z",
          "iopub.status.idle": "2023-01-07T14:36:40.161190Z",
          "shell.execute_reply": "2023-01-07T14:36:40.161385Z"
        },
        "new_sheet": false,
        "run_control": {
          "read_only": false
        },
        "id": "M5ER9WXO2C35"
      },
      "outputs": [],
      "source": [
        "with ExpectError():\n",
        "    assert airport_codes_repOK()"
      ]
    },
    {
      "cell_type": "markdown",
      "metadata": {
        "button": false,
        "deletable": true,
        "new_sheet": false,
        "run_control": {
          "read_only": false
        },
        "id": "yUiK6jgZ2C35"
      },
      "source": [
        "If we add an invalid element to the list, our check would fail:"
      ]
    },
    {
      "cell_type": "code",
      "execution_count": null,
      "metadata": {
        "button": false,
        "deletable": true,
        "execution": {
          "iopub.execute_input": "2023-01-07T14:36:40.163161Z",
          "iopub.status.busy": "2023-01-07T14:36:40.162866Z",
          "iopub.status.idle": "2023-01-07T14:36:40.164196Z",
          "shell.execute_reply": "2023-01-07T14:36:40.163904Z"
        },
        "new_sheet": false,
        "run_control": {
          "read_only": false
        },
        "id": "fk365AaH2C35"
      },
      "outputs": [],
      "source": [
        "airport_codes[\"YMML\"] = \"Melbourne\""
      ]
    },
    {
      "cell_type": "code",
      "execution_count": null,
      "metadata": {
        "button": false,
        "deletable": true,
        "execution": {
          "iopub.execute_input": "2023-01-07T14:36:40.166026Z",
          "iopub.status.busy": "2023-01-07T14:36:40.165696Z",
          "iopub.status.idle": "2023-01-07T14:36:40.167335Z",
          "shell.execute_reply": "2023-01-07T14:36:40.167518Z"
        },
        "new_sheet": false,
        "run_control": {
          "read_only": false
        },
        "id": "_kksO2VP2C35",
        "outputId": "4d3b8645-ceda-416c-a788-2ecb7444a9c9"
      },
      "outputs": [
        {
          "name": "stderr",
          "output_type": "stream",
          "text": [
            "Traceback (most recent call last):\n",
            "  File \"/var/folders/n2/xd9445p97rb3xh7m1dfx8_4h0006ts/T/ipykernel_1242/2308942452.py\", line 2, in <cell line: 1>\n",
            "    assert airport_codes_repOK()\n",
            "  File \"/var/folders/n2/xd9445p97rb3xh7m1dfx8_4h0006ts/T/ipykernel_1242/480627665.py\", line 3, in airport_codes_repOK\n",
            "    assert code_repOK(code)\n",
            "  File \"/var/folders/n2/xd9445p97rb3xh7m1dfx8_4h0006ts/T/ipykernel_1242/865020192.py\", line 2, in code_repOK\n",
            "    assert len(code) == 3, \"Airport code must have three characters: \" + repr(code)\n",
            "AssertionError: Airport code must have three characters: 'YMML' (expected)\n"
          ]
        }
      ],
      "source": [
        "with ExpectError():\n",
        "    assert airport_codes_repOK()"
      ]
    },
    {
      "cell_type": "markdown",
      "metadata": {
        "button": false,
        "deletable": true,
        "new_sheet": false,
        "run_control": {
          "read_only": false
        },
        "id": "mzkUIVwH2C35"
      },
      "source": [
        "Of course, rather than manipulating the list directly, we'd have a special function for adding elements; this could then also check whether the code is valid:"
      ]
    },
    {
      "cell_type": "code",
      "execution_count": null,
      "metadata": {
        "button": false,
        "deletable": true,
        "execution": {
          "iopub.execute_input": "2023-01-07T14:36:40.169440Z",
          "iopub.status.busy": "2023-01-07T14:36:40.169102Z",
          "iopub.status.idle": "2023-01-07T14:36:40.170592Z",
          "shell.execute_reply": "2023-01-07T14:36:40.170822Z"
        },
        "new_sheet": false,
        "run_control": {
          "read_only": false
        },
        "id": "AZMmwqb12C35"
      },
      "outputs": [],
      "source": [
        "def add_new_airport(code: str, city: str) -> None:\n",
        "    assert code_repOK(code)\n",
        "    airport_codes[code] = city"
      ]
    },
    {
      "cell_type": "code",
      "execution_count": null,
      "metadata": {
        "button": false,
        "deletable": true,
        "execution": {
          "iopub.execute_input": "2023-01-07T14:36:40.172614Z",
          "iopub.status.busy": "2023-01-07T14:36:40.172307Z",
          "iopub.status.idle": "2023-01-07T14:36:40.173841Z",
          "shell.execute_reply": "2023-01-07T14:36:40.174051Z"
        },
        "new_sheet": false,
        "run_control": {
          "read_only": false
        },
        "id": "EFStSKXX2C35"
      },
      "outputs": [],
      "source": [
        "with ExpectError():  # For BER, ExpectTimeout would be more appropriate\n",
        "    add_new_airport(\"BER\", \"Berlin\")"
      ]
    },
    {
      "cell_type": "markdown",
      "metadata": {
        "button": false,
        "deletable": true,
        "new_sheet": false,
        "run_control": {
          "read_only": false
        },
        "id": "BcQ4KYdG2C35"
      },
      "source": [
        "This check also allows us to find out errors in argument lists:"
      ]
    },
    {
      "cell_type": "code",
      "execution_count": null,
      "metadata": {
        "button": false,
        "deletable": true,
        "execution": {
          "iopub.execute_input": "2023-01-07T14:36:40.176284Z",
          "iopub.status.busy": "2023-01-07T14:36:40.175879Z",
          "iopub.status.idle": "2023-01-07T14:36:40.177199Z",
          "shell.execute_reply": "2023-01-07T14:36:40.177386Z"
        },
        "new_sheet": false,
        "run_control": {
          "read_only": false
        },
        "id": "KlFHKZaj2C36",
        "outputId": "e26b745b-419f-414e-f84d-8f30347cf76c"
      },
      "outputs": [
        {
          "name": "stderr",
          "output_type": "stream",
          "text": [
            "Traceback (most recent call last):\n",
            "  File \"/var/folders/n2/xd9445p97rb3xh7m1dfx8_4h0006ts/T/ipykernel_1242/1427835309.py\", line 2, in <cell line: 1>\n",
            "    add_new_airport(\"London-Heathrow\", \"LHR\")\n",
            "  File \"/var/folders/n2/xd9445p97rb3xh7m1dfx8_4h0006ts/T/ipykernel_1242/2655039924.py\", line 2, in add_new_airport\n",
            "    assert code_repOK(code)\n",
            "  File \"/var/folders/n2/xd9445p97rb3xh7m1dfx8_4h0006ts/T/ipykernel_1242/865020192.py\", line 2, in code_repOK\n",
            "    assert len(code) == 3, \"Airport code must have three characters: \" + repr(code)\n",
            "AssertionError: Airport code must have three characters: 'London-Heathrow' (expected)\n"
          ]
        }
      ],
      "source": [
        "with ExpectError():\n",
        "    add_new_airport(\"London-Heathrow\", \"LHR\")"
      ]
    },
    {
      "cell_type": "markdown",
      "metadata": {
        "button": false,
        "deletable": true,
        "new_sheet": false,
        "run_control": {
          "read_only": false
        },
        "id": "t8PS7reh2C36"
      },
      "source": [
        "For maximum checking, though, the `add_new_airport()` function would also ensure the correct representation of the list of airport codes – _before_ and _after_ changing it."
      ]
    },
    {
      "cell_type": "code",
      "execution_count": null,
      "metadata": {
        "button": false,
        "deletable": true,
        "execution": {
          "iopub.execute_input": "2023-01-07T14:36:40.179264Z",
          "iopub.status.busy": "2023-01-07T14:36:40.178983Z",
          "iopub.status.idle": "2023-01-07T14:36:40.180341Z",
          "shell.execute_reply": "2023-01-07T14:36:40.180554Z"
        },
        "new_sheet": false,
        "run_control": {
          "read_only": false
        },
        "id": "XAkiC8c02C36"
      },
      "outputs": [],
      "source": [
        "def add_new_airport_2(code: str, city: str) -> None:\n",
        "    assert code_repOK(code)\n",
        "    assert airport_codes_repOK()\n",
        "    airport_codes[code] = city\n",
        "    assert airport_codes_repOK()"
      ]
    },
    {
      "cell_type": "markdown",
      "metadata": {
        "button": false,
        "deletable": true,
        "new_sheet": false,
        "run_control": {
          "read_only": false
        },
        "id": "loGXr8he2C36"
      },
      "source": [
        "This catches the inconsistency introduced earlier:"
      ]
    },
    {
      "cell_type": "code",
      "execution_count": null,
      "metadata": {
        "button": false,
        "deletable": true,
        "execution": {
          "iopub.execute_input": "2023-01-07T14:36:40.182531Z",
          "iopub.status.busy": "2023-01-07T14:36:40.182189Z",
          "iopub.status.idle": "2023-01-07T14:36:40.183732Z",
          "shell.execute_reply": "2023-01-07T14:36:40.183918Z"
        },
        "new_sheet": false,
        "run_control": {
          "read_only": false
        },
        "id": "4qIDx__92C36",
        "outputId": "6a79e1d5-5a48-4319-9370-24d5659c9e3b"
      },
      "outputs": [
        {
          "name": "stderr",
          "output_type": "stream",
          "text": [
            "Traceback (most recent call last):\n",
            "  File \"/var/folders/n2/xd9445p97rb3xh7m1dfx8_4h0006ts/T/ipykernel_1242/4151824846.py\", line 2, in <cell line: 1>\n",
            "    add_new_airport_2(\"IST\", \"Istanbul Yeni Havalimanı\")\n",
            "  File \"/var/folders/n2/xd9445p97rb3xh7m1dfx8_4h0006ts/T/ipykernel_1242/2099116665.py\", line 3, in add_new_airport_2\n",
            "    assert airport_codes_repOK()\n",
            "  File \"/var/folders/n2/xd9445p97rb3xh7m1dfx8_4h0006ts/T/ipykernel_1242/480627665.py\", line 3, in airport_codes_repOK\n",
            "    assert code_repOK(code)\n",
            "  File \"/var/folders/n2/xd9445p97rb3xh7m1dfx8_4h0006ts/T/ipykernel_1242/865020192.py\", line 2, in code_repOK\n",
            "    assert len(code) == 3, \"Airport code must have three characters: \" + repr(code)\n",
            "AssertionError: Airport code must have three characters: 'YMML' (expected)\n"
          ]
        }
      ],
      "source": [
        "with ExpectError():\n",
        "    add_new_airport_2(\"IST\", \"Istanbul Yeni Havalimanı\")"
      ]
    },
    {
      "cell_type": "markdown",
      "metadata": {
        "button": false,
        "deletable": true,
        "new_sheet": false,
        "run_control": {
          "read_only": false
        },
        "id": "QJCySZhQ2C36"
      },
      "source": [
        "The more `repOK()` assertions exist in your code, the more errors you will catch – even those specific to only your domain and problem.  On top, such assertions document the _assumptions you made_ during programming and thus help other programmers to understand your code and prevent errors."
      ]
    },
    {
      "cell_type": "markdown",
      "metadata": {
        "button": false,
        "deletable": true,
        "new_sheet": false,
        "run_control": {
          "read_only": false
        },
        "id": "VQA2EIWO2C36"
      },
      "source": [
        "As a final example, let us consider a rather complex data structure – a [red-black tree](https://en.wikipedia.org/wiki/Red-black_tree), a self-balancing binary search tree.  Implementing a red-black tree is not too hard, but getting it correct can be a task of several hours even for experienced programmers.  A `repOK()` method, however, documents all the assumptions and checks them as well:"
      ]
    },
    {
      "cell_type": "code",
      "execution_count": null,
      "metadata": {
        "button": false,
        "deletable": true,
        "execution": {
          "iopub.execute_input": "2023-01-07T14:36:40.187152Z",
          "iopub.status.busy": "2023-01-07T14:36:40.186833Z",
          "iopub.status.idle": "2023-01-07T14:36:40.187981Z",
          "shell.execute_reply": "2023-01-07T14:36:40.188252Z"
        },
        "new_sheet": false,
        "run_control": {
          "read_only": false
        },
        "id": "oWyXV9aE2C36"
      },
      "outputs": [],
      "source": [
        "class RedBlackTree:\n",
        "    def repOK(self):\n",
        "        assert self.rootHasNoParent()\n",
        "        assert self.rootIsBlack()\n",
        "        assert self.rootNodesHaveOnlyBlackChildren()\n",
        "        assert self.treeIsAcyclic()\n",
        "        assert self.parentsAreConsistent()\n",
        "        return True\n",
        "\n",
        "    def rootIsBlack(self):\n",
        "        if self.parent is None:\n",
        "            assert self.color == BLACK\n",
        "        return True\n",
        "\n",
        "    def add_element(self, elem):\n",
        "        assert self.repOK()\n",
        "        ...  # Add the element\n",
        "        assert self.repOK()\n",
        "\n",
        "    def delete_element(self, elem):\n",
        "        assert self.repOK()\n",
        "        ...  # Delete the element\n",
        "        assert self.repOK()"
      ]
    },
    {
      "cell_type": "markdown",
      "metadata": {
        "button": false,
        "deletable": true,
        "new_sheet": false,
        "run_control": {
          "read_only": false
        },
        "id": "tJJqEPXg2C36"
      },
      "source": [
        "Here, `repOK()` is a method that runs on an object of the `RedBlackTree` class.  It runs five different checks, all of which have their own assertions.  Whenever an element is added or deleted, all these consistency checks are run automatically.  If you have an error in any of these, the checkers will find them – if you run the tree through sufficiently many fuzzed inputs, of course."
      ]
    },
    {
      "cell_type": "markdown",
      "metadata": {
        "button": false,
        "deletable": true,
        "new_sheet": false,
        "run_control": {
          "read_only": false
        },
        "id": "39VtXXqZ2C36"
      },
      "source": [
        "### Static Code Checkers\n",
        "\n",
        "Many of the benefits from `repOK()` assertions can also be obtained by using _static type checkers_ on your code.  In Python, for instance, the [MyPy](http://mypy-lang.org) static checker can find type errors as soon as types of arguments are properly declared:"
      ]
    },
    {
      "cell_type": "code",
      "execution_count": null,
      "metadata": {
        "button": false,
        "deletable": true,
        "execution": {
          "iopub.execute_input": "2023-01-07T14:36:40.190465Z",
          "iopub.status.busy": "2023-01-07T14:36:40.190131Z",
          "iopub.status.idle": "2023-01-07T14:36:40.191428Z",
          "shell.execute_reply": "2023-01-07T14:36:40.191618Z"
        },
        "new_sheet": false,
        "run_control": {
          "read_only": false
        },
        "id": "1tIN9WHz2C36"
      },
      "outputs": [],
      "source": [
        "typed_airport_codes: Dict[str, str] = {\n",
        "    \"YVR\": \"Vancouver\",  # etc\n",
        "}"
      ]
    },
    {
      "cell_type": "markdown",
      "metadata": {
        "button": false,
        "deletable": true,
        "new_sheet": false,
        "run_control": {
          "read_only": false
        },
        "id": "4bu182Oo2C36"
      },
      "source": [
        "If we now add a key with a non-string type, as in"
      ]
    },
    {
      "cell_type": "code",
      "execution_count": null,
      "metadata": {
        "button": false,
        "deletable": true,
        "execution": {
          "iopub.execute_input": "2023-01-07T14:36:40.193366Z",
          "iopub.status.busy": "2023-01-07T14:36:40.193040Z",
          "iopub.status.idle": "2023-01-07T14:36:40.194206Z",
          "shell.execute_reply": "2023-01-07T14:36:40.194438Z"
        },
        "new_sheet": false,
        "run_control": {
          "read_only": false
        },
        "id": "NYrNbdSm2C37"
      },
      "outputs": [],
      "source": [
        "typed_airport_codes[1] = \"First\"  # type: ignore"
      ]
    },
    {
      "cell_type": "markdown",
      "metadata": {
        "button": false,
        "deletable": true,
        "new_sheet": false,
        "run_control": {
          "read_only": false
        },
        "id": "oUGeFZKI2C37"
      },
      "source": [
        "this would be caught by MyPy immediately:\n",
        "```sh\n",
        "$ mypy airports.py\n",
        "airports.py: error: Invalid index type \"int\" for \"Dict[str, str]\"; expected type \"str\"\n",
        "```"
      ]
    },
    {
      "cell_type": "markdown",
      "metadata": {
        "button": false,
        "deletable": true,
        "new_sheet": false,
        "run_control": {
          "read_only": false
        },
        "id": "FJXl2l3W2C37"
      },
      "source": [
        "Statically checking more advanced properties such as the airport code consisting of exactly three uppercase characters or a tree being acyclic, however, quickly reach the limits of static checking.  Your `repOK()` assertions will still be needed – best in conjunction with a good test generator."
      ]
    },
    {
      "cell_type": "markdown",
      "metadata": {
        "button": false,
        "deletable": true,
        "new_sheet": false,
        "run_control": {
          "read_only": false
        },
        "id": "axvOjZn72C37"
      },
      "source": [
        "## A Fuzzing Architecture\n",
        "\n",
        "Since we'd like to reuse some parts of this chapter in the following ones, let us define things in a way that are easier to reuse, and in particular easier to _extend_.  To this end, we introduce a number of _classes_ that encapsulate the functionality above in a reusable way."
      ]
    },
    {
      "cell_type": "markdown",
      "metadata": {
        "button": false,
        "deletable": true,
        "new_sheet": false,
        "run_control": {
          "read_only": false
        },
        "tags": [],
        "id": "7yUEyM6S2C37"
      },
      "source": [
        "### Runner Classes\n",
        "\n",
        "The first thing we introduce is the notion of a `Runner` – that is, an object whose job it is to execute some object with a given input.  A runner typically is some program or function under test, but we can also have simpler runners.\n",
        "\n",
        "Let us start with a base class for runners.  A runner essentially provides a method `run(input)` that is used to pass `input` (a string) to the runner.  `run()` returns a pair (`result`, `outcome`).  Here, `result` is a runner-specific value that gives details on the run; `outcome` is a value that classifies the result in three categories:\n",
        "\n",
        "* `Runner.PASS` – the test _passed_.  The run produced correct results.\n",
        "* `Runner.FAIL` – the test _failed_.  The run produced incorrect results.\n",
        "* `Runner.UNRESOLVED` – the test neither passed nor failed.  This happens if the run could not take place – for instance, because the input was invalid."
      ]
    },
    {
      "cell_type": "code",
      "execution_count": null,
      "metadata": {
        "execution": {
          "iopub.execute_input": "2023-01-07T14:36:40.196247Z",
          "iopub.status.busy": "2023-01-07T14:36:40.195943Z",
          "iopub.status.idle": "2023-01-07T14:36:40.197373Z",
          "shell.execute_reply": "2023-01-07T14:36:40.197576Z"
        },
        "id": "Vc__c2kX2C37"
      },
      "outputs": [],
      "source": [
        "Outcome = str"
      ]
    },
    {
      "cell_type": "code",
      "execution_count": null,
      "metadata": {
        "button": false,
        "deletable": true,
        "execution": {
          "iopub.execute_input": "2023-01-07T14:36:40.199705Z",
          "iopub.status.busy": "2023-01-07T14:36:40.199392Z",
          "iopub.status.idle": "2023-01-07T14:36:40.200782Z",
          "shell.execute_reply": "2023-01-07T14:36:40.200966Z"
        },
        "new_sheet": false,
        "run_control": {
          "read_only": false
        },
        "id": "cNwnY6VX2C37"
      },
      "outputs": [],
      "source": [
        "class Runner:\n",
        "    \"\"\"Base class for testing inputs.\"\"\"\n",
        "\n",
        "    # Test outcomes\n",
        "    PASS = \"PASS\"\n",
        "    FAIL = \"FAIL\"\n",
        "    UNRESOLVED = \"UNRESOLVED\"\n",
        "\n",
        "    def __init__(self) -> None:\n",
        "        \"\"\"Initialize\"\"\"\n",
        "        pass\n",
        "\n",
        "    def run(self, inp: str) -> Any:\n",
        "        \"\"\"Run the runner with the given input\"\"\"\n",
        "        return (inp, Runner.UNRESOLVED)"
      ]
    },
    {
      "cell_type": "markdown",
      "metadata": {
        "button": false,
        "deletable": true,
        "new_sheet": false,
        "run_control": {
          "read_only": false
        },
        "id": "mhCTnwoC2C37"
      },
      "source": [
        "As a base class, `Runner` merely provides an interface for more complex runners that build on it.  More specifically, we introduce *subclasses* that *inherit* the methods from their superclass in order to add additional methods or to override inherited methods.\n",
        "\n",
        "Here is one example of such a subclass: `PrintRunner` simply prints out everything that is given to it, overriding the inherited `run()` method.  This is the default runner in many situations."
      ]
    },
    {
      "cell_type": "code",
      "execution_count": null,
      "metadata": {
        "button": false,
        "deletable": true,
        "execution": {
          "iopub.execute_input": "2023-01-07T14:36:40.203011Z",
          "iopub.status.busy": "2023-01-07T14:36:40.202583Z",
          "iopub.status.idle": "2023-01-07T14:36:40.203938Z",
          "shell.execute_reply": "2023-01-07T14:36:40.204124Z"
        },
        "new_sheet": false,
        "run_control": {
          "read_only": false
        },
        "id": "xGh9UBDA2C37"
      },
      "outputs": [],
      "source": [
        "class PrintRunner(Runner):\n",
        "    \"\"\"Simple runner, printing the input.\"\"\"\n",
        "\n",
        "    def run(self, inp) -> Any:\n",
        "        \"\"\"Print the given input\"\"\"\n",
        "        print(inp)\n",
        "        return (inp, Runner.UNRESOLVED)"
      ]
    },
    {
      "cell_type": "code",
      "execution_count": null,
      "metadata": {
        "button": false,
        "deletable": true,
        "execution": {
          "iopub.execute_input": "2023-01-07T14:36:40.205848Z",
          "iopub.status.busy": "2023-01-07T14:36:40.205480Z",
          "iopub.status.idle": "2023-01-07T14:36:40.207002Z",
          "shell.execute_reply": "2023-01-07T14:36:40.207177Z"
        },
        "new_sheet": false,
        "run_control": {
          "read_only": false
        },
        "id": "p51tG5DP2C37",
        "outputId": "21f1bb2d-89a5-4d7c-876a-8e18b8c4a176"
      },
      "outputs": [
        {
          "name": "stdout",
          "output_type": "stream",
          "text": [
            "Some input\n"
          ]
        }
      ],
      "source": [
        "p = PrintRunner()\n",
        "(result, outcome) = p.run(\"Some input\")"
      ]
    },
    {
      "cell_type": "markdown",
      "metadata": {
        "button": false,
        "deletable": true,
        "new_sheet": false,
        "run_control": {
          "read_only": false
        },
        "id": "z3npDSFl2C37"
      },
      "source": [
        "The result is just the string we passed as input:"
      ]
    },
    {
      "cell_type": "code",
      "execution_count": null,
      "metadata": {
        "button": false,
        "deletable": true,
        "execution": {
          "iopub.execute_input": "2023-01-07T14:36:40.209055Z",
          "iopub.status.busy": "2023-01-07T14:36:40.208700Z",
          "iopub.status.idle": "2023-01-07T14:36:40.210425Z",
          "shell.execute_reply": "2023-01-07T14:36:40.210675Z"
        },
        "new_sheet": false,
        "run_control": {
          "read_only": false
        },
        "id": "F6SWAuFb2C37",
        "outputId": "e2238939-4aea-4473-c83c-e296f003956b"
      },
      "outputs": [
        {
          "data": {
            "text/plain": [
              "'Some input'"
            ]
          },
          "execution_count": 74,
          "metadata": {},
          "output_type": "execute_result"
        }
      ],
      "source": [
        "result"
      ]
    },
    {
      "cell_type": "markdown",
      "metadata": {
        "button": false,
        "deletable": true,
        "new_sheet": false,
        "run_control": {
          "read_only": false
        },
        "id": "zjjyM48R2C38"
      },
      "source": [
        "Still, at this point, we have no way to classify program behavior:"
      ]
    },
    {
      "cell_type": "code",
      "execution_count": null,
      "metadata": {
        "button": false,
        "deletable": true,
        "execution": {
          "iopub.execute_input": "2023-01-07T14:36:40.213358Z",
          "iopub.status.busy": "2023-01-07T14:36:40.212880Z",
          "iopub.status.idle": "2023-01-07T14:36:40.214518Z",
          "shell.execute_reply": "2023-01-07T14:36:40.214790Z"
        },
        "new_sheet": false,
        "run_control": {
          "read_only": false
        },
        "id": "UzHGOCa12C38",
        "outputId": "eefcb6fe-d81f-44e1-b93f-796edff74083"
      },
      "outputs": [
        {
          "data": {
            "text/plain": [
              "'UNRESOLVED'"
            ]
          },
          "execution_count": 75,
          "metadata": {},
          "output_type": "execute_result"
        }
      ],
      "source": [
        "outcome"
      ]
    },
    {
      "cell_type": "markdown",
      "metadata": {
        "button": false,
        "deletable": true,
        "new_sheet": false,
        "run_control": {
          "read_only": false
        },
        "id": "NRkG57bW2C38"
      },
      "source": [
        "The `ProgramRunner` class sends the input to the standard input of a program instead.  The program is specified when creating a `ProgramRunner` object."
      ]
    },
    {
      "cell_type": "code",
      "execution_count": null,
      "metadata": {
        "button": false,
        "deletable": true,
        "execution": {
          "iopub.execute_input": "2023-01-07T14:36:40.217984Z",
          "iopub.status.busy": "2023-01-07T14:36:40.217679Z",
          "iopub.status.idle": "2023-01-07T14:36:40.218838Z",
          "shell.execute_reply": "2023-01-07T14:36:40.219162Z"
        },
        "new_sheet": false,
        "run_control": {
          "read_only": false
        },
        "id": "1lMWkRiY2C38"
      },
      "outputs": [],
      "source": [
        "class ProgramRunner(Runner):\n",
        "    \"\"\"Test a program with inputs.\"\"\"\n",
        "\n",
        "    def __init__(self, program: Union[str, List[str]]) -> None:\n",
        "        \"\"\"Initialize.\n",
        "           `program` is a program spec as passed to `subprocess.run()`\"\"\"\n",
        "        self.program = program\n",
        "\n",
        "    def run_process(self, inp: str = \"\") -> subprocess.CompletedProcess:\n",
        "        \"\"\"Run the program with `inp` as input.\n",
        "           Return result of `subprocess.run()`.\"\"\"\n",
        "        return subprocess.run(self.program,\n",
        "                              input=inp,\n",
        "                              stdout=subprocess.PIPE,\n",
        "                              stderr=subprocess.PIPE,\n",
        "                              universal_newlines=True)\n",
        "\n",
        "    def run(self, inp: str = \"\") -> Tuple[subprocess.CompletedProcess, Outcome]:\n",
        "        \"\"\"Run the program with `inp` as input.\n",
        "           Return test outcome based on result of `subprocess.run()`.\"\"\"\n",
        "        result = self.run_process(inp)\n",
        "\n",
        "        if result.returncode == 0:\n",
        "            outcome = self.PASS\n",
        "        elif result.returncode < 0:\n",
        "            outcome = self.FAIL\n",
        "        else:\n",
        "            outcome = self.UNRESOLVED\n",
        "\n",
        "        return (result, outcome)"
      ]
    },
    {
      "cell_type": "markdown",
      "metadata": {
        "button": false,
        "deletable": true,
        "new_sheet": false,
        "run_control": {
          "read_only": false
        },
        "id": "UA5qsphx2C38"
      },
      "source": [
        "Here's a variant for binary (i.e., non-textual) input and output."
      ]
    },
    {
      "cell_type": "code",
      "execution_count": null,
      "metadata": {
        "button": false,
        "deletable": true,
        "execution": {
          "iopub.execute_input": "2023-01-07T14:36:40.221332Z",
          "iopub.status.busy": "2023-01-07T14:36:40.221063Z",
          "iopub.status.idle": "2023-01-07T14:36:40.222161Z",
          "shell.execute_reply": "2023-01-07T14:36:40.222357Z"
        },
        "new_sheet": false,
        "run_control": {
          "read_only": false
        },
        "id": "j0rvROXl2C38"
      },
      "outputs": [],
      "source": [
        "class BinaryProgramRunner(ProgramRunner):\n",
        "    def run_process(self, inp: str = \"\") -> subprocess.CompletedProcess:\n",
        "        \"\"\"Run the program with `inp` as input.\n",
        "           Return result of `subprocess.run()`.\"\"\"\n",
        "        return subprocess.run(self.program,\n",
        "                              input=inp.encode(),\n",
        "                              stdout=subprocess.PIPE,\n",
        "                              stderr=subprocess.PIPE)"
      ]
    },
    {
      "cell_type": "markdown",
      "metadata": {
        "button": false,
        "deletable": true,
        "new_sheet": false,
        "run_control": {
          "read_only": false
        },
        "id": "Ur-vh4qg2C38"
      },
      "source": [
        "Let us demonstrate a `ProgramRunner` using the `cat` program – a program that copies its input to its output.  We see that a standard invocation of `cat` simply does the job, with the output of `cat` being the same as its input:"
      ]
    },
    {
      "cell_type": "code",
      "execution_count": null,
      "metadata": {
        "button": false,
        "deletable": true,
        "execution": {
          "iopub.execute_input": "2023-01-07T14:36:40.224855Z",
          "iopub.status.busy": "2023-01-07T14:36:40.224399Z",
          "iopub.status.idle": "2023-01-07T14:36:40.231335Z",
          "shell.execute_reply": "2023-01-07T14:36:40.231588Z"
        },
        "new_sheet": false,
        "run_control": {
          "read_only": false
        },
        "id": "H4kmPrjD2C38",
        "outputId": "3d627649-7444-42fa-b226-6959371e0f10"
      },
      "outputs": [
        {
          "data": {
            "text/plain": [
              "(CompletedProcess(args='cat', returncode=0, stdout='hello', stderr=''), 'PASS')"
            ]
          },
          "execution_count": 78,
          "metadata": {},
          "output_type": "execute_result"
        }
      ],
      "source": [
        "cat = ProgramRunner(program=\"cat\")\n",
        "cat.run(\"hello\")"
      ]
    },
    {
      "cell_type": "markdown",
      "metadata": {
        "button": false,
        "deletable": true,
        "new_sheet": false,
        "run_control": {
          "read_only": false
        },
        "id": "MPB9hppr2C38"
      },
      "source": [
        "### Fuzzer Classes\n",
        "\n",
        "Let us now define a *fuzzer* that actually feed data into a consumer.  The base class for fuzzers provides one central method `fuzz()` that creates some input.  The `run()` function then sends the fuzz() input to a runner, returning the outcome; `runs()` does this for a given number (`trials`) of times."
      ]
    },
    {
      "cell_type": "code",
      "execution_count": null,
      "metadata": {
        "button": false,
        "deletable": true,
        "execution": {
          "iopub.execute_input": "2023-01-07T14:36:40.234683Z",
          "iopub.status.busy": "2023-01-07T14:36:40.234310Z",
          "iopub.status.idle": "2023-01-07T14:36:40.235641Z",
          "shell.execute_reply": "2023-01-07T14:36:40.235954Z"
        },
        "new_sheet": false,
        "run_control": {
          "read_only": false
        },
        "id": "T135ew4c2C38"
      },
      "outputs": [],
      "source": [
        "class Fuzzer:\n",
        "    \"\"\"Base class for fuzzers.\"\"\"\n",
        "\n",
        "    def __init__(self) -> None:\n",
        "        \"\"\"Constructor\"\"\"\n",
        "        pass\n",
        "\n",
        "    def fuzz(self) -> str:\n",
        "        \"\"\"Return fuzz input\"\"\"\n",
        "        return \"\"\n",
        "\n",
        "    def run(self, runner: Runner = Runner()) \\\n",
        "            -> Tuple[subprocess.CompletedProcess, Outcome]:\n",
        "        \"\"\"Run `runner` with fuzz input\"\"\"\n",
        "        return runner.run(self.fuzz())\n",
        "\n",
        "    def runs(self, runner: Runner = PrintRunner(), trials: int = 10) \\\n",
        "            -> List[Tuple[subprocess.CompletedProcess, Outcome]]:\n",
        "        \"\"\"Run `runner` with fuzz input, `trials` times\"\"\"\n",
        "        return [self.run(runner) for i in range(trials)]"
      ]
    },
    {
      "cell_type": "markdown",
      "metadata": {
        "button": false,
        "deletable": true,
        "new_sheet": false,
        "run_control": {
          "read_only": false
        },
        "id": "6jOixXi-2C39"
      },
      "source": [
        "By default, `Fuzzer` objects do not do much, as their `fuzz()` function is merely an abstract placeholder.  The subclass `RandomFuzzer`, however, implements the functionality of the `fuzzer()` function, above, adding a parameter `min_length` to specify a minimum length."
      ]
    },
    {
      "cell_type": "code",
      "execution_count": null,
      "metadata": {
        "button": false,
        "deletable": true,
        "execution": {
          "iopub.execute_input": "2023-01-07T14:36:40.238691Z",
          "iopub.status.busy": "2023-01-07T14:36:40.238389Z",
          "iopub.status.idle": "2023-01-07T14:36:40.239531Z",
          "shell.execute_reply": "2023-01-07T14:36:40.239851Z"
        },
        "new_sheet": false,
        "run_control": {
          "read_only": false
        },
        "id": "Z6K03RGd2C39"
      },
      "outputs": [],
      "source": [
        "class RandomFuzzer(Fuzzer):\n",
        "    \"\"\"Produce random inputs.\"\"\"\n",
        "\n",
        "    def __init__(self, min_length: int = 10, max_length: int = 100,\n",
        "                 char_start: int = 32, char_range: int = 32) -> None:\n",
        "        \"\"\"Produce strings of `min_length` to `max_length` characters\n",
        "           in the range [`char_start`, `char_start` + `char_range`)\"\"\"\n",
        "        self.min_length = min_length\n",
        "        self.max_length = max_length\n",
        "        self.char_start = char_start\n",
        "        self.char_range = char_range\n",
        "\n",
        "    def fuzz(self) -> str:\n",
        "        string_length = random.randrange(self.min_length, self.max_length + 1)\n",
        "        out = \"\"\n",
        "        for i in range(0, string_length):\n",
        "            out += chr(random.randrange(self.char_start,\n",
        "                                        self.char_start + self.char_range))\n",
        "        return out"
      ]
    },
    {
      "cell_type": "markdown",
      "metadata": {
        "button": false,
        "deletable": true,
        "new_sheet": false,
        "run_control": {
          "read_only": false
        },
        "id": "3tWvynjU2C39"
      },
      "source": [
        "With `RandomFuzzer`, we can now create a fuzzer whose configuration needs to be specified only once when creating the fuzzer."
      ]
    },
    {
      "cell_type": "code",
      "execution_count": null,
      "metadata": {
        "button": false,
        "deletable": true,
        "execution": {
          "iopub.execute_input": "2023-01-07T14:36:40.241928Z",
          "iopub.status.busy": "2023-01-07T14:36:40.241611Z",
          "iopub.status.idle": "2023-01-07T14:36:40.242920Z",
          "shell.execute_reply": "2023-01-07T14:36:40.243109Z"
        },
        "new_sheet": false,
        "run_control": {
          "read_only": false
        },
        "id": "LiPU8k1D2C39",
        "outputId": "dea9c9ef-877f-4836-cda3-ed329888a7a8"
      },
      "outputs": [
        {
          "name": "stdout",
          "output_type": "stream",
          "text": [
            "'>23>33)(&\"09.377.*3\n",
            "*+:5 ? (?1$4<>!?3>.'\n",
            "4+3/(3 (0%!>!(+9%,#$\n",
            "/51$2964>;)2417<9\"2&\n",
            "907.. !7:&--\"=$7',7*\n",
            "(5=5'.!*+&>\")6%9)=,/\n",
            "?:&5) \";.0!=6>3+>)=,\n",
            "6&,?:!#2))- ?:)=63'-\n",
            ",)9#839%)?&(0<6(\"*;)\n",
            "4?!(49+8=-'&499%?< '\n"
          ]
        }
      ],
      "source": [
        "random_fuzzer = RandomFuzzer(min_length=20, max_length=20)\n",
        "for i in range(10):\n",
        "    print(random_fuzzer.fuzz())"
      ]
    },
    {
      "cell_type": "markdown",
      "metadata": {
        "button": false,
        "deletable": true,
        "new_sheet": false,
        "run_control": {
          "read_only": false
        },
        "id": "FGgGnrpi2C39"
      },
      "source": [
        "We can now send such generated inputs to our previously defined `cat` runner, verifying that `cat` actually does copy its (fuzzed) input to its output."
      ]
    },
    {
      "cell_type": "code",
      "execution_count": null,
      "metadata": {
        "button": false,
        "deletable": true,
        "execution": {
          "iopub.execute_input": "2023-01-07T14:36:40.245141Z",
          "iopub.status.busy": "2023-01-07T14:36:40.244258Z",
          "iopub.status.idle": "2023-01-07T14:36:40.283928Z",
          "shell.execute_reply": "2023-01-07T14:36:40.284209Z"
        },
        "new_sheet": false,
        "run_control": {
          "read_only": false
        },
        "id": "Cw7BrgjP2C39"
      },
      "outputs": [],
      "source": [
        "for i in range(10):\n",
        "    inp = random_fuzzer.fuzz()\n",
        "    result, outcome = cat.run(inp)\n",
        "    assert result.stdout == inp\n",
        "    assert outcome == Runner.PASS"
      ]
    },
    {
      "cell_type": "markdown",
      "metadata": {
        "button": false,
        "deletable": true,
        "new_sheet": false,
        "run_control": {
          "read_only": false
        },
        "id": "t40-i9Gz2C39"
      },
      "source": [
        "Combining a `Fuzzer` with a `Runner`, however, is so common that we can use the `run()` method supplied by the `Fuzzer` class for this purpose:"
      ]
    },
    {
      "cell_type": "code",
      "execution_count": null,
      "metadata": {
        "button": false,
        "deletable": true,
        "execution": {
          "iopub.execute_input": "2023-01-07T14:36:40.288976Z",
          "iopub.status.busy": "2023-01-07T14:36:40.288630Z",
          "iopub.status.idle": "2023-01-07T14:36:40.291412Z",
          "shell.execute_reply": "2023-01-07T14:36:40.291603Z"
        },
        "new_sheet": false,
        "run_control": {
          "read_only": false
        },
        "id": "0-hsYTd52C39",
        "outputId": "0b331f79-86e3-4f78-f22a-c97aa339f843"
      },
      "outputs": [
        {
          "data": {
            "text/plain": [
              "(CompletedProcess(args='cat', returncode=0, stdout='?:+= % <1<6$:(>=:9)5', stderr=''),\n",
              " 'PASS')"
            ]
          },
          "execution_count": 83,
          "metadata": {},
          "output_type": "execute_result"
        }
      ],
      "source": [
        "random_fuzzer.run(cat)"
      ]
    },
    {
      "cell_type": "markdown",
      "metadata": {
        "button": false,
        "deletable": true,
        "new_sheet": false,
        "run_control": {
          "read_only": false
        },
        "id": "W2pGf4GC2C39"
      },
      "source": [
        "With `runs()`, we can repeat a fuzzing run a number of times, obtaining a list of results."
      ]
    },
    {
      "cell_type": "code",
      "execution_count": null,
      "metadata": {
        "button": false,
        "deletable": true,
        "execution": {
          "iopub.execute_input": "2023-01-07T14:36:40.293776Z",
          "iopub.status.busy": "2023-01-07T14:36:40.293408Z",
          "iopub.status.idle": "2023-01-07T14:36:40.332369Z",
          "shell.execute_reply": "2023-01-07T14:36:40.332781Z"
        },
        "new_sheet": false,
        "run_control": {
          "read_only": false
        },
        "id": "G3M10rKb2C39",
        "outputId": "c0762d89-7bf3-4836-9727-c979cb2af8dd"
      },
      "outputs": [
        {
          "data": {
            "text/plain": [
              "[(CompletedProcess(args='cat', returncode=0, stdout='3976%%&+%6=(1)3&3:<9', stderr=''),\n",
              "  'PASS'),\n",
              " (CompletedProcess(args='cat', returncode=0, stdout='33$#42$ 11=*%$20=<.-', stderr=''),\n",
              "  'PASS'),\n",
              " (CompletedProcess(args='cat', returncode=0, stdout='\"?<\\'#8 </:*%9.--\\'97!', stderr=''),\n",
              "  'PASS'),\n",
              " (CompletedProcess(args='cat', returncode=0, stdout=\"/0-#(03/!#60'+6>&&72\", stderr=''),\n",
              "  'PASS'),\n",
              " (CompletedProcess(args='cat', returncode=0, stdout=\"=,+:,6'5:950+><3(*()\", stderr=''),\n",
              "  'PASS'),\n",
              " (CompletedProcess(args='cat', returncode=0, stdout=\" 379+0?'%3137=2:4605\", stderr=''),\n",
              "  'PASS'),\n",
              " (CompletedProcess(args='cat', returncode=0, stdout=\"02>!$</'*81.#</22>+:\", stderr=''),\n",
              "  'PASS'),\n",
              " (CompletedProcess(args='cat', returncode=0, stdout=\"=-<'3-#88*%&*9< +1&&\", stderr=''),\n",
              "  'PASS'),\n",
              " (CompletedProcess(args='cat', returncode=0, stdout='2;;0=3&6=8&30&<-;?*;', stderr=''),\n",
              "  'PASS'),\n",
              " (CompletedProcess(args='cat', returncode=0, stdout='/#05=*3($>::#7!0=12+', stderr=''),\n",
              "  'PASS')]"
            ]
          },
          "execution_count": 84,
          "metadata": {},
          "output_type": "execute_result"
        }
      ],
      "source": [
        "random_fuzzer.runs(cat, 10)"
      ]
    },
    {
      "cell_type": "markdown",
      "metadata": {
        "button": false,
        "deletable": true,
        "new_sheet": false,
        "run_control": {
          "read_only": false
        },
        "id": "YCx2ENcK2C39"
      },
      "source": [
        "With this, we have all in place to create fuzzers – starting with the simple random fuzzers introduced in this chapter, but even far more advanced ones.  Stay tuned!"
      ]
    },
    {
      "cell_type": "markdown",
      "metadata": {
        "id": "3FDI1kqe2C39"
      },
      "source": [
        "## Synopsis\n",
        "\n",
        "This chapter provides two important classes, introduced in [A Fuzzing Architecture](#A-Fuzzing-Architecture):\n",
        "\n",
        "* `Fuzzer` as a base class for fuzzers; and\n",
        "* `Runner` as a base class for programs under test."
      ]
    },
    {
      "cell_type": "markdown",
      "metadata": {
        "id": "jokoLDHA2C39"
      },
      "source": [
        "### Fuzzers\n",
        "\n",
        "`Fuzzer` is a base class for fuzzers, with `RandomFuzzer` as a simple instantiation.  The `fuzz()` method of `Fuzzer` objects returns a string with a generated input."
      ]
    },
    {
      "cell_type": "code",
      "execution_count": null,
      "metadata": {
        "execution": {
          "iopub.execute_input": "2023-01-07T14:36:40.335737Z",
          "iopub.status.busy": "2023-01-07T14:36:40.335439Z",
          "iopub.status.idle": "2023-01-07T14:36:40.336837Z",
          "shell.execute_reply": "2023-01-07T14:36:40.337177Z"
        },
        "id": "olQV68YZ2C39",
        "outputId": "9e05a0f6-8162-4971-db95-23295e72cc29"
      },
      "outputs": [
        {
          "data": {
            "text/plain": [
              "'%$<1&<%+=!\"83?+)9:++9138 42/ \"7;0-,)06 \"1(2;6>?99$%7!!*#96=>2&-/(5*)=$;0$$+;<12\"?30&'"
            ]
          },
          "execution_count": 85,
          "metadata": {},
          "output_type": "execute_result"
        }
      ],
      "source": [
        "random_fuzzer = RandomFuzzer()\n",
        "random_fuzzer.fuzz()"
      ]
    },
    {
      "cell_type": "markdown",
      "metadata": {
        "id": "-PE_bT2d2C3-"
      },
      "source": [
        "The `RandomFuzzer()` constructor allows to specify a number of keyword arguments:"
      ]
    },
    {
      "cell_type": "code",
      "execution_count": null,
      "metadata": {
        "execution": {
          "iopub.execute_input": "2023-01-07T14:36:40.339203Z",
          "iopub.status.busy": "2023-01-07T14:36:40.338896Z",
          "iopub.status.idle": "2023-01-07T14:36:40.340177Z",
          "shell.execute_reply": "2023-01-07T14:36:40.340484Z"
        },
        "id": "S6ApEnGb2C3-",
        "outputId": "792f9dda-6148-4682-e788-f9b78a8fba7b"
      },
      "outputs": [
        {
          "name": "stdout",
          "output_type": "stream",
          "text": [
            "Produce strings of `min_length` to `max_length` characters\n",
            "           in the range [`char_start`, `char_start` + `char_range`)\n"
          ]
        }
      ],
      "source": [
        "print(RandomFuzzer.__init__.__doc__)"
      ]
    },
    {
      "cell_type": "code",
      "execution_count": null,
      "metadata": {
        "execution": {
          "iopub.execute_input": "2023-01-07T14:36:40.342628Z",
          "iopub.status.busy": "2023-01-07T14:36:40.342299Z",
          "iopub.status.idle": "2023-01-07T14:36:40.343802Z",
          "shell.execute_reply": "2023-01-07T14:36:40.344054Z"
        },
        "id": "4NJ4atYQ2C3-",
        "outputId": "38802476-6c95-4f5f-b4ec-3186e88937ed"
      },
      "outputs": [
        {
          "data": {
            "text/plain": [
              "'XGZVDDPZOOW'"
            ]
          },
          "execution_count": 87,
          "metadata": {},
          "output_type": "execute_result"
        }
      ],
      "source": [
        "random_fuzzer = RandomFuzzer(min_length=10, max_length=20, char_start=65, char_range=26)\n",
        "random_fuzzer.fuzz()"
      ]
    },
    {
      "cell_type": "code",
      "execution_count": null,
      "metadata": {
        "execution": {
          "iopub.execute_input": "2023-01-07T14:36:40.345978Z",
          "iopub.status.busy": "2023-01-07T14:36:40.345684Z",
          "iopub.status.idle": "2023-01-07T14:36:40.362776Z",
          "shell.execute_reply": "2023-01-07T14:36:40.362987Z"
        },
        "id": "rW-77igi2C3-"
      },
      "outputs": [],
      "source": [
        "# ignore\n",
        "from ClassDiagram import display_class_hierarchy"
      ]
    },
    {
      "cell_type": "code",
      "execution_count": null,
      "metadata": {
        "execution": {
          "iopub.execute_input": "2023-01-07T14:36:40.365083Z",
          "iopub.status.busy": "2023-01-07T14:36:40.364777Z",
          "iopub.status.idle": "2023-01-07T14:36:40.649278Z",
          "shell.execute_reply": "2023-01-07T14:36:40.649482Z"
        },
        "id": "eNdo7db32C3-",
        "outputId": "e119b536-1b5e-462a-e4f2-da482d522538"
      },
      "outputs": [
        {
          "data": {
            "image/svg+xml": [
              "<?xml version=\"1.0\" encoding=\"UTF-8\" standalone=\"no\"?>\n",
              "<!DOCTYPE svg PUBLIC \"-//W3C//DTD SVG 1.1//EN\"\n",
              " \"http://www.w3.org/Graphics/SVG/1.1/DTD/svg11.dtd\">\n",
              "<!-- Generated by graphviz version 7.0.2 (20221119.0110)\n",
              " -->\n",
              "<!-- Pages: 1 -->\n",
              "<svg width=\"256pt\" height=\"174pt\"\n",
              " viewBox=\"0.00 0.00 256.00 174.00\" xmlns=\"http://www.w3.org/2000/svg\" xmlns:xlink=\"http://www.w3.org/1999/xlink\">\n",
              "<g id=\"graph0\" class=\"graph\" transform=\"scale(1 1) rotate(0) translate(4 170)\">\n",
              "<g id=\"a_graph0\"><a xlink:title=\"RandomFuzzer class hierarchy\">\n",
              "<polygon fill=\"white\" stroke=\"none\" points=\"-4,4 -4,-170 252,-170 252,4 -4,4\"/>\n",
              "</a>\n",
              "</g>\n",
              "<!-- RandomFuzzer -->\n",
              "<g id=\"node1\" class=\"node\">\n",
              "<title>RandomFuzzer</title>\n",
              "<g id=\"a_node1\"><a xlink:href=\"#\" xlink:title=\"class RandomFuzzer:&#10;Produce random inputs.\">\n",
              "<polygon fill=\"none\" stroke=\"black\" points=\"0,-0.5 0,-53.5 110,-53.5 110,-0.5 0,-0.5\"/>\n",
              "<text text-anchor=\"start\" x=\"8\" y=\"-39.3\" font-family=\"Patua One, Helvetica, sans-serif\" font-weight=\"bold\" font-size=\"14.00\" fill=\"#b03a2e\">RandomFuzzer</text>\n",
              "<polyline fill=\"none\" stroke=\"black\" points=\"0,-30.5 110,-30.5\"/>\n",
              "<g id=\"a_node1_0\"><a xlink:href=\"#\" xlink:title=\"RandomFuzzer\">\n",
              "<g id=\"a_node1_1\"><a xlink:href=\"#\" xlink:title=\"__init__(self, min_length: int = 10, max_length: int = 100, char_start: int = 32, char_range: int = 32) &#45;&gt; None:&#10;Produce strings of `min_length` to `max_length` characters&#10;in the range [`char_start`, `char_start` + `char_range`)\">\n",
              "<text text-anchor=\"start\" x=\"25\" y=\"-19.5\" font-family=\"'Fira Mono', 'Source Code Pro', 'Courier', monospace\" font-weight=\"bold\" font-style=\"italic\" font-size=\"10.00\">__init__()</text>\n",
              "</a>\n",
              "</g>\n",
              "<g id=\"a_node1_2\"><a xlink:href=\"#\" xlink:title=\"fuzz(self) &#45;&gt; str:&#10;Return fuzz input\">\n",
              "<text text-anchor=\"start\" x=\"25\" y=\"-8.5\" font-family=\"'Fira Mono', 'Source Code Pro', 'Courier', monospace\" font-weight=\"bold\" font-style=\"italic\" font-size=\"10.00\">fuzz()</text>\n",
              "</a>\n",
              "</g>\n",
              "</a>\n",
              "</g>\n",
              "</a>\n",
              "</g>\n",
              "</g>\n",
              "<!-- Fuzzer -->\n",
              "<g id=\"node2\" class=\"node\">\n",
              "<title>Fuzzer</title>\n",
              "<g id=\"a_node2\"><a xlink:href=\"#\" xlink:title=\"class Fuzzer:&#10;Base class for fuzzers.\">\n",
              "<polygon fill=\"none\" stroke=\"black\" points=\"16.5,-90.5 16.5,-165.5 93.5,-165.5 93.5,-90.5 16.5,-90.5\"/>\n",
              "<text text-anchor=\"start\" x=\"34\" y=\"-151.3\" font-family=\"Patua One, Helvetica, sans-serif\" font-weight=\"bold\" font-size=\"14.00\" fill=\"#b03a2e\">Fuzzer</text>\n",
              "<polyline fill=\"none\" stroke=\"black\" points=\"16.5,-142.5 93.5,-142.5\"/>\n",
              "<g id=\"a_node2_3\"><a xlink:href=\"#\" xlink:title=\"Fuzzer\">\n",
              "<g id=\"a_node2_4\"><a xlink:href=\"#\" xlink:title=\"__init__(self) &#45;&gt; None:&#10;Constructor\">\n",
              "<text text-anchor=\"start\" x=\"25\" y=\"-131.5\" font-family=\"'Fira Mono', 'Source Code Pro', 'Courier', monospace\" font-weight=\"bold\" font-style=\"italic\" font-size=\"10.00\">__init__()</text>\n",
              "</a>\n",
              "</g>\n",
              "<g id=\"a_node2_5\"><a xlink:href=\"#\" xlink:title=\"fuzz(self) &#45;&gt; str:&#10;Return fuzz input\">\n",
              "<text text-anchor=\"start\" x=\"25\" y=\"-120.5\" font-family=\"'Fira Mono', 'Source Code Pro', 'Courier', monospace\" font-weight=\"bold\" font-style=\"italic\" font-size=\"10.00\">fuzz()</text>\n",
              "</a>\n",
              "</g>\n",
              "<g id=\"a_node2_6\"><a xlink:href=\"#\" xlink:title=\"run(self, runner: Runner = &lt;Runner object at 0x104f05660&gt;) &#45;&gt; Tuple[subprocess.CompletedProcess, str]:&#10;Run `runner` with fuzz input\">\n",
              "<text text-anchor=\"start\" x=\"25\" y=\"-109.5\" font-family=\"'Fira Mono', 'Source Code Pro', 'Courier', monospace\" font-weight=\"bold\" font-size=\"10.00\">run()</text>\n",
              "</a>\n",
              "</g>\n",
              "<g id=\"a_node2_7\"><a xlink:href=\"#\" xlink:title=\"runs(self, runner: Runner = &lt;PrintRunner object at 0x104f04e80&gt;, trials: int = 10) &#45;&gt; List[Tuple[subprocess.CompletedProcess, str]]:&#10;Run `runner` with fuzz input, `trials` times\">\n",
              "<text text-anchor=\"start\" x=\"25\" y=\"-98.5\" font-family=\"'Fira Mono', 'Source Code Pro', 'Courier', monospace\" font-weight=\"bold\" font-size=\"10.00\">runs()</text>\n",
              "</a>\n",
              "</g>\n",
              "</a>\n",
              "</g>\n",
              "</a>\n",
              "</g>\n",
              "</g>\n",
              "<!-- RandomFuzzer&#45;&gt;Fuzzer -->\n",
              "<g id=\"edge1\" class=\"edge\">\n",
              "<title>RandomFuzzer&#45;&gt;Fuzzer</title>\n",
              "<path fill=\"none\" stroke=\"black\" d=\"M55,-53.49C55,-61.47 55,-70.54 55,-79.53\"/>\n",
              "<polygon fill=\"none\" stroke=\"black\" points=\"51.5,-79.26 55,-89.26 58.5,-79.26 51.5,-79.26\"/>\n",
              "</g>\n",
              "<!-- Legend -->\n",
              "<g id=\"node3\" class=\"node\">\n",
              "<title>Legend</title>\n",
              "<text text-anchor=\"start\" x=\"128\" y=\"-44.5\" font-family=\"Patua One, Helvetica, sans-serif\" font-weight=\"bold\" font-size=\"10.00\" fill=\"#b03a2e\">Legend</text>\n",
              "<text text-anchor=\"start\" x=\"128\" y=\"-34.5\" font-family=\"Patua One, Helvetica, sans-serif\" font-size=\"10.00\">• </text>\n",
              "<text text-anchor=\"start\" x=\"135\" y=\"-34.5\" font-family=\"'Fira Mono', 'Source Code Pro', 'Courier', monospace\" font-weight=\"bold\" font-size=\"8.00\">public_method()</text>\n",
              "<text text-anchor=\"start\" x=\"128\" y=\"-24.5\" font-family=\"Patua One, Helvetica, sans-serif\" font-size=\"10.00\">• </text>\n",
              "<text text-anchor=\"start\" x=\"135\" y=\"-24.5\" font-family=\"'Fira Mono', 'Source Code Pro', 'Courier', monospace\" font-size=\"8.00\">private_method()</text>\n",
              "<text text-anchor=\"start\" x=\"128\" y=\"-14.5\" font-family=\"Patua One, Helvetica, sans-serif\" font-size=\"10.00\">• </text>\n",
              "<text text-anchor=\"start\" x=\"135\" y=\"-14.5\" font-family=\"'Fira Mono', 'Source Code Pro', 'Courier', monospace\" font-style=\"italic\" font-size=\"8.00\">overloaded_method()</text>\n",
              "<text text-anchor=\"start\" x=\"128\" y=\"-5.3\" font-family=\"Helvetica,sans-Serif\" font-size=\"9.00\">Hover over names to see doc</text>\n",
              "</g>\n",
              "</g>\n",
              "</svg>\n"
            ],
            "text/plain": [
              "<graphviz.graphs.Digraph at 0x104c5ff70>"
            ]
          },
          "execution_count": 89,
          "metadata": {},
          "output_type": "execute_result"
        }
      ],
      "source": [
        "# ignore\n",
        "display_class_hierarchy(RandomFuzzer,\n",
        "                        public_methods=[\n",
        "                            Fuzzer.__init__,\n",
        "                            Fuzzer.fuzz,\n",
        "                            Fuzzer.run,\n",
        "                            Fuzzer.runs,\n",
        "                            RandomFuzzer.fuzz,\n",
        "                            RandomFuzzer.__init__,\n",
        "                        ],\n",
        "    project='fuzzingbook')"
      ]
    },
    {
      "cell_type": "markdown",
      "metadata": {
        "id": "utQ5nfS42C3-"
      },
      "source": [
        "### Runners\n",
        "\n",
        "A `Fuzzer` can be paired with a `Runner`, which takes the fuzzed strings as input. Its result is a class-specific _status_ and an _outcome_ (`PASS`, `FAIL`, or `UNRESOLVED`). A `PrintRunner` will simply print out the given input and return a `PASS` outcome:"
      ]
    },
    {
      "cell_type": "code",
      "execution_count": null,
      "metadata": {
        "execution": {
          "iopub.execute_input": "2023-01-07T14:36:40.651977Z",
          "iopub.status.busy": "2023-01-07T14:36:40.651588Z",
          "iopub.status.idle": "2023-01-07T14:36:40.653098Z",
          "shell.execute_reply": "2023-01-07T14:36:40.653417Z"
        },
        "id": "8FVZC6Zs2C3-",
        "outputId": "96185d19-a247-473f-e84c-5072f4aa5fda"
      },
      "outputs": [
        {
          "name": "stdout",
          "output_type": "stream",
          "text": [
            "EQYGAXPTVPJGTYHXFJ\n"
          ]
        },
        {
          "data": {
            "text/plain": [
              "('EQYGAXPTVPJGTYHXFJ', 'UNRESOLVED')"
            ]
          },
          "execution_count": 90,
          "metadata": {},
          "output_type": "execute_result"
        }
      ],
      "source": [
        "print_runner = PrintRunner()\n",
        "random_fuzzer.run(print_runner)"
      ]
    },
    {
      "cell_type": "markdown",
      "metadata": {
        "id": "4T0BEjv62C3-"
      },
      "source": [
        "A `ProgramRunner` will feed the generated input into an external program.  Its result is a pair of the program status (a `CompletedProcess` instance) and an _outcome_ (`PASS`, `FAIL`, or `UNRESOLVED`):"
      ]
    },
    {
      "cell_type": "code",
      "execution_count": null,
      "metadata": {
        "execution": {
          "iopub.execute_input": "2023-01-07T14:36:40.657735Z",
          "iopub.status.busy": "2023-01-07T14:36:40.657302Z",
          "iopub.status.idle": "2023-01-07T14:36:40.663785Z",
          "shell.execute_reply": "2023-01-07T14:36:40.664040Z"
        },
        "id": "jbef10lj2C3-",
        "outputId": "b9981952-7a76-4b63-ce86-0949a80ea742"
      },
      "outputs": [
        {
          "data": {
            "text/plain": [
              "(CompletedProcess(args='cat', returncode=0, stdout='BZOQTXFBTEOVYX', stderr=''),\n",
              " 'PASS')"
            ]
          },
          "execution_count": 91,
          "metadata": {},
          "output_type": "execute_result"
        }
      ],
      "source": [
        "cat = ProgramRunner('cat')\n",
        "random_fuzzer.run(cat)"
      ]
    },
    {
      "cell_type": "code",
      "execution_count": null,
      "metadata": {
        "execution": {
          "iopub.execute_input": "2023-01-07T14:36:40.671030Z",
          "iopub.status.busy": "2023-01-07T14:36:40.670579Z",
          "iopub.status.idle": "2023-01-07T14:36:40.982303Z",
          "shell.execute_reply": "2023-01-07T14:36:40.982621Z"
        },
        "id": "En_IqPza2C3_",
        "outputId": "dceff676-6371-4539-a584-1e1966a5de72"
      },
      "outputs": [
        {
          "data": {
            "image/svg+xml": [
              "<?xml version=\"1.0\" encoding=\"UTF-8\" standalone=\"no\"?>\n",
              "<!DOCTYPE svg PUBLIC \"-//W3C//DTD SVG 1.1//EN\"\n",
              " \"http://www.w3.org/Graphics/SVG/1.1/DTD/svg11.dtd\">\n",
              "<!-- Generated by graphviz version 7.0.2 (20221119.0110)\n",
              " -->\n",
              "<!-- Pages: 1 -->\n",
              "<svg width=\"374pt\" height=\"204pt\"\n",
              " viewBox=\"0.00 0.00 374.00 204.00\" xmlns=\"http://www.w3.org/2000/svg\" xmlns:xlink=\"http://www.w3.org/1999/xlink\">\n",
              "<g id=\"graph0\" class=\"graph\" transform=\"scale(1 1) rotate(0) translate(4 200)\">\n",
              "<g id=\"a_graph0\"><a xlink:title=\"ProgramRunner class hierarchy\">\n",
              "<polygon fill=\"white\" stroke=\"none\" points=\"-4,4 -4,-200 370,-200 370,4 -4,4\"/>\n",
              "</a>\n",
              "</g>\n",
              "<!-- ProgramRunner -->\n",
              "<g id=\"node1\" class=\"node\">\n",
              "<title>ProgramRunner</title>\n",
              "<g id=\"a_node1\"><a xlink:href=\"#\" xlink:title=\"class ProgramRunner:&#10;Test a program with inputs.\">\n",
              "<polygon fill=\"none\" stroke=\"black\" points=\"0,-0.5 0,-64.5 116,-64.5 116,-0.5 0,-0.5\"/>\n",
              "<text text-anchor=\"start\" x=\"8\" y=\"-50.3\" font-family=\"Patua One, Helvetica, sans-serif\" font-weight=\"bold\" font-size=\"14.00\" fill=\"#b03a2e\">ProgramRunner</text>\n",
              "<polyline fill=\"none\" stroke=\"black\" points=\"0,-41.5 116,-41.5\"/>\n",
              "<g id=\"a_node1_0\"><a xlink:href=\"#\" xlink:title=\"ProgramRunner\">\n",
              "<g id=\"a_node1_1\"><a xlink:href=\"#\" xlink:title=\"__init__(self, program: Union[str, List[str]]) &#45;&gt; None:&#10;Initialize.&#10;`program` is a program spec as passed to `subprocess.run()`\">\n",
              "<text text-anchor=\"start\" x=\"19\" y=\"-30\" font-family=\"'Fira Mono', 'Source Code Pro', 'Courier', monospace\" font-weight=\"bold\" font-style=\"italic\" font-size=\"10.00\">__init__()</text>\n",
              "</a>\n",
              "</g>\n",
              "<g id=\"a_node1_2\"><a xlink:href=\"#\" xlink:title=\"run(self, inp: str = &#39;&#39;) &#45;&gt; Tuple[subprocess.CompletedProcess, str]:&#10;Run the program with `inp` as input.&#10;Return test outcome based on result of `subprocess.run()`.\">\n",
              "<text text-anchor=\"start\" x=\"19\" y=\"-19\" font-family=\"'Fira Mono', 'Source Code Pro', 'Courier', monospace\" font-weight=\"bold\" font-style=\"italic\" font-size=\"10.00\">run()</text>\n",
              "</a>\n",
              "</g>\n",
              "<g id=\"a_node1_3\"><a xlink:href=\"#\" xlink:title=\"run_process(self, inp: str = &#39;&#39;) &#45;&gt; subprocess.CompletedProcess:&#10;Run the program with `inp` as input.&#10;Return result of `subprocess.run()`.\">\n",
              "<text text-anchor=\"start\" x=\"19\" y=\"-7\" font-family=\"'Fira Mono', 'Source Code Pro', 'Courier', monospace\" font-size=\"10.00\">run_process()</text>\n",
              "</a>\n",
              "</g>\n",
              "</a>\n",
              "</g>\n",
              "</a>\n",
              "</g>\n",
              "</g>\n",
              "<!-- Runner -->\n",
              "<g id=\"node2\" class=\"node\">\n",
              "<title>Runner</title>\n",
              "<g id=\"a_node2\"><a xlink:href=\"#\" xlink:title=\"class Runner:&#10;Base class for testing inputs.\">\n",
              "<polygon fill=\"none\" stroke=\"black\" points=\"80.5,-101.5 80.5,-195.5 157.5,-195.5 157.5,-101.5 80.5,-101.5\"/>\n",
              "<text text-anchor=\"start\" x=\"96\" y=\"-181.3\" font-family=\"Patua One, Helvetica, sans-serif\" font-weight=\"bold\" font-size=\"14.00\" fill=\"#b03a2e\">Runner</text>\n",
              "<polyline fill=\"none\" stroke=\"black\" points=\"80.5,-172.5 157.5,-172.5\"/>\n",
              "<g id=\"a_node2_4\"><a xlink:href=\"#\" xlink:title=\"Runner\">\n",
              "<g id=\"a_node2_5\"><a xlink:href=\"#\" xlink:title=\"FAIL = &#39;FAIL&#39;\">\n",
              "<text text-anchor=\"start\" x=\"89\" y=\"-160\" font-family=\"'Fira Mono', 'Source Code Pro', 'Courier', monospace\" font-size=\"10.00\">FAIL</text>\n",
              "</a>\n",
              "</g>\n",
              "<g id=\"a_node2_6\"><a xlink:href=\"#\" xlink:title=\"PASS = &#39;PASS&#39;\">\n",
              "<text text-anchor=\"start\" x=\"89\" y=\"-149\" font-family=\"'Fira Mono', 'Source Code Pro', 'Courier', monospace\" font-size=\"10.00\">PASS</text>\n",
              "</a>\n",
              "</g>\n",
              "<g id=\"a_node2_7\"><a xlink:href=\"#\" xlink:title=\"UNRESOLVED = &#39;UNRESOLVED&#39;\">\n",
              "<text text-anchor=\"start\" x=\"89\" y=\"-138\" font-family=\"'Fira Mono', 'Source Code Pro', 'Courier', monospace\" font-size=\"10.00\">UNRESOLVED</text>\n",
              "</a>\n",
              "</g>\n",
              "</a>\n",
              "</g>\n",
              "<polyline fill=\"none\" stroke=\"black\" points=\"80.5,-131.5 157.5,-131.5\"/>\n",
              "<g id=\"a_node2_8\"><a xlink:href=\"#\" xlink:title=\"Runner\">\n",
              "<g id=\"a_node2_9\"><a xlink:href=\"#\" xlink:title=\"__init__(self) &#45;&gt; None:&#10;Initialize\">\n",
              "<text text-anchor=\"start\" x=\"89\" y=\"-120.5\" font-family=\"'Fira Mono', 'Source Code Pro', 'Courier', monospace\" font-weight=\"bold\" font-style=\"italic\" font-size=\"10.00\">__init__()</text>\n",
              "</a>\n",
              "</g>\n",
              "<g id=\"a_node2_10\"><a xlink:href=\"#\" xlink:title=\"run(self, inp: str) &#45;&gt; Any:&#10;Run the runner with the given input\">\n",
              "<text text-anchor=\"start\" x=\"89\" y=\"-109.5\" font-family=\"'Fira Mono', 'Source Code Pro', 'Courier', monospace\" font-weight=\"bold\" font-style=\"italic\" font-size=\"10.00\">run()</text>\n",
              "</a>\n",
              "</g>\n",
              "</a>\n",
              "</g>\n",
              "</a>\n",
              "</g>\n",
              "</g>\n",
              "<!-- ProgramRunner&#45;&gt;Runner -->\n",
              "<g id=\"edge1\" class=\"edge\">\n",
              "<title>ProgramRunner&#45;&gt;Runner</title>\n",
              "<path fill=\"none\" stroke=\"black\" d=\"M74.51,-64.35C79.02,-72.78 84.05,-82.18 89.06,-91.54\"/>\n",
              "<polygon fill=\"none\" stroke=\"black\" points=\"85.94,-93.13 93.74,-100.3 92.11,-89.83 85.94,-93.13\"/>\n",
              "</g>\n",
              "<!-- PrintRunner -->\n",
              "<g id=\"node3\" class=\"node\">\n",
              "<title>PrintRunner</title>\n",
              "<g id=\"a_node3\"><a xlink:href=\"#\" xlink:title=\"class PrintRunner:&#10;Simple runner, printing the input.\">\n",
              "<polygon fill=\"none\" stroke=\"black\" points=\"134.5,-11.5 134.5,-53.5 227.5,-53.5 227.5,-11.5 134.5,-11.5\"/>\n",
              "<text text-anchor=\"start\" x=\"142.5\" y=\"-39.3\" font-family=\"Patua One, Helvetica, sans-serif\" font-weight=\"bold\" font-size=\"14.00\" fill=\"#b03a2e\">PrintRunner</text>\n",
              "<polyline fill=\"none\" stroke=\"black\" points=\"134.5,-30.5 227.5,-30.5\"/>\n",
              "<g id=\"a_node3_11\"><a xlink:href=\"#\" xlink:title=\"PrintRunner\">\n",
              "<g id=\"a_node3_12\"><a xlink:href=\"#\" xlink:title=\"run(self, inp) &#45;&gt; Any:&#10;Print the given input\">\n",
              "<text text-anchor=\"start\" x=\"166\" y=\"-19\" font-family=\"'Fira Mono', 'Source Code Pro', 'Courier', monospace\" font-weight=\"bold\" font-style=\"italic\" font-size=\"10.00\">run()</text>\n",
              "</a>\n",
              "</g>\n",
              "</a>\n",
              "</g>\n",
              "</a>\n",
              "</g>\n",
              "</g>\n",
              "<!-- PrintRunner&#45;&gt;Runner -->\n",
              "<g id=\"edge2\" class=\"edge\">\n",
              "<title>PrintRunner&#45;&gt;Runner</title>\n",
              "<path fill=\"none\" stroke=\"black\" d=\"M170.2,-53.36C164.34,-64.14 156.77,-78.06 149.26,-91.87\"/>\n",
              "<polygon fill=\"none\" stroke=\"black\" points=\"146.25,-90.07 144.54,-100.53 152.4,-93.42 146.25,-90.07\"/>\n",
              "</g>\n",
              "<!-- Legend -->\n",
              "<g id=\"node4\" class=\"node\">\n",
              "<title>Legend</title>\n",
              "<text text-anchor=\"start\" x=\"246\" y=\"-50\" font-family=\"Patua One, Helvetica, sans-serif\" font-weight=\"bold\" font-size=\"10.00\" fill=\"#b03a2e\">Legend</text>\n",
              "<text text-anchor=\"start\" x=\"246\" y=\"-40\" font-family=\"Patua One, Helvetica, sans-serif\" font-size=\"10.00\">• </text>\n",
              "<text text-anchor=\"start\" x=\"253\" y=\"-40\" font-family=\"'Fira Mono', 'Source Code Pro', 'Courier', monospace\" font-weight=\"bold\" font-size=\"8.00\">public_method()</text>\n",
              "<text text-anchor=\"start\" x=\"246\" y=\"-30\" font-family=\"Patua One, Helvetica, sans-serif\" font-size=\"10.00\">• </text>\n",
              "<text text-anchor=\"start\" x=\"253\" y=\"-30\" font-family=\"'Fira Mono', 'Source Code Pro', 'Courier', monospace\" font-size=\"8.00\">private_method()</text>\n",
              "<text text-anchor=\"start\" x=\"246\" y=\"-20\" font-family=\"Patua One, Helvetica, sans-serif\" font-size=\"10.00\">• </text>\n",
              "<text text-anchor=\"start\" x=\"253\" y=\"-20\" font-family=\"'Fira Mono', 'Source Code Pro', 'Courier', monospace\" font-style=\"italic\" font-size=\"8.00\">overloaded_method()</text>\n",
              "<text text-anchor=\"start\" x=\"246\" y=\"-10.8\" font-family=\"Helvetica,sans-Serif\" font-size=\"9.00\">Hover over names to see doc</text>\n",
              "</g>\n",
              "</g>\n",
              "</svg>\n"
            ],
            "text/plain": [
              "<graphviz.graphs.Digraph at 0x104f052a0>"
            ]
          },
          "execution_count": 92,
          "metadata": {},
          "output_type": "execute_result"
        }
      ],
      "source": [
        "# ignore\n",
        "display_class_hierarchy([ProgramRunner, PrintRunner],\n",
        "                        public_methods=[\n",
        "                            Runner.__init__,\n",
        "                            Runner.run,\n",
        "                            ProgramRunner.__init__,\n",
        "                            ProgramRunner.run,\n",
        "                            PrintRunner.run\n",
        "                        ],\n",
        "    project='fuzzingbook')"
      ]
    },
    {
      "cell_type": "markdown",
      "metadata": {
        "button": false,
        "deletable": true,
        "new_sheet": false,
        "run_control": {
          "read_only": false
        },
        "id": "Folv9v1Z2C3_"
      },
      "source": [
        "## Lessons Learned\n",
        "\n",
        "* Randomly generating inputs (\"fuzzing\") is a simple, cost-effective way to quickly test arbitrary programs for their robustness.\n",
        "* Bugs fuzzers find are mainly due to errors and deficiencies in _input processing_.\n",
        "* To catch errors, have as many _consistency checkers_ as possible."
      ]
    },
    {
      "cell_type": "markdown",
      "metadata": {
        "button": false,
        "deletable": true,
        "new_sheet": false,
        "run_control": {
          "read_only": false
        },
        "id": "NPn3Zdqw2C3_"
      },
      "source": [
        "We're done, so don't forget to clean up:"
      ]
    },
    {
      "cell_type": "code",
      "execution_count": null,
      "metadata": {
        "button": false,
        "deletable": true,
        "execution": {
          "iopub.execute_input": "2023-01-07T14:36:40.985072Z",
          "iopub.status.busy": "2023-01-07T14:36:40.984742Z",
          "iopub.status.idle": "2023-01-07T14:36:40.986143Z",
          "shell.execute_reply": "2023-01-07T14:36:40.986385Z"
        },
        "new_sheet": false,
        "run_control": {
          "read_only": false
        },
        "id": "QFMTCBg52C3_"
      },
      "outputs": [],
      "source": [
        "os.remove(FILE)\n",
        "os.removedirs(tempdir)"
      ]
    },
    {
      "cell_type": "markdown",
      "metadata": {
        "button": false,
        "deletable": true,
        "new_sheet": false,
        "run_control": {
          "read_only": false
        },
        "id": "G54zgECB2C3_"
      },
      "source": [
        "## Next Steps\n",
        "\n",
        "From here, you can explore how to\n",
        "\n",
        "* [use _mutations_ on existing inputs to get more valid inputs](MutationFuzzer.ipynb)\n",
        "* [use _grammars_ to specify the input format and thus get many more valid inputs](Grammars.ipynb)\n",
        "* [reduce _failing inputs_ for efficient debugging](Reducer.ipynb)\n",
        "\n",
        "Enjoy the read!"
      ]
    },
    {
      "cell_type": "markdown",
      "metadata": {
        "button": false,
        "deletable": true,
        "new_sheet": false,
        "run_control": {
          "read_only": false
        },
        "id": "J3f0QqsL2C3_"
      },
      "source": [
        "## Background\n",
        "\n",
        "Books on generating software tests in general are scarce (which is why we wrote this book).  There are a few notable books on _fuzzing,_ though, also based on the basic fuzzing techniques introduced in this chapter:\n",
        "\n",
        "* The book \"Fuzzing – Brute Force Vulnerability Discovery\"  covers a wide range of fuzzing domains, including files, Web pages, environment variables, and network protocols.  The authors bring in lots of experience from fuzzing at Microsoft, and include a number of ready-made tools for Windows and UNIX programs.  The tools have aged somewhat, but the principles remain.\n",
        "\n",
        "* The book \"Fuzzing for Software Security Testing and Quality Assurance\" \\cite{Takanen2008}, now in its second edition 2018, covers a wide range of fuzzing tools and detection techniques; its authors bring in plenty of experience from security testing and vulnerability discovery.  This is arguably one of the most comprehensive and up-to-date books on the field.\n",
        "\n",
        "Specifically for this chapter, the seminal work on fuzzing, introducing both the term and the approach, is \"An Empirical Study of the Reliability of UNIX Utilities\" \\cite{Miller1990}.  As the foundation for the field, this is a must-read for anyone interested in fuzzing and robustness testing, with observations as valid today as they were 30 years ago."
      ]
    },
    {
      "cell_type": "markdown",
      "metadata": {
        "button": false,
        "deletable": true,
        "new_sheet": false,
        "run_control": {
          "read_only": false
        },
        "id": "gjRgNzSz2C3_"
      },
      "source": [
        "## Exercises"
      ]
    },
    {
      "cell_type": "markdown",
      "metadata": {
        "button": false,
        "deletable": true,
        "new_sheet": false,
        "run_control": {
          "read_only": false
        },
        "id": "fhaqnHwy2C3_"
      },
      "source": [
        "One of the errors found by Miller et al. \\cite{Miller1990} involves the _troff_ typesetting system.  _Troff_ takes as input a text consisting of lines; a line beginning with a dot (`.`) includes typesetting commands, as in\n",
        "\n",
        "```\n",
        ".NH\n",
        "Some Heading\n",
        ".LP\n",
        "Some paragraph\n",
        "```\n",
        "\n",
        "which would produce (using `nroff -ms`) the text\n",
        "\n",
        "```\n",
        "1.  Some Heading\n",
        "\n",
        "Some paragraph\n",
        "```"
      ]
    },
    {
      "cell_type": "markdown",
      "metadata": {
        "button": false,
        "deletable": true,
        "new_sheet": false,
        "run_control": {
          "read_only": false
        },
        "id": "VoX3TsPj2C3_"
      },
      "source": [
        "At the time of Miller et al., _troff_ would fail if its input included\n",
        "\n",
        "1. The input sequence `\\D` (backslash + D) followed by a non-printable character\n",
        "2. A character in the ASCII range 128–255 (i.e., the 8th bit is set) followed by a newline character\n",
        "3. A single dot (`.`) followed by a newline character."
      ]
    },
    {
      "cell_type": "markdown",
      "metadata": {
        "button": false,
        "deletable": true,
        "new_sheet": false,
        "run_control": {
          "read_only": false
        },
        "solution2": "hidden",
        "solution2_first": true,
        "id": "MAUhbsU02C3_"
      },
      "source": [
        "### Exercise 1: Simulate Troff\n",
        "\n",
        "For each of the above, write a Python function `f(s)` that fails if `s` fulfills the failure criterion."
      ]
    },
    {
      "cell_type": "markdown",
      "metadata": {
        "button": false,
        "deletable": true,
        "new_sheet": false,
        "run_control": {
          "read_only": false
        },
        "solution2": "hidden",
        "id": "LKgHUZON2C3_"
      },
      "source": [
        "**Solution**.  Here are three functions that check their input for `troff` bugs:"
      ]
    },
    {
      "cell_type": "code",
      "execution_count": null,
      "metadata": {
        "button": false,
        "deletable": true,
        "execution": {
          "iopub.execute_input": "2023-01-07T14:36:40.988787Z",
          "iopub.status.busy": "2023-01-07T14:36:40.988163Z",
          "iopub.status.idle": "2023-01-07T14:36:40.989442Z",
          "shell.execute_reply": "2023-01-07T14:36:40.989792Z"
        },
        "new_sheet": false,
        "run_control": {
          "read_only": false
        },
        "solution2": "hidden",
        "id": "8dbWLPlG2C3_"
      },
      "outputs": [],
      "source": [
        "import string"
      ]
    },
    {
      "cell_type": "code",
      "execution_count": null,
      "metadata": {
        "button": false,
        "deletable": true,
        "execution": {
          "iopub.execute_input": "2023-01-07T14:36:40.992632Z",
          "iopub.status.busy": "2023-01-07T14:36:40.992323Z",
          "iopub.status.idle": "2023-01-07T14:36:40.993474Z",
          "shell.execute_reply": "2023-01-07T14:36:40.993818Z"
        },
        "new_sheet": false,
        "run_control": {
          "read_only": false
        },
        "solution2": "hidden",
        "id": "PezWs9hn2C3_"
      },
      "outputs": [],
      "source": [
        "def no_backslash_d(inp):\n",
        "    pattern = \"\\\\D\"\n",
        "    index = inp.find(pattern)\n",
        "    if index < 0 or index + len(pattern) >= len(inp):\n",
        "        return True\n",
        "    c = inp[index + len(pattern)]\n",
        "    assert c in string.printable"
      ]
    },
    {
      "cell_type": "code",
      "execution_count": null,
      "metadata": {
        "button": false,
        "deletable": true,
        "execution": {
          "iopub.execute_input": "2023-01-07T14:36:40.995931Z",
          "iopub.status.busy": "2023-01-07T14:36:40.995584Z",
          "iopub.status.idle": "2023-01-07T14:36:40.997132Z",
          "shell.execute_reply": "2023-01-07T14:36:40.997390Z"
        },
        "new_sheet": false,
        "run_control": {
          "read_only": false
        },
        "solution2": "hidden",
        "id": "UhpQMmhp2C4A",
        "outputId": "5de6e3f2-0d96-4b39-c6e8-83648219d629"
      },
      "outputs": [
        {
          "name": "stderr",
          "output_type": "stream",
          "text": [
            "Traceback (most recent call last):\n",
            "  File \"/var/folders/n2/xd9445p97rb3xh7m1dfx8_4h0006ts/T/ipykernel_1242/1873852117.py\", line 2, in <cell line: 1>\n",
            "    no_backslash_d(\"\\\\D\\0\")\n",
            "  File \"/var/folders/n2/xd9445p97rb3xh7m1dfx8_4h0006ts/T/ipykernel_1242/2739137185.py\", line 7, in no_backslash_d\n",
            "    assert c in string.printable\n",
            "AssertionError (expected)\n"
          ]
        }
      ],
      "source": [
        "with ExpectError():\n",
        "    no_backslash_d(\"\\\\D\\0\")"
      ]
    },
    {
      "cell_type": "code",
      "execution_count": null,
      "metadata": {
        "button": false,
        "deletable": true,
        "execution": {
          "iopub.execute_input": "2023-01-07T14:36:41.000014Z",
          "iopub.status.busy": "2023-01-07T14:36:40.999615Z",
          "iopub.status.idle": "2023-01-07T14:36:41.000871Z",
          "shell.execute_reply": "2023-01-07T14:36:41.001068Z"
        },
        "new_sheet": false,
        "run_control": {
          "read_only": false
        },
        "solution2": "hidden",
        "id": "2NJ-onYX2C4A"
      },
      "outputs": [],
      "source": [
        "def no_8bit(inp):\n",
        "    for i in range(len(inp) - 1):\n",
        "        assert ord(inp[i]) <= 127 or inp[i + 1] != '\\n'\n",
        "    return True"
      ]
    },
    {
      "cell_type": "code",
      "execution_count": null,
      "metadata": {
        "button": false,
        "deletable": true,
        "execution": {
          "iopub.execute_input": "2023-01-07T14:36:41.003005Z",
          "iopub.status.busy": "2023-01-07T14:36:41.002226Z",
          "iopub.status.idle": "2023-01-07T14:36:41.004231Z",
          "shell.execute_reply": "2023-01-07T14:36:41.004441Z"
        },
        "new_sheet": false,
        "run_control": {
          "read_only": false
        },
        "solution2": "hidden",
        "id": "aIbAAgEu2C4A",
        "outputId": "51a7caa1-6a91-4402-db31-3bbbfe05ea60"
      },
      "outputs": [
        {
          "name": "stderr",
          "output_type": "stream",
          "text": [
            "Traceback (most recent call last):\n",
            "  File \"/var/folders/n2/xd9445p97rb3xh7m1dfx8_4h0006ts/T/ipykernel_1242/4044610929.py\", line 2, in <cell line: 1>\n",
            "    no_8bit(\"ä\\n\")\n",
            "  File \"/var/folders/n2/xd9445p97rb3xh7m1dfx8_4h0006ts/T/ipykernel_1242/986149540.py\", line 3, in no_8bit\n",
            "    assert ord(inp[i]) <= 127 or inp[i + 1] != '\\n'\n",
            "AssertionError (expected)\n"
          ]
        }
      ],
      "source": [
        "with ExpectError():\n",
        "    no_8bit(\"ä\\n\")"
      ]
    },
    {
      "cell_type": "code",
      "execution_count": null,
      "metadata": {
        "button": false,
        "deletable": true,
        "execution": {
          "iopub.execute_input": "2023-01-07T14:36:41.006293Z",
          "iopub.status.busy": "2023-01-07T14:36:41.005934Z",
          "iopub.status.idle": "2023-01-07T14:36:41.007481Z",
          "shell.execute_reply": "2023-01-07T14:36:41.007741Z"
        },
        "new_sheet": false,
        "run_control": {
          "read_only": false
        },
        "solution2": "hidden",
        "id": "qoRbUpWu2C4A"
      },
      "outputs": [],
      "source": [
        "def no_dot(inp):\n",
        "    assert inp != \".\\n\"\n",
        "    return True"
      ]
    },
    {
      "cell_type": "markdown",
      "metadata": {
        "button": false,
        "deletable": true,
        "new_sheet": false,
        "run_control": {
          "read_only": false
        },
        "solution2": "hidden",
        "solution2_first": true,
        "id": "QiMvoM4a2C4A"
      },
      "source": [
        "### Exercise 2: Run Simulated Troff\n",
        "\n",
        "Create a class `TroffRunner` as subclass of `Runner` that checks for the above predicates.  Run it with `Fuzzer`.  Be sure to have the `Fuzzer` object produce the entire range of characters.  Count how frequently the individual predicates fail."
      ]
    },
    {
      "cell_type": "markdown",
      "metadata": {
        "button": false,
        "deletable": true,
        "new_sheet": false,
        "run_control": {
          "read_only": false
        },
        "solution2": "hidden",
        "id": "JoC_fi1Z2C4A"
      },
      "source": [
        "**Solution.** Here's a simple example:"
      ]
    },
    {
      "cell_type": "code",
      "execution_count": null,
      "metadata": {
        "button": false,
        "deletable": true,
        "execution": {
          "iopub.execute_input": "2023-01-07T14:36:41.010970Z",
          "iopub.status.busy": "2023-01-07T14:36:41.010595Z",
          "iopub.status.idle": "2023-01-07T14:36:41.011855Z",
          "shell.execute_reply": "2023-01-07T14:36:41.012132Z"
        },
        "new_sheet": false,
        "run_control": {
          "read_only": false
        },
        "solution2": "hidden",
        "id": "D262eoRZ2C4A"
      },
      "outputs": [],
      "source": [
        "class TroffRunner(Runner):\n",
        "    def __init__(self):\n",
        "        self.no_backslash_d_failures = 0\n",
        "        self.no_8bit_failures = 0\n",
        "        self.no_dot_failures = 0\n",
        "\n",
        "    def run(self, inp):\n",
        "        try:\n",
        "            no_backslash_d(inp)\n",
        "        except AssertionError:\n",
        "            self.no_backslash_d_failures += 1\n",
        "\n",
        "        try:\n",
        "            no_8bit(inp)\n",
        "        except AssertionError:\n",
        "            self.no_8bit_failures += 1\n",
        "\n",
        "        try:\n",
        "            no_dot(inp)\n",
        "        except:\n",
        "            self.no_dot_failures += 1\n",
        "\n",
        "        return inp"
      ]
    },
    {
      "cell_type": "code",
      "execution_count": null,
      "metadata": {
        "button": false,
        "deletable": true,
        "execution": {
          "iopub.execute_input": "2023-01-07T14:36:41.014506Z",
          "iopub.status.busy": "2023-01-07T14:36:41.014156Z",
          "iopub.status.idle": "2023-01-07T14:36:41.015191Z",
          "shell.execute_reply": "2023-01-07T14:36:41.015550Z"
        },
        "new_sheet": false,
        "run_control": {
          "read_only": false
        },
        "solution2": "hidden",
        "id": "IdYZwJCB2C4A"
      },
      "outputs": [],
      "source": [
        "random_fuzzer = RandomFuzzer(char_start=0, char_range=256, max_length=10)\n",
        "troff_runner = TroffRunner()"
      ]
    },
    {
      "cell_type": "code",
      "execution_count": null,
      "metadata": {
        "button": false,
        "deletable": true,
        "execution": {
          "iopub.execute_input": "2023-01-07T14:36:41.123016Z",
          "iopub.status.busy": "2023-01-07T14:36:41.079610Z",
          "iopub.status.idle": "2023-01-07T14:36:41.665763Z",
          "shell.execute_reply": "2023-01-07T14:36:41.666195Z"
        },
        "new_sheet": false,
        "run_control": {
          "read_only": false
        },
        "solution2": "hidden",
        "id": "aKzUf2-Z2C4A"
      },
      "outputs": [],
      "source": [
        "trials = 100000\n",
        "for i in range(trials):\n",
        "    random_fuzzer.run(troff_runner)"
      ]
    },
    {
      "cell_type": "code",
      "execution_count": null,
      "metadata": {
        "button": false,
        "deletable": true,
        "execution": {
          "iopub.execute_input": "2023-01-07T14:36:41.668639Z",
          "iopub.status.busy": "2023-01-07T14:36:41.667737Z",
          "iopub.status.idle": "2023-01-07T14:36:41.670342Z",
          "shell.execute_reply": "2023-01-07T14:36:41.670643Z"
        },
        "new_sheet": false,
        "run_control": {
          "read_only": false
        },
        "solution2": "hidden",
        "id": "2XWMA_Dm2C4A",
        "outputId": "2d283ce4-5d0a-465c-a864-01e084f039c7"
      },
      "outputs": [
        {
          "data": {
            "text/plain": [
              "5"
            ]
          },
          "execution_count": 103,
          "metadata": {},
          "output_type": "execute_result"
        }
      ],
      "source": [
        "troff_runner.no_backslash_d_failures"
      ]
    },
    {
      "cell_type": "code",
      "execution_count": null,
      "metadata": {
        "button": false,
        "deletable": true,
        "execution": {
          "iopub.execute_input": "2023-01-07T14:36:41.672978Z",
          "iopub.status.busy": "2023-01-07T14:36:41.672507Z",
          "iopub.status.idle": "2023-01-07T14:36:41.674123Z",
          "shell.execute_reply": "2023-01-07T14:36:41.674365Z"
        },
        "new_sheet": false,
        "run_control": {
          "read_only": false
        },
        "solution2": "hidden",
        "id": "WWUDakby2C4A",
        "outputId": "8674bf88-680b-4f12-b9c7-b5d2f8cc5033"
      },
      "outputs": [
        {
          "data": {
            "text/plain": [
              "1717"
            ]
          },
          "execution_count": 104,
          "metadata": {},
          "output_type": "execute_result"
        }
      ],
      "source": [
        "troff_runner.no_8bit_failures"
      ]
    },
    {
      "cell_type": "code",
      "execution_count": null,
      "metadata": {
        "button": false,
        "deletable": true,
        "execution": {
          "iopub.execute_input": "2023-01-07T14:36:41.676521Z",
          "iopub.status.busy": "2023-01-07T14:36:41.676143Z",
          "iopub.status.idle": "2023-01-07T14:36:41.677799Z",
          "shell.execute_reply": "2023-01-07T14:36:41.678157Z"
        },
        "new_sheet": false,
        "run_control": {
          "read_only": false
        },
        "solution2": "hidden",
        "id": "jRAUTOtc2C4A",
        "outputId": "fb722d79-1644-46f2-aaac-cd2a2a960561"
      },
      "outputs": [
        {
          "data": {
            "text/plain": [
              "0"
            ]
          },
          "execution_count": 105,
          "metadata": {},
          "output_type": "execute_result"
        }
      ],
      "source": [
        "troff_runner.no_dot_failures"
      ]
    },
    {
      "cell_type": "code",
      "execution_count": null,
      "metadata": {
        "button": false,
        "deletable": true,
        "execution": {
          "iopub.execute_input": "2023-01-07T14:36:41.681981Z",
          "iopub.status.busy": "2023-01-07T14:36:41.681448Z",
          "iopub.status.idle": "2023-01-07T14:36:42.050642Z",
          "shell.execute_reply": "2023-01-07T14:36:42.050973Z"
        },
        "new_sheet": false,
        "run_control": {
          "read_only": false
        },
        "solution2": "hidden",
        "id": "Z-MQu1tN2C4B",
        "outputId": "6f643c2e-f3d3-49ca-bfba-a9d292ca972f"
      },
      "outputs": [
        {
          "data": {
            "image/png": "[encoded data removed]",
            "text/plain": [
              "<Figure size 432x288 with 1 Axes>"
            ]
          },
          "metadata": {
            "needs_background": "light"
          },
          "output_type": "display_data"
        }
      ],
      "source": [
        "%matplotlib inline\n",
        "\n",
        "ys = [troff_runner.no_backslash_d_failures,\n",
        "      troff_runner.no_8bit_failures,\n",
        "      troff_runner.no_dot_failures]\n",
        "\n",
        "import matplotlib.pyplot as plt\n",
        "plt.bar([\"\\\\D\", \"8bit\", \"dot\"], ys)\n",
        "plt.title(\"Occurrences of error classes\");"
      ]
    },
    {
      "cell_type": "markdown",
      "metadata": {
        "button": false,
        "deletable": true,
        "new_sheet": false,
        "run_control": {
          "read_only": false
        },
        "solution2": "hidden",
        "id": "g3s0-bHu2C4B"
      },
      "source": [
        "Again, we can see that some inputs (such as the single dot) are very improbable."
      ]
    },
    {
      "cell_type": "markdown",
      "metadata": {
        "button": false,
        "deletable": true,
        "new_sheet": false,
        "run_control": {
          "read_only": false
        },
        "id": "j6MwGE6K2C4B"
      },
      "source": [
        "### Exercise 3: Run Real Troff"
      ]
    },
    {
      "cell_type": "markdown",
      "metadata": {
        "button": false,
        "deletable": true,
        "new_sheet": false,
        "run_control": {
          "read_only": false
        },
        "solution2": "hidden",
        "solution2_first": true,
        "id": "FrkQJGPY2C4B"
      },
      "source": [
        "Using `BinaryProgramRunner`, apply the fuzzer you configured on the real `troff` program.  Check if you can produce any run whose output code is non-zero, indicating a failure or a crash."
      ]
    },
    {
      "cell_type": "markdown",
      "metadata": {
        "button": false,
        "deletable": true,
        "new_sheet": false,
        "run_control": {
          "read_only": false
        },
        "solution2": "hidden",
        "id": "GDU0vEcu2C4B"
      },
      "source": [
        "**Solution.** This is just a matter of putting pieces together."
      ]
    },
    {
      "cell_type": "code",
      "execution_count": null,
      "metadata": {
        "button": false,
        "deletable": true,
        "execution": {
          "iopub.execute_input": "2023-01-07T14:36:42.053856Z",
          "iopub.status.busy": "2023-01-07T14:36:42.053488Z",
          "iopub.status.idle": "2023-01-07T14:36:44.531973Z",
          "shell.execute_reply": "2023-01-07T14:36:44.532306Z"
        },
        "new_sheet": false,
        "run_control": {
          "read_only": false
        },
        "solution2": "hidden",
        "id": "8iahhp2R2C4B"
      },
      "outputs": [],
      "source": [
        "real_troff_runner = BinaryProgramRunner(\"troff\")\n",
        "for i in range(100):\n",
        "    result, outcome = random_fuzzer.run(real_troff_runner)\n",
        "    if outcome == Runner.FAIL:\n",
        "        print(result)"
      ]
    },
    {
      "cell_type": "markdown",
      "metadata": {
        "button": false,
        "deletable": true,
        "new_sheet": false,
        "run_control": {
          "read_only": false
        },
        "solution2": "hidden",
        "id": "KFarTNvg2C4B"
      },
      "source": [
        "Unfortunately, it is very unlikely that you'll find a bug in `troff` at this point.  Like most other open source code, it has been fuzzed this way before – and all errors found are already fixed."
      ]
    }
  ],
  "metadata": {
    "ipub": {
      "bibliography": "fuzzingbook.bib",
      "toc": true
    },
    "kernelspec": {
      "display_name": "Python 3 (ipykernel)",
      "language": "python",
      "name": "python3"
    },
    "language_info": {
      "codemirror_mode": {
        "name": "ipython",
        "version": 3
      },
      "file_extension": ".py",
      "mimetype": "text/x-python",
      "name": "python",
      "nbconvert_exporter": "python",
      "pygments_lexer": "ipython3",
      "version": "3.10.2"
    },
    "toc": {
      "base_numbering": 1,
      "nav_menu": {},
      "number_sections": true,
      "sideBar": true,
      "skip_h1_title": true,
      "title_cell": "",
      "title_sidebar": "Contents",
      "toc_cell": false,
      "toc_position": {},
      "toc_section_display": true,
      "toc_window_display": true
    },
    "toc-autonumbering": false,
    "colab": {
      "provenance": [],
      "include_colab_link": true
    }
  },
  "nbformat": 4,
  "nbformat_minor": 0
}