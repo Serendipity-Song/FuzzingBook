{
  "nbformat": 4,
  "nbformat_minor": 0,
  "metadata": {
    "colab": {
      "provenance": [],
      "authorship_tag": "ABX9TyPt/LbiO3bAMBEILjk5pzGj",
      "include_colab_link": true
    },
    "kernelspec": {
      "name": "python3",
      "display_name": "Python 3"
    },
    "language_info": {
      "name": "python"
    }
  },
  "cells": [
    {
      "cell_type": "markdown",
      "metadata": {
        "id": "view-in-github",
        "colab_type": "text"
      },
      "source": [
        "<a href=\"https://colab.research.google.com/github/Serendipity-Song/FuzzingBook/blob/main/FuzzingBook.ipynb\" target=\"_parent\"><img src=\"https://colab.research.google.com/assets/colab-badge.svg\" alt=\"Open In Colab\"/></a>"
      ]
    },
    {
      "cell_type": "code",
      "execution_count": 14,
      "metadata": {
        "colab": {
          "base_uri": "https://localhost:8080/"
        },
        "id": "uydjTlQ2X0Jp",
        "outputId": "62f82f70-6278-4231-dac8-7cad3bd1dfa6"
      },
      "outputs": [
        {
          "output_type": "stream",
          "name": "stdout",
          "text": [
            "The root of 4 is 2.0\n"
          ]
        }
      ],
      "source": [
        "def sqrt_program(arg: str) -> None:\n",
        "    x = int(arg)\n",
        "    print('The root of', x, 'is', my_sqrt(x))\n",
        "\n",
        "sqrt_program(\"4\")"
      ]
    },
    {
      "cell_type": "code",
      "source": [
        "import random\n",
        "\n",
        "def fuzzer(max_length: int = 100, char_start: int = 32, char_range: int = 32) -> str:\n",
        "    \"\"\"A string of up to `max_length` characters\n",
        "       in the range [`char_start`, `char_start` + `char_range`)\"\"\"\n",
        "    string_length = random.randrange(0, max_length + 1)\n",
        "    out = \"\"\n",
        "    for i in range(0, string_length):\n",
        "        out += chr(random.randrange(char_start, char_start + char_range))\n",
        "    return out\n",
        "\n",
        "fuzzer(100, ord('0'), 10)"
      ],
      "metadata": {
        "colab": {
          "base_uri": "https://localhost:8080/",
          "height": 36
        },
        "id": "YfPIAvwkaiG5",
        "outputId": "a73a10fa-ad79-49d0-d228-b28688a98ec9"
      },
      "execution_count": null,
      "outputs": [
        {
          "output_type": "execute_result",
          "data": {
            "text/plain": [
              "'58230329337610619813353'"
            ],
            "application/vnd.google.colaboratory.intrinsic+json": {
              "type": "string"
            }
          },
          "metadata": {},
          "execution_count": 3
        }
      ]
    },
    {
      "cell_type": "code",
      "source": [
        "def shellsort(elems):\n",
        "    sorted_elems = elems.copy()\n",
        "    gaps = [701, 301, 132, 57, 23, 10, 4, 1]\n",
        "    for gap in gaps:\n",
        "        for i in range(gap, len(sorted_elems)):\n",
        "            temp = sorted_elems[i]\n",
        "            j = i\n",
        "            while j >= gap and sorted_elems[j - gap] > temp:\n",
        "                sorted_elems[j] = sorted_elems[j - gap]\n",
        "                j -= gap\n",
        "            sorted_elems[j] = temp\n",
        "\n",
        "    return sorted_elems\n",
        "\n",
        "shellsort([3,2,1])"
      ],
      "metadata": {
        "colab": {
          "base_uri": "https://localhost:8080/"
        },
        "id": "ZPyptiv8bfbo",
        "outputId": "22822987-7206-4cd4-d814-7765856469f8"
      },
      "execution_count": null,
      "outputs": [
        {
          "output_type": "execute_result",
          "data": {
            "text/plain": [
              "[1, 2, 3]"
            ]
          },
          "metadata": {},
          "execution_count": 4
        }
      ]
    },
    {
      "cell_type": "code",
      "source": [
        "def my_sqrt(x):\n",
        "    \"\"\"Computes the square root of x, using the Newton-Raphson method\"\"\"\n",
        "    approx = None\n",
        "    guess = x / 2\n",
        "    while approx != guess:\n",
        "        approx = guess\n",
        "        guess = (approx + x / approx) / 2\n",
        "    return approx\n",
        "\n",
        "def my_sqrt_fixed(x):\n",
        "    assert 0 <= x\n",
        "    if x == 0:\n",
        "        return 0\n",
        "    return my_sqrt(x)\n",
        "\n",
        "def quadratic_solver(a, b, c):\n",
        "    q = b * b - 4 * a * c\n",
        "    solution_1 = (-b + my_sqrt_fixed(q)) / (2 * a)\n",
        "    solution_2 = (-b - my_sqrt_fixed(q)) / (2 * a)\n",
        "    return (solution_1, solution_2)\n",
        "\n",
        "quadratic_solver(3, 4, 1)\n",
        "\n",
        "\n",
        "# Fuzz : 나누는 수가 0일 경우, my_squt_fixed가 정의되지 않을 경우"
      ],
      "metadata": {
        "colab": {
          "base_uri": "https://localhost:8080/"
        },
        "id": "ruxhOK4rdBgJ",
        "outputId": "4b7c5ca7-082d-4bd0-d792-dc45cfb7cb14"
      },
      "execution_count": null,
      "outputs": [
        {
          "output_type": "execute_result",
          "data": {
            "text/plain": [
              "(-0.3333333333333333, -1.0)"
            ]
          },
          "metadata": {},
          "execution_count": 9
        }
      ]
    },
    {
      "cell_type": "markdown",
      "source": [
        "Debugging a Function"
      ],
      "metadata": {
        "id": "zfdUuInHikww"
      }
    },
    {
      "cell_type": "code",
      "source": [
        "def my_sqrt_with_log(x):\n",
        "    \"\"\"Computes the square root of x, using the Newton–Raphson method\"\"\"\n",
        "    approx = None\n",
        "    guess = x / 2\n",
        "    while approx != guess:\n",
        "        print(\"approx =\", approx)  # <-- New\n",
        "        approx = guess\n",
        "        guess = (approx + x / approx) / 2\n",
        "    return approx\n",
        "\n",
        "my_sqrt_with_log(9)"
      ],
      "metadata": {
        "colab": {
          "base_uri": "https://localhost:8080/"
        },
        "id": "g0G4rETghpOm",
        "outputId": "9302eaea-9c37-43da-908a-436edb2ff322"
      },
      "execution_count": null,
      "outputs": [
        {
          "output_type": "stream",
          "name": "stdout",
          "text": [
            "approx = None\n",
            "approx = 4.5\n",
            "approx = 3.25\n",
            "approx = 3.0096153846153846\n",
            "approx = 3.000015360039322\n",
            "approx = 3.0000000000393214\n"
          ]
        },
        {
          "output_type": "execute_result",
          "data": {
            "text/plain": [
              "3.0"
            ]
          },
          "metadata": {},
          "execution_count": 10
        }
      ]
    }
  ]
}